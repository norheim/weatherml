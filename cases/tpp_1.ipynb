{
 "cells": [
  {
   "cell_type": "code",
   "execution_count": 1,
   "metadata": {
    "execution": {
     "iopub.execute_input": "2020-12-08T11:08:30.223000+01:00",
     "iopub.status.busy": "2020-12-08T11:08:28.912000+01:00",
     "iopub.status.idle": "2020-12-08T11:09:04.981000+01:00"
    }
   },
   "outputs": [],
   "source": [
    "include(\"../runsetup_tpp.jl\");"
   ]
  },
  {
   "cell_type": "code",
   "execution_count": 4,
   "metadata": {
    "execution": {
     "iopub.execute_input": "2020-12-08T11:09:19.898000+01:00",
     "iopub.status.busy": "2020-12-08T11:09:19.898000+01:00",
     "iopub.status.idle": "2020-12-08T11:09:20.277000+01:00"
    }
   },
   "outputs": [],
   "source": [
    "# Training data\n",
    "start = 2018, 1, 2\n",
    "dayslookback = 7\n",
    "ndays = 365-dayslookback-1\n",
    "predicttype = :temp\n",
    "offset = 1\n",
    "\n",
    "X, y = build_multi_data(mdata, predicttype, start, dayslookback, \n",
    "    ndays; offset=offset);\n",
    "\n",
    "(train_X, train_y), (test_X, test_y) = IAI.split_data(:regression, X, y);"
   ]
  },
  {
   "cell_type": "code",
   "execution_count": 6,
   "metadata": {
    "execution": {
     "iopub.execute_input": "2020-12-08T11:10:35.133000+01:00",
     "iopub.status.busy": "2020-12-08T11:10:35.133000+01:00",
     "iopub.status.idle": "2020-12-08T11:33:54.012000+01:00"
    }
   },
   "outputs": [
    {
     "name": "stderr",
     "output_type": "stream",
     "text": [
      "┌ Warning: This copy of Interpretable AI software is for academic purposes only and not for commercial use.\n",
      "└ @ IAILicensing C:\\Users\\iai\\builds\\InterpretableAI\\SysImgBuilder\\.julia\\packages\\IAILicensing\\x1CT6\\src\\precompile.jl:19\n",
      "┌ Warning: Interpretable AI license expires soon: 2020-12-31. If you need to renew, please send us the following machine ID:\n",
      "│ 1d23b3eee464c21ff412aa6a5b247b9f0543ded03e05d39d863fbfc9241e7a1f\n",
      "└ @ IAILicensing C:\\Users\\iai\\builds\\InterpretableAI\\SysImgBuilder\\.julia\\packages\\IAILicensing\\x1CT6\\src\\precompile.jl:29\n"
     ]
    },
    {
     "name": "stdout",
     "output_type": "stream",
     "text": [
      "1392.089807 seconds (27.57 M allocations: 1.653 GiB, 0.14% gc time)\n"
     ]
    },
    {
     "data": {
      "text/plain": [
       "All Grid Results:\n",
       "\n",
       "│ Row │ show_progress │ cp         │ train_score │ valid_score │\n",
       "│     │ \u001b[90mBool\u001b[39m          │ \u001b[90mFloat64\u001b[39m    │ \u001b[90mFloat64\u001b[39m     │ \u001b[90mFloat64\u001b[39m     │\n",
       "├─────┼───────────────┼────────────┼─────────────┼─────────────┤\n",
       "│ 1   │ false         │ 5.44387e-5 │ 0.98864     │ 0.988656    │\n",
       "\n",
       "│ Row │ rank_valid_score │\n",
       "│     │ \u001b[90mInt64\u001b[39m            │\n",
       "├─────┼──────────────────┤\n",
       "│ 1   │ 1                │\n",
       "\n",
       "Best Params:\n",
       "  cp => 5.443874461265926e-5\n",
       "  show_progress => false\n",
       "\n",
       "Best Model - Fitted OptimalTreeRegressor:\n",
       "  1) Split: x502 < 57.58\n",
       "    2) Split: x502 < 39.58\n",
       "      3) Split: x502 < 29.5\n",
       "        4) Split: x502 < 22.5\n",
       "          5) Split: x502 < 17.5\n",
       "            6) Predict: 14.93, 45 points, error 179.5\n",
       "            7) Predict: 20.54, 73 points, error 237.3\n",
       "          8) Split: x502 < 26.25\n",
       "            9) Predict: 24.89, 126 points, error 312.4\n",
       "            10) Predict: 28.14, 156 points, error 395.6\n",
       "        11) Split: x502 < 34.25\n",
       "          12) Split: x502 < 32.13\n",
       "            13) Predict: 31.27, 287 points, error 592.8\n",
       "            14) Predict: 33.58, 249 points, error 382.1\n",
       "          15) Split: x502 < 37.17\n",
       "            16) Predict: 36.19, 360 points, error 822.9\n",
       "            17) Predict: 38.46, 320 points, error 791.4\n",
       "      18) Split: x502 < 49.13\n",
       "        19) Split: x502 < 44.63\n",
       "          20) Split: x502 < 42.13\n",
       "            21) Predict: 40.88, 358 points, error 882.6\n",
       "            22) Predict: 43.49, 211 points, error 564.6\n",
       "          23) Split: x502 < 47.71\n",
       "            24) Predict: 46.03, 303 points, error 987.6\n",
       "            25) Predict: 48.49, 208 points, error 472.8\n",
       "        26) Split: x502 < 55.13\n",
       "          27) Split: x502 < 52.29\n",
       "            28) Predict: 50.97, 304 points, error 820.9\n",
       "            29) Predict: 53.95, 259 points, error 1062\n",
       "          30) Predict: 56.48, 160 points, error 704\n",
       "    31) Split: x502 < 71.29\n",
       "      32) Split: x502 < 68.86\n",
       "        33) Split: x502 < 62.58\n",
       "          34) Split: x502 < 60.29\n",
       "            35) Predict: 58.94, 253 points, error 723.1\n",
       "            36) Predict: 61.64, 215 points, error 692.5\n",
       "          37) Split: x502 < 65.88\n",
       "            38) Predict: 64.2, 252 points, error 1005.4\n",
       "            39) Predict: 67.19, 297 points, error 900.7\n",
       "        40) Split: x502 < 70.29\n",
       "          41) Split: x253 < 48\n",
       "            42) Predict: 65.32, 11 points, error 457.1\n",
       "            43) Predict: 69.74, 253 points, error 695.1\n",
       "          44) Predict: 71.13, 116 points, error 271\n",
       "      45) Split: x502 < 84.86\n",
       "        46) Split: x502 < 76.42\n",
       "          47) Split: x502 < 73.42\n",
       "            48) Predict: 72.49, 216 points, error 793.2\n",
       "            49) Predict: 75.05, 292 points, error 1514.3\n",
       "          50) Split: x502 < 80.42\n",
       "            51) Predict: 78.14, 293 points, error 1756.9\n",
       "            52) Predict: 82.15, 196 points, error 1254.5\n",
       "        53) Split: x502 < 88.75\n",
       "          54) Split: x507 < 13.5\n",
       "            55) Predict: 87.31, 45 points, error 205.6\n",
       "            56) Predict: 84.07, 60 points, error 481\n",
       "          57) Split: x502 < 92.5\n",
       "            58) Predict: 89.66, 45 points, error 334.7\n",
       "            59) Predict: 93.93, 35 points, error 119.5"
      ]
     },
     "execution_count": 6,
     "metadata": {},
     "output_type": "execute_result"
    }
   ],
   "source": [
    "# training\n",
    "@time begin\n",
    "grid = IAI.GridSearch(\n",
    "    IAI.OptimalTreeRegressor(\n",
    "        random_seed=123,\n",
    "        max_depth = 5,\n",
    "        minbucket = 10,\n",
    "        show_progress=false\n",
    "    ),\n",
    "    show_progress=false  \n",
    ")\n",
    "IAI.fit!(grid, train_X, train_y)\n",
    "end"
   ]
  },
  {
   "cell_type": "code",
   "execution_count": 7,
   "metadata": {
    "execution": {
     "iopub.execute_input": "2020-12-08T13:02:37.130000+01:00",
     "iopub.status.busy": "2020-12-08T13:02:37.026000+01:00",
     "iopub.status.idle": "2020-12-08T13:02:43.006000+01:00"
    }
   },
   "outputs": [
    {
     "data": {
      "text/plain": [
       "([40.0 0.0 … 8.0 0.0; 40.0 0.0 … 8.0 1.0; … ; 53.0 0.0 … 2.0 22.0; 53.0 0.0 … 2.0 23.0], [36.6667, 36.0, 36.0, 36.0, 36.0, 35.0, 34.0, 35.0, 34.0, 36.0  …  40.0, 39.0, 38.0, 37.0, 36.0, 35.0, 35.0, 35.0, 34.0, 35.0])"
      ]
     },
     "execution_count": 7,
     "metadata": {},
     "output_type": "execute_result"
    }
   ],
   "source": [
    "lnr = IAI.get_learner(grid)\n",
    "score = IAI.score(lnr, test_X, test_y) \n",
    "\n",
    "# Testing data\n",
    "start1 = 2019, 1, 1\n",
    "ndays = 365-dayslookback-1\n",
    "test_X1, test_y1 = build_multi_data(mdata, predicttype, start1, dayslookback,\n",
    " ndays; offset=offset);\n",
    "\n",
    "start2 = 2020, 1, 1\n",
    "ndays = 300 # since we don't have days until the end\n",
    "test_X2, test_y2 = build_multi_data(mdata, predicttype, start2, dayslookback, \n",
    "    ndays; offset=offset)"
   ]
  },
  {
   "cell_type": "code",
   "execution_count": 8,
   "metadata": {
    "execution": {
     "iopub.execute_input": "2020-12-08T13:02:51.490000+01:00",
     "iopub.status.busy": "2020-12-08T13:02:51.490000+01:00",
     "iopub.status.idle": "2020-12-08T13:02:52.168000+01:00"
    }
   },
   "outputs": [
    {
     "data": {
      "text/plain": [
       "0.9848936277971732"
      ]
     },
     "execution_count": 8,
     "metadata": {},
     "output_type": "execute_result"
    }
   ],
   "source": [
    "score1 = IAI.score(lnr, test_X1, test_y1)  \n",
    "score2 = IAI.score(lnr, test_X2, test_y2)"
   ]
  },
  {
   "cell_type": "code",
   "execution_count": 10,
   "metadata": {
    "execution": {
     "iopub.execute_input": "2020-12-08T13:03:19.715000+01:00",
     "iopub.status.busy": "2020-12-08T13:03:19.715000+01:00",
     "iopub.status.idle": "2020-12-08T13:03:19.719000+01:00"
    }
   },
   "outputs": [
    {
     "data": {
      "text/plain": [
       "0.9880997546283009"
      ]
     },
     "execution_count": 10,
     "metadata": {},
     "output_type": "execute_result"
    }
   ],
   "source": [
    "score1"
   ]
  },
  {
   "cell_type": "code",
   "execution_count": null,
   "metadata": {},
   "outputs": [],
   "source": []
  }
 ],
 "metadata": {
  "kernelspec": {
   "display_name": "Julia 1.0.5",
   "language": "julia",
   "name": "julia-1.0"
  },
  "language_info": {
   "file_extension": ".jl",
   "mimetype": "application/julia",
   "name": "julia",
   "version": "1.0.5"
  }
 },
 "nbformat": 4,
 "nbformat_minor": 4
}
