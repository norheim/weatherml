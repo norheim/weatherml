{
 "cells": [
  {
   "cell_type": "code",
   "execution_count": 1,
   "metadata": {
    "execution": {
     "iopub.execute_input": "2020-12-09T10:13:14.698000+01:00",
     "iopub.status.busy": "2020-12-09T10:13:12.624000+01:00",
     "iopub.status.idle": "2020-12-09T10:13:58.197000+01:00"
    }
   },
   "outputs": [],
   "source": [
    "using CSV\n",
    "include(\"../runsetup_tpp.jl\");"
   ]
  },
  {
   "cell_type": "code",
   "execution_count": 2,
   "metadata": {
    "execution": {
     "iopub.execute_input": "2020-12-09T10:14:01.474000+01:00",
     "iopub.status.busy": "2020-12-09T10:13:58.197000+01:00",
     "iopub.status.idle": "2020-12-09T10:14:07.088000+01:00"
    }
   },
   "outputs": [],
   "source": [
    "# Training data\n",
    "start = 2018, 1, 2\n",
    "dayslookback = 7\n",
    "ndays = 365-dayslookback-1\n",
    "predicttype = :temp\n",
    "offsets = [1,7,13,19,25];"
   ]
  },
  {
   "cell_type": "code",
   "execution_count": 3,
   "metadata": {
    "execution": {
     "iopub.execute_input": "2020-12-09T10:14:07.089000+01:00",
     "iopub.status.busy": "2020-12-09T10:14:07.088000+01:00",
     "iopub.status.idle": "2020-12-09T10:14:07.972000+01:00"
    }
   },
   "outputs": [
    {
     "data": {
      "text/plain": [
       "run_training (generic function with 1 method)"
      ]
     },
     "execution_count": 3,
     "metadata": {},
     "output_type": "execute_result"
    }
   ],
   "source": [
    "function run_training(offset)\n",
    "    X, y = build_multi_data(mdata, predicttype, start, dayslookback, ndays; offset=offset)\n",
    "    (train_X, train_y), (test_X, test_y) = IAI.split_data(:regression, X, y; seed=123)\n",
    "    grid = IAI.GridSearch(\n",
    "        IAI.OptimalTreeRegressor(\n",
    "            random_seed=123,\n",
    "            max_depth = 5,\n",
    "            minbucket = 10,\n",
    "            show_progress=false\n",
    "        ),\n",
    "    show_progress=false  \n",
    "    )\n",
    "    IAI.fit!(grid, train_X, train_y)\n",
    "    lnr = IAI.get_learner(grid)\n",
    "    IAI.write_json(string(\"tpp_depth5_\",offset,\".json\"), lnr)\n",
    "end"
   ]
  },
  {
   "cell_type": "code",
   "execution_count": 4,
   "metadata": {
    "execution": {
     "iopub.execute_input": "2020-12-09T10:14:07.973000+01:00",
     "iopub.status.busy": "2020-12-09T10:14:07.972000+01:00",
     "iopub.status.idle": "2020-12-09T12:30:04.340000+01:00"
    }
   },
   "outputs": [
    {
     "name": "stderr",
     "output_type": "stream",
     "text": [
      "┌ Warning: This copy of Interpretable AI software is for academic purposes only and not for commercial use.\n",
      "└ @ IAILicensing C:\\Users\\iai\\builds\\InterpretableAI\\SysImgBuilder\\.julia\\packages\\IAILicensing\\x1CT6\\src\\precompile.jl:19\n",
      "┌ Warning: Interpretable AI license expires soon: 2020-12-31. If you need to renew, please send us the following machine ID:\n",
      "│ 1d23b3eee464c21ff412aa6a5b247b9f0543ded03e05d39d863fbfc9241e7a1f\n",
      "└ @ IAILicensing C:\\Users\\iai\\builds\\InterpretableAI\\SysImgBuilder\\.julia\\packages\\IAILicensing\\x1CT6\\src\\precompile.jl:29\n"
     ]
    },
    {
     "name": "stdout",
     "output_type": "stream",
     "text": [
      "1 1489.7886659\n",
      "2 943.1893876\n",
      "3 2541.5330314\n",
      "4 1520.1659457\n",
      "5 1645.8399788\n"
     ]
    }
   ],
   "source": [
    "CSV.write(\"tpp_depth5_timings.csv\", DataFrame(t=[]), delim = ';')\n",
    "for (idx, offset) in enumerate(offsets)\n",
    "    t = @elapsed run_training(offset)\n",
    "    println(idx, \" \", t)\n",
    "    df = DataFrame(t=[t])\n",
    "    CSV.write(\"tpp_depth5_timings.csv\", df, delim = ';',append=true)\n",
    "end"
   ]
  },
  {
   "cell_type": "code",
   "execution_count": 9,
   "metadata": {
    "execution": {
     "iopub.execute_input": "2020-12-09T16:20:08.840000+01:00",
     "iopub.status.busy": "2020-12-09T16:20:08.840000+01:00",
     "iopub.status.idle": "2020-12-09T16:20:08.937000+01:00"
    }
   },
   "outputs": [
    {
     "data": {
      "text/plain": [
       "extract_data (generic function with 1 method)"
      ]
     },
     "execution_count": 9,
     "metadata": {},
     "output_type": "execute_result"
    }
   ],
   "source": [
    "function extract_data(name)\n",
    "    start = 2018, 1, 2\n",
    "    dayslookback = 7\n",
    "    ndays = 365-dayslookback-1\n",
    "    predicttype = :temp\n",
    "    offsets = [1,7,13,19,25];\n",
    "    \n",
    "    df = DataFrame(score_is=[], score_oos=[], score1=[], score2=[]);\n",
    "    for (idx, offset) in enumerate(offsets)\n",
    "        X, y = build_multi_data(mdata, predicttype, start, dayslookback, ndays; offset=offset)\n",
    "        (train_X, train_y), (test_X, test_y) = IAI.split_data(:regression, X, y; seed=123)\n",
    "        lnr = IAI.read_json(string(name,offset,\".json\"))\n",
    "        score = IAI.score(lnr, test_X, test_y) \n",
    "\n",
    "        # Testing data\n",
    "        start1 = 2019, 1, 1\n",
    "        ndays = 365-dayslookback-1\n",
    "        test_X1, test_y1 = build_multi_data(mdata, predicttype, start1, dayslookback,\n",
    "         ndays; offset=offset);\n",
    "\n",
    "        start2 = 2020, 1, 1\n",
    "        ndays = 300 # since we don't have days until the end\n",
    "        test_X2, test_y2 = build_multi_data(mdata, predicttype, start2, dayslookback, \n",
    "            ndays; offset=offset)\n",
    "\n",
    "        score_is = IAI.score(lnr, train_X, train_y)\n",
    "        score_oos = IAI.score(lnr, test_X, test_y)\n",
    "        score1 = IAI.score(lnr, test_X1, test_y1)  \n",
    "        score2 = IAI.score(lnr, test_X2, test_y2)\n",
    "        push!(df,[score_is, score_oos, score1, score2])\n",
    "    end\n",
    "    return df\n",
    "end"
   ]
  },
  {
   "cell_type": "code",
   "execution_count": 12,
   "metadata": {
    "execution": {
     "iopub.execute_input": "2020-12-09T16:21:34.442000+01:00",
     "iopub.status.busy": "2020-12-09T16:21:34.442000+01:00",
     "iopub.status.idle": "2020-12-09T16:22:14.252000+01:00"
    }
   },
   "outputs": [
    {
     "data": {
      "text/html": [
       "<table class=\"data-frame\"><thead><tr><th></th><th>score_is</th><th>score_oos</th><th>score1</th><th>score2</th></tr><tr><th></th><th>Any</th><th>Any</th><th>Any</th><th>Any</th></tr></thead><tbody><p>5 rows × 4 columns</p><tr><th>1</th><td>0.989403</td><td>0.988495</td><td>0.987716</td><td>0.985291</td></tr><tr><th>2</th><td>0.897678</td><td>0.893697</td><td>0.87149</td><td>0.839694</td></tr><tr><th>3</th><td>0.867718</td><td>0.859407</td><td>0.809792</td><td>0.752408</td></tr><tr><th>4</th><td>0.854838</td><td>0.843922</td><td>0.788519</td><td>0.75802</td></tr><tr><th>5</th><td>0.843706</td><td>0.841503</td><td>0.760264</td><td>0.706415</td></tr></tbody></table>"
      ],
      "text/latex": [
       "\\begin{tabular}{r|cccc}\n",
       "\t& score\\_is & score\\_oos & score1 & score2\\\\\n",
       "\t\\hline\n",
       "\t& Any & Any & Any & Any\\\\\n",
       "\t\\hline\n",
       "\t1 & 0.989403 & 0.988495 & 0.987716 & 0.985291 \\\\\n",
       "\t2 & 0.897678 & 0.893697 & 0.87149 & 0.839694 \\\\\n",
       "\t3 & 0.867718 & 0.859407 & 0.809792 & 0.752408 \\\\\n",
       "\t4 & 0.854838 & 0.843922 & 0.788519 & 0.75802 \\\\\n",
       "\t5 & 0.843706 & 0.841503 & 0.760264 & 0.706415 \\\\\n",
       "\\end{tabular}\n"
      ],
      "text/plain": [
       "5×4 DataFrame\n",
       "│ Row │ score_is │ score_oos │ score1   │ score2   │\n",
       "│     │ \u001b[90mAny\u001b[39m      │ \u001b[90mAny\u001b[39m       │ \u001b[90mAny\u001b[39m      │ \u001b[90mAny\u001b[39m      │\n",
       "├─────┼──────────┼───────────┼──────────┼──────────┤\n",
       "│ 1   │ 0.989403 │ 0.988495  │ 0.987716 │ 0.985291 │\n",
       "│ 2   │ 0.897678 │ 0.893697  │ 0.87149  │ 0.839694 │\n",
       "│ 3   │ 0.867718 │ 0.859407  │ 0.809792 │ 0.752408 │\n",
       "│ 4   │ 0.854838 │ 0.843922  │ 0.788519 │ 0.75802  │\n",
       "│ 5   │ 0.843706 │ 0.841503  │ 0.760264 │ 0.706415 │"
      ]
     },
     "execution_count": 12,
     "metadata": {},
     "output_type": "execute_result"
    }
   ],
   "source": [
    "dftpp = extract_data(\"tpp_depth5_\")"
   ]
  },
  {
   "cell_type": "code",
   "execution_count": 19,
   "metadata": {
    "execution": {
     "iopub.execute_input": "2020-12-09T16:24:58.971000+01:00",
     "iopub.status.busy": "2020-12-09T16:24:58.968000+01:00",
     "iopub.status.idle": "2020-12-09T16:24:58.978000+01:00"
    }
   },
   "outputs": [
    {
     "data": {
      "text/html": [
       "<table class=\"data-frame\"><thead><tr><th></th><th>t</th></tr><tr><th></th><th>Float64</th></tr></thead><tbody><p>5 rows × 1 columns</p><tr><th>1</th><td>1489.79</td></tr><tr><th>2</th><td>943.189</td></tr><tr><th>3</th><td>2541.53</td></tr><tr><th>4</th><td>1520.17</td></tr><tr><th>5</th><td>1645.84</td></tr></tbody></table>"
      ],
      "text/latex": [
       "\\begin{tabular}{r|c}\n",
       "\t& t\\\\\n",
       "\t\\hline\n",
       "\t& Float64\\\\\n",
       "\t\\hline\n",
       "\t1 & 1489.79 \\\\\n",
       "\t2 & 943.189 \\\\\n",
       "\t3 & 2541.53 \\\\\n",
       "\t4 & 1520.17 \\\\\n",
       "\t5 & 1645.84 \\\\\n",
       "\\end{tabular}\n"
      ],
      "text/plain": [
       "5×1 DataFrame\n",
       "│ Row │ t       │\n",
       "│     │ \u001b[90mFloat64\u001b[39m │\n",
       "├─────┼─────────┤\n",
       "│ 1   │ 1489.79 │\n",
       "│ 2   │ 943.189 │\n",
       "│ 3   │ 2541.53 │\n",
       "│ 4   │ 1520.17 │\n",
       "│ 5   │ 1645.84 │"
      ]
     },
     "execution_count": 19,
     "metadata": {},
     "output_type": "execute_result"
    }
   ],
   "source": [
    "CSV.File(\"tpp_depth5_timings.csv\") |> DataFrame"
   ]
  },
  {
   "cell_type": "code",
   "execution_count": 20,
   "metadata": {
    "execution": {
     "iopub.execute_input": "2020-12-09T17:33:47.073000+01:00",
     "iopub.status.busy": "2020-12-09T17:33:46.958000+01:00",
     "iopub.status.idle": "2020-12-09T17:33:47.564000+01:00"
    }
   },
   "outputs": [
    {
     "data": {
      "text/html": [
       "<table class=\"data-frame\"><thead><tr><th></th><th>t</th></tr><tr><th></th><th>Float64</th></tr></thead><tbody><p>5 rows × 1 columns</p><tr><th>1</th><td>451.735</td></tr><tr><th>2</th><td>359.812</td></tr><tr><th>3</th><td>386.299</td></tr><tr><th>4</th><td>339.668</td></tr><tr><th>5</th><td>354.42</td></tr></tbody></table>"
      ],
      "text/latex": [
       "\\begin{tabular}{r|c}\n",
       "\t& t\\\\\n",
       "\t\\hline\n",
       "\t& Float64\\\\\n",
       "\t\\hline\n",
       "\t1 & 451.735 \\\\\n",
       "\t2 & 359.812 \\\\\n",
       "\t3 & 386.299 \\\\\n",
       "\t4 & 339.668 \\\\\n",
       "\t5 & 354.42 \\\\\n",
       "\\end{tabular}\n"
      ],
      "text/plain": [
       "5×1 DataFrame\n",
       "│ Row │ t       │\n",
       "│     │ \u001b[90mFloat64\u001b[39m │\n",
       "├─────┼─────────┤\n",
       "│ 1   │ 451.735 │\n",
       "│ 2   │ 359.812 │\n",
       "│ 3   │ 386.299 │\n",
       "│ 4   │ 339.668 │\n",
       "│ 5   │ 354.42  │"
      ]
     },
     "execution_count": 20,
     "metadata": {},
     "output_type": "execute_result"
    }
   ],
   "source": [
    "CSV.File(\"temp_timings.csv\") |> DataFrame"
   ]
  },
  {
   "cell_type": "code",
   "execution_count": null,
   "metadata": {},
   "outputs": [],
   "source": [
    "dftemp = extract_data(\"temp\")"
   ]
  }
 ],
 "metadata": {
  "kernelspec": {
   "display_name": "Julia 1.0.5",
   "language": "julia",
   "name": "julia-1.0"
  },
  "language_info": {
   "file_extension": ".jl",
   "mimetype": "application/julia",
   "name": "julia",
   "version": "1.0.5"
  }
 },
 "nbformat": 4,
 "nbformat_minor": 4
}
