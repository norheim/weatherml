{
 "cells": [
  {
   "cell_type": "code",
   "execution_count": 17,
   "metadata": {
    "execution": {
     "iopub.execute_input": "2020-12-09T12:04:38.794000+01:00",
     "iopub.status.busy": "2020-12-09T12:04:38.699000+01:00",
     "iopub.status.idle": "2020-12-09T12:04:52.516000+01:00"
    }
   },
   "outputs": [],
   "source": [
    "include(\"../runsetup_temp.jl\");"
   ]
  },
  {
   "cell_type": "code",
   "execution_count": 20,
   "metadata": {
    "execution": {
     "iopub.execute_input": "2020-12-09T12:05:43.297000+01:00",
     "iopub.status.busy": "2020-12-09T12:05:43.296000+01:00",
     "iopub.status.idle": "2020-12-09T12:05:43.634000+01:00"
    }
   },
   "outputs": [],
   "source": [
    "using LinearAlgebra"
   ]
  },
  {
   "cell_type": "code",
   "execution_count": 18,
   "metadata": {
    "execution": {
     "iopub.execute_input": "2020-12-09T12:04:52.518000+01:00",
     "iopub.status.busy": "2020-12-09T12:04:52.517000+01:00",
     "iopub.status.idle": "2020-12-09T12:04:54.840000+01:00"
    }
   },
   "outputs": [],
   "source": [
    "# Training data\n",
    "start = 2018, 1, 2\n",
    "dayslookback = 7\n",
    "ndays = 365-dayslookback-1\n",
    "predicttype = :temp\n",
    "offset = 1\n",
    "\n",
    "X, y = build_multi_data(mdata, predicttype, start, dayslookback, \n",
    "    ndays; offset=offset);\n",
    "\n",
    "(train_X, train_y), (test_X, test_y) = IAI.split_data(:regression, X, y);"
   ]
  },
  {
   "cell_type": "code",
   "execution_count": 4,
   "metadata": {
    "collapsed": true,
    "execution": {
     "iopub.execute_input": "2020-12-08T11:13:39.731000+01:00",
     "iopub.status.busy": "2020-12-08T11:13:39.730000+01:00",
     "iopub.status.idle": "2020-12-08T11:23:08.756000+01:00"
    },
    "jupyter": {
     "outputs_hidden": true
    }
   },
   "outputs": [
    {
     "name": "stderr",
     "output_type": "stream",
     "text": [
      "┌ Warning: This copy of Interpretable AI software is for academic purposes only and not for commercial use.\n",
      "└ @ IAILicensing C:\\Users\\iai\\builds\\InterpretableAI\\SysImgBuilder\\.julia\\packages\\IAILicensing\\x1CT6\\src\\precompile.jl:19\n",
      "┌ Warning: Interpretable AI license expires soon: 2020-12-31. If you need to renew, please send us the following machine ID:\n",
      "│ 1d23b3eee464c21ff412aa6a5b247b9f0543ded03e05d39d863fbfc9241e7a1f\n",
      "└ @ IAILicensing C:\\Users\\iai\\builds\\InterpretableAI\\SysImgBuilder\\.julia\\packages\\IAILicensing\\x1CT6\\src\\precompile.jl:29\n"
     ]
    },
    {
     "name": "stdout",
     "output_type": "stream",
     "text": [
      "561.722282 seconds (27.55 M allocations: 1.525 GiB, 0.19% gc time)\n"
     ]
    },
    {
     "data": {
      "text/plain": [
       "All Grid Results:\n",
       "\n",
       "│ Row │ show_progress │ cp         │ train_score │ valid_score │\n",
       "│     │ \u001b[90mBool\u001b[39m          │ \u001b[90mFloat64\u001b[39m    │ \u001b[90mFloat64\u001b[39m     │ \u001b[90mFloat64\u001b[39m     │\n",
       "├─────┼───────────────┼────────────┼─────────────┼─────────────┤\n",
       "│ 1   │ false         │ 4.88575e-5 │ 0.98988     │ 0.986834    │\n",
       "\n",
       "│ Row │ rank_valid_score │\n",
       "│     │ \u001b[90mInt64\u001b[39m            │\n",
       "├─────┼──────────────────┤\n",
       "│ 1   │ 1                │\n",
       "\n",
       "Best Params:\n",
       "  cp => 4.8857486652379226e-5\n",
       "  show_progress => false\n",
       "\n",
       "Best Model - Fitted OptimalTreeRegressor:\n",
       "  1) Split: x168 < 59.75\n",
       "    2) Split: x168 < 37.17\n",
       "      3) Split: x168 < 26.5\n",
       "        4) Split: x168 < 19.25\n",
       "          5) Split: x168 < 14.5\n",
       "            6) Predict: 12.51, 13 points, error 50.36\n",
       "            7) Predict: 16.98, 47 points, error 137\n",
       "          8) Split: x168 < 23.5\n",
       "            9) Predict: 21.74, 80 points, error 199.6\n",
       "            10) Predict: 25.19, 111 points, error 223\n",
       "        11) Split: x168 < 32.13\n",
       "          12) Split: x168 < 29.8\n",
       "            13) Predict: 28.08, 139 points, error 368.5\n",
       "            14) Predict: 31.36, 282 points, error 607.2\n",
       "          15) Split: x168 < 34.25\n",
       "            16) Predict: 33.48, 245 points, error 391.8\n",
       "            17) Predict: 36.2, 386 points, error 889.4\n",
       "      18) Split: x168 < 49.25\n",
       "        19) Split: x168 < 42.13\n",
       "          20) Split: x168 < 39.58\n",
       "            21) Predict: 38.5, 339 points, error 894.3\n",
       "            22) Predict: 40.94, 371 points, error 843.1\n",
       "          23) Split: x168 < 46.17\n",
       "            24) Predict: 44.58, 407 points, error 1496.8\n",
       "            25) Predict: 47.95, 302 points, error 938.5\n",
       "        26) Split: x168 < 53.13\n",
       "          27) Split: x168 < 51.88\n",
       "            28) Predict: 50.51, 228 points, error 509.9\n",
       "            29) Predict: 52.57, 156 points, error 442.4\n",
       "          30) Split: x168 < 56.38\n",
       "            31) Predict: 54.92, 244 points, error 1173.5\n",
       "            32) Predict: 57.88, 264 points, error 846.3\n",
       "    33) Split: x168 < 74.29\n",
       "      34) Split: x168 < 67.83\n",
       "        35) Split: x168 < 63.9\n",
       "          36) Split: x168 < 61.13\n",
       "            37) Predict: 60.61, 159 points, error 539.2\n",
       "            38) Predict: 62.49, 197 points, error 519.9\n",
       "          39) Split: x168 < 66.1\n",
       "            40) Predict: 64.89, 245 points, error 962.4\n",
       "            41) Predict: 67.2, 119 points, error 257\n",
       "        42) Split: x168 < 71.29\n",
       "          43) Split: x168 < 69.1\n",
       "            44) Predict: 68.43, 217 points, error 1125.7\n",
       "            45) Predict: 70.47, 270 points, error 855.8\n",
       "          46) Split: x166 < 68.17\n",
       "            47) Predict: 76.19, 25 points, error 119.3\n",
       "            48) Predict: 72.66, 290 points, error 1000.7\n",
       "      49) Split: x168 < 83.17\n",
       "        50) Split: x168 < 78.46\n",
       "          51) Split: x168 < 76.17\n",
       "            52) Predict: 75.6, 200 points, error 844.8\n",
       "            53) Predict: 77.21, 142 points, error 784\n",
       "          54) Split: x168 < 80.25\n",
       "            55) Predict: 79.23, 140 points, error 715.3\n",
       "            56) Predict: 81.88, 156 points, error 980.1\n",
       "        57) Split: x168 < 91.5\n",
       "          58) Split: x168 < 87.5\n",
       "            59) Predict: 84.9, 112 points, error 690.1\n",
       "            60) Predict: 87.97, 64 points, error 627.4\n",
       "          61) Split: x171 < 16.5\n",
       "            62) Predict: 94.55, 33 points, error 48.18\n",
       "            63) Predict: 91, 15 points, error 77.5"
      ]
     },
     "execution_count": 4,
     "metadata": {},
     "output_type": "execute_result"
    }
   ],
   "source": [
    "# training\n",
    "@time begin\n",
    "grid = IAI.GridSearch(\n",
    "    IAI.OptimalTreeRegressor(\n",
    "        random_seed=123,\n",
    "        max_depth = 5,\n",
    "        minbucket = 10,\n",
    "        show_progress=false\n",
    "    ),\n",
    "    show_progress=false  \n",
    ")\n",
    "IAI.fit!(grid, train_X, train_y)\n",
    "end"
   ]
  },
  {
   "cell_type": "code",
   "execution_count": 5,
   "metadata": {
    "execution": {
     "iopub.execute_input": "2020-12-08T11:26:58.258000+01:00",
     "iopub.status.busy": "2020-12-08T11:26:58.258000+01:00",
     "iopub.status.idle": "2020-12-08T11:26:59.966000+01:00"
    }
   },
   "outputs": [
    {
     "data": {
      "text/plain": [
       "([40.0 40.0 … 8.0 0.0; 40.0 40.0 … 8.0 1.0; … ; 53.0 53.0 … 2.0 22.0; 53.0 52.0 … 2.0 23.0], [36.6667, 36.0, 36.0, 36.0, 36.0, 35.0, 34.0, 35.0, 34.0, 36.0  …  40.0, 39.0, 38.0, 37.0, 36.0, 35.0, 35.0, 35.0, 34.0, 35.0])"
      ]
     },
     "execution_count": 5,
     "metadata": {},
     "output_type": "execute_result"
    }
   ],
   "source": [
    "lnr = IAI.get_learner(grid)\n",
    "score = IAI.score(lnr, test_X, test_y) \n",
    "\n",
    "# Testing data\n",
    "start1 = 2019, 1, 1\n",
    "ndays = 365-dayslookback-1\n",
    "test_X1, test_y1 = build_multi_data(mdata, predicttype, start1, dayslookback,\n",
    " ndays; offset=offset);\n",
    "\n",
    "start2 = 2020, 1, 1\n",
    "ndays = 300 # since we don't have days until the end\n",
    "test_X2, test_y2 = build_multi_data(mdata, predicttype, start2, dayslookback, \n",
    "    ndays; offset=offset)"
   ]
  },
  {
   "cell_type": "code",
   "execution_count": 13,
   "metadata": {
    "execution": {
     "iopub.execute_input": "2020-12-08T11:29:16.790000+01:00",
     "iopub.status.busy": "2020-12-08T11:29:16.790000+01:00",
     "iopub.status.idle": "2020-12-08T11:29:16.829000+01:00"
    }
   },
   "outputs": [
    {
     "data": {
      "text/plain": [
       "0.9892912707266199"
      ]
     },
     "execution_count": 13,
     "metadata": {},
     "output_type": "execute_result"
    }
   ],
   "source": [
    "IAI.score(lnr, train_X, train_y) "
   ]
  },
  {
   "cell_type": "code",
   "execution_count": 7,
   "metadata": {
    "execution": {
     "iopub.execute_input": "2020-12-08T11:27:15.338000+01:00",
     "iopub.status.busy": "2020-12-08T11:27:15.338000+01:00",
     "iopub.status.idle": "2020-12-08T11:27:15.898000+01:00"
    }
   },
   "outputs": [
    {
     "data": {
      "text/plain": [
       "0.9848122741885112"
      ]
     },
     "execution_count": 7,
     "metadata": {},
     "output_type": "execute_result"
    }
   ],
   "source": [
    "score1 = IAI.score(lnr, test_X1, test_y1)  \n",
    "score2 = IAI.score(lnr, test_X2, test_y2)"
   ]
  },
  {
   "cell_type": "code",
   "execution_count": 11,
   "metadata": {
    "execution": {
     "iopub.execute_input": "2020-12-08T11:27:31.365000+01:00",
     "iopub.status.busy": "2020-12-08T11:27:31.365000+01:00",
     "iopub.status.idle": "2020-12-08T11:27:32.219000+01:00"
    }
   },
   "outputs": [
    {
     "data": {
      "text/plain": [
       "(0.9882827406212967, 0.9883284446212419, 0.9848122741885112)"
      ]
     },
     "execution_count": 11,
     "metadata": {},
     "output_type": "execute_result"
    }
   ],
   "source": [
    "score, score1, score2"
   ]
  },
  {
   "cell_type": "markdown",
   "metadata": {},
   "source": [
    "## Analyze"
   ]
  },
  {
   "cell_type": "code",
   "execution_count": 15,
   "metadata": {
    "execution": {
     "iopub.execute_input": "2020-12-08T17:08:29.281000+01:00",
     "iopub.status.busy": "2020-12-08T17:08:29.281000+01:00",
     "iopub.status.idle": "2020-12-08T17:08:46.631000+01:00"
    }
   },
   "outputs": [],
   "source": [
    "start = 2018, 1, 2\n",
    "dayslookback = 5\n",
    "ndays = 365-dayslookback-1\n",
    "predicttype = :temp\n",
    "offsets = [1,7,13,19,25];\n",
    "\n",
    "df = DataFrame(score_is=[], score_oos=[], score1=[], score2=[]);\n",
    "for (idx, offset) in enumerate(offsets)\n",
    "    X, y = build_multi_data(mdata, predicttype, start, dayslookback, ndays; offset=offset)\n",
    "    (train_X, train_y), (test_X, test_y) = IAI.split_data(:regression, X, y; seed=123)\n",
    "    lnr = IAI.read_json(string(\"temp\",offset,\".json\"))\n",
    "    score = IAI.score(lnr, test_X, test_y) \n",
    "\n",
    "    # Testing data\n",
    "    start1 = 2019, 1, 1\n",
    "    ndays = 365-dayslookback-1\n",
    "    test_X1, test_y1 = build_multi_data(mdata, predicttype, start1, dayslookback,\n",
    "     ndays; offset=offset);\n",
    "\n",
    "    start2 = 2020, 1, 1\n",
    "    ndays = 300 # since we don't have days until the end\n",
    "    test_X2, test_y2 = build_multi_data(mdata, predicttype, start2, dayslookback, \n",
    "        ndays; offset=offset)\n",
    "    \n",
    "    score_is = IAI.score(lnr, train_X, train_y)\n",
    "    score_oos = IAI.score(lnr, test_X, test_y)\n",
    "    score1 = IAI.score(lnr, test_X1, test_y1)  \n",
    "    score2 = IAI.score(lnr, test_X2, test_y2)\n",
    "    push!(df,[score_is, score_oos, score1, score2])\n",
    "end"
   ]
  },
  {
   "cell_type": "code",
   "execution_count": 16,
   "metadata": {
    "execution": {
     "iopub.execute_input": "2020-12-08T17:08:54.015000+01:00",
     "iopub.status.busy": "2020-12-08T17:08:54.015000+01:00",
     "iopub.status.idle": "2020-12-08T17:08:56.280000+01:00"
    }
   },
   "outputs": [
    {
     "data": {
      "text/html": [
       "<table class=\"data-frame\"><thead><tr><th></th><th>score_is</th><th>score_oos</th><th>score1</th><th>score2</th></tr><tr><th></th><th>Any</th><th>Any</th><th>Any</th><th>Any</th></tr></thead><tbody><p>5 rows × 4 columns</p><tr><th>1</th><td>0.989083</td><td>0.988628</td><td>0.988794</td><td>0.985129</td></tr><tr><th>2</th><td>0.898848</td><td>0.898178</td><td>0.872752</td><td>0.837184</td></tr><tr><th>3</th><td>0.864762</td><td>0.863635</td><td>0.834549</td><td>0.794118</td></tr><tr><th>4</th><td>0.853719</td><td>0.839817</td><td>0.783901</td><td>0.738273</td></tr><tr><th>5</th><td>0.845731</td><td>0.830434</td><td>0.761255</td><td>0.686898</td></tr></tbody></table>"
      ],
      "text/latex": [
       "\\begin{tabular}{r|cccc}\n",
       "\t& score\\_is & score\\_oos & score1 & score2\\\\\n",
       "\t\\hline\n",
       "\t& Any & Any & Any & Any\\\\\n",
       "\t\\hline\n",
       "\t1 & 0.989083 & 0.988628 & 0.988794 & 0.985129 \\\\\n",
       "\t2 & 0.898848 & 0.898178 & 0.872752 & 0.837184 \\\\\n",
       "\t3 & 0.864762 & 0.863635 & 0.834549 & 0.794118 \\\\\n",
       "\t4 & 0.853719 & 0.839817 & 0.783901 & 0.738273 \\\\\n",
       "\t5 & 0.845731 & 0.830434 & 0.761255 & 0.686898 \\\\\n",
       "\\end{tabular}\n"
      ],
      "text/plain": [
       "5×4 DataFrame\n",
       "│ Row │ score_is │ score_oos │ score1   │ score2   │\n",
       "│     │ \u001b[90mAny\u001b[39m      │ \u001b[90mAny\u001b[39m       │ \u001b[90mAny\u001b[39m      │ \u001b[90mAny\u001b[39m      │\n",
       "├─────┼──────────┼───────────┼──────────┼──────────┤\n",
       "│ 1   │ 0.989083 │ 0.988628  │ 0.988794 │ 0.985129 │\n",
       "│ 2   │ 0.898848 │ 0.898178  │ 0.872752 │ 0.837184 │\n",
       "│ 3   │ 0.864762 │ 0.863635  │ 0.834549 │ 0.794118 │\n",
       "│ 4   │ 0.853719 │ 0.839817  │ 0.783901 │ 0.738273 │\n",
       "│ 5   │ 0.845731 │ 0.830434  │ 0.761255 │ 0.686898 │"
      ]
     },
     "execution_count": 16,
     "metadata": {},
     "output_type": "execute_result"
    }
   ],
   "source": [
    "df"
   ]
  },
  {
   "cell_type": "code",
   "execution_count": null,
   "metadata": {},
   "outputs": [],
   "source": []
  }
 ],
 "metadata": {
  "kernelspec": {
   "display_name": "Julia 1.0.5",
   "language": "julia",
   "name": "julia-1.0"
  },
  "language_info": {
   "file_extension": ".jl",
   "mimetype": "application/julia",
   "name": "julia",
   "version": "1.0.5"
  }
 },
 "nbformat": 4,
 "nbformat_minor": 4
}
