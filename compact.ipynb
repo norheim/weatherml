{
 "cells": [
  {
   "cell_type": "code",
   "execution_count": 26,
   "metadata": {
    "execution": {
     "iopub.execute_input": "2020-12-06T18:56:45.098000+01:00",
     "iopub.status.busy": "2020-12-06T18:56:45.098000+01:00",
     "iopub.status.idle": "2020-12-06T18:56:45.126000+01:00"
    }
   },
   "outputs": [],
   "source": [
    "using DataFrames, CSV, Impute, Dates, Plots, Statistics, Interpolations"
   ]
  },
  {
   "cell_type": "code",
   "execution_count": 33,
   "metadata": {
    "execution": {
     "iopub.execute_input": "2020-12-06T18:58:28.489000+01:00",
     "iopub.status.busy": "2020-12-06T18:58:28.488000+01:00",
     "iopub.status.idle": "2020-12-06T18:58:28.509000+01:00"
    }
   },
   "outputs": [],
   "source": [
    "include(\"utils.jl\");"
   ]
  },
  {
   "cell_type": "markdown",
   "metadata": {},
   "source": [
    "## Choose data file"
   ]
  },
  {
   "cell_type": "code",
   "execution_count": 28,
   "metadata": {
    "execution": {
     "iopub.execute_input": "2020-12-06T18:56:46.302000+01:00",
     "iopub.status.busy": "2020-12-06T18:56:46.302000+01:00",
     "iopub.status.idle": "2020-12-06T18:56:46.308000+01:00"
    }
   },
   "outputs": [],
   "source": [
    "data_available = [\n",
    "    \"boston_09_12\",\n",
    "    \"boston_13_15\",\n",
    "    \"boston_16_17\",\n",
    "    \"boston_18_20\",\n",
    "    \"hanscom_18_20\",\n",
    "    \"pittsfield_18_20\"\n",
    "];\n",
    "choice = \"boston_18_20\";"
   ]
  },
  {
   "cell_type": "code",
   "execution_count": 29,
   "metadata": {
    "execution": {
     "iopub.execute_input": "2020-12-06T18:56:46.708000+01:00",
     "iopub.status.busy": "2020-12-06T18:56:46.707000+01:00",
     "iopub.status.idle": "2020-12-06T18:56:47.387000+01:00"
    }
   },
   "outputs": [],
   "source": [
    "df = CSV.File(string(\"data/\", choice, \".csv\")) |> DataFrame;"
   ]
  },
  {
   "cell_type": "code",
   "execution_count": 30,
   "metadata": {
    "execution": {
     "iopub.execute_input": "2020-12-06T18:56:47.387000+01:00",
     "iopub.status.busy": "2020-12-06T18:56:47.387000+01:00",
     "iopub.status.idle": "2020-12-06T18:56:47.880000+01:00"
    }
   },
   "outputs": [
    {
     "data": {
      "text/plain": [
       "0"
      ]
     },
     "execution_count": 30,
     "metadata": {},
     "output_type": "execute_result"
    }
   ],
   "source": [
    "dfdaily = filter(row -> strip(row[:REPORT_TYPE]) == \"SOD\", df);\n",
    "dfh = filter(row -> !(strip(row[:REPORT_TYPE]) in [\"SOD\", \"SOM\"]), df)\n",
    "sum(ismissing.(dfh[:, :HourlyDryBulbTemperature]))"
   ]
  },
  {
   "cell_type": "code",
   "execution_count": 31,
   "metadata": {
    "execution": {
     "iopub.execute_input": "2020-12-06T18:56:48.330000+01:00",
     "iopub.status.busy": "2020-12-06T18:56:48.329000+01:00",
     "iopub.status.idle": "2020-12-06T18:56:48.337000+01:00"
    }
   },
   "outputs": [],
   "source": [
    "factors =  [(:HourlyDryBulbTemperature,:temp), (:HourlyPrecipitation,:prec), (:HourlySeaLevelPressure,:pres)];"
   ]
  },
  {
   "cell_type": "code",
   "execution_count": 32,
   "metadata": {
    "execution": {
     "iopub.execute_input": "2020-12-06T18:56:48.809000+01:00",
     "iopub.status.busy": "2020-12-06T18:56:48.808000+01:00",
     "iopub.status.idle": "2020-12-06T18:56:49.438000+01:00"
    }
   },
   "outputs": [
    {
     "data": {
      "text/html": [
       "<table class=\"data-frame\"><thead><tr><th></th><th>sampleT</th><th>temp</th><th>prec</th><th>pres</th></tr><tr><th></th><th>DateTime</th><th>Float64</th><th>Float64</th><th>Float64</th></tr></thead><tbody><p>4 rows × 4 columns</p><tr><th>1</th><td>2018-01-01T01:00:00</td><td>2.0</td><td>0.0</td><td>30.2</td></tr><tr><th>2</th><td>2018-01-01T02:00:00</td><td>1.0</td><td>0.0</td><td>30.21</td></tr><tr><th>3</th><td>2018-01-01T03:00:00</td><td>1.0</td><td>0.0</td><td>30.21</td></tr><tr><th>4</th><td>2018-01-01T04:00:00</td><td>1.0</td><td>0.0</td><td>30.2</td></tr></tbody></table>"
      ],
      "text/latex": [
       "\\begin{tabular}{r|cccc}\n",
       "\t& sampleT & temp & prec & pres\\\\\n",
       "\t\\hline\n",
       "\t& DateTime & Float64 & Float64 & Float64\\\\\n",
       "\t\\hline\n",
       "\t1 & 2018-01-01T01:00:00 & 2.0 & 0.0 & 30.2 \\\\\n",
       "\t2 & 2018-01-01T02:00:00 & 1.0 & 0.0 & 30.21 \\\\\n",
       "\t3 & 2018-01-01T03:00:00 & 1.0 & 0.0 & 30.21 \\\\\n",
       "\t4 & 2018-01-01T04:00:00 & 1.0 & 0.0 & 30.2 \\\\\n",
       "\\end{tabular}\n"
      ],
      "text/plain": [
       "4×4 DataFrame\n",
       "│ Row │ sampleT             │ temp    │ prec    │ pres    │\n",
       "│     │ \u001b[90mDateTime\u001b[39m            │ \u001b[90mFloat64\u001b[39m │ \u001b[90mFloat64\u001b[39m │ \u001b[90mFloat64\u001b[39m │\n",
       "├─────┼─────────────────────┼─────────┼─────────┼─────────┤\n",
       "│ 1   │ 2018-01-01T01:00:00 │ 2.0     │ 0.0     │ 30.2    │\n",
       "│ 2   │ 2018-01-01T02:00:00 │ 1.0     │ 0.0     │ 30.21   │\n",
       "│ 3   │ 2018-01-01T03:00:00 │ 1.0     │ 0.0     │ 30.21   │\n",
       "│ 4   │ 2018-01-01T04:00:00 │ 1.0     │ 0.0     │ 30.2    │"
      ]
     },
     "execution_count": 32,
     "metadata": {},
     "output_type": "execute_result"
    }
   ],
   "source": [
    "mdata = selectdata(dfh, factors);\n",
    "first(mdata, 4)"
   ]
  },
  {
   "cell_type": "markdown",
   "metadata": {},
   "source": [
    "## Define characteristic of training set"
   ]
  },
  {
   "cell_type": "code",
   "execution_count": 39,
   "metadata": {
    "execution": {
     "iopub.execute_input": "2020-12-06T18:58:56.504000+01:00",
     "iopub.status.busy": "2020-12-06T18:58:56.504000+01:00",
     "iopub.status.idle": "2020-12-06T18:58:56.508000+01:00"
    }
   },
   "outputs": [],
   "source": [
    "start = 2018, 1, 2\n",
    "dayslookback = 5\n",
    "ndays = 360\n",
    "predicttype = :temp\n",
    "offset = 1;"
   ]
  },
  {
   "cell_type": "code",
   "execution_count": 42,
   "metadata": {
    "execution": {
     "iopub.execute_input": "2020-12-06T19:00:56.222000+01:00",
     "iopub.status.busy": "2020-12-06T19:00:56.222000+01:00",
     "iopub.status.idle": "2020-12-06T19:00:56.436000+01:00"
    }
   },
   "outputs": [],
   "source": [
    "X, y = build_multi_data(mdata, predicttype, start, dayslookback, ndays; offset=offset);"
   ]
  },
  {
   "cell_type": "code",
   "execution_count": 43,
   "metadata": {
    "execution": {
     "iopub.execute_input": "2020-12-06T19:00:56.898000+01:00",
     "iopub.status.busy": "2020-12-06T19:00:56.897000+01:00",
     "iopub.status.idle": "2020-12-06T19:00:57.375000+01:00"
    }
   },
   "outputs": [],
   "source": [
    "(train_X, train_y), (test_X, test_y) = IAI.split_data(:regression, X, y);"
   ]
  },
  {
   "cell_type": "code",
   "execution_count": null,
   "metadata": {},
   "outputs": [],
   "source": [
    "grid = IAI.GridSearch(\n",
    "    IAI.OptimalTreeRegressor(\n",
    "        random_seed=123,\n",
    "        show_progress=false\n",
    "    ),\n",
    "#     max_depth=1:5,\n",
    "#     minbucket=10:10:100\n",
    "    max_depth = 1:5,\n",
    "    minbucket = 10\n",
    "    show_progress=false # <-- uncomment to avoid having all the progress bars show up\n",
    ")\n",
    "IAI.fit!(grid, train_X, train_y)"
   ]
  },
  {
   "cell_type": "code",
   "execution_count": null,
   "metadata": {},
   "outputs": [],
   "source": [
    "lnr = IAI.get_learner(grid)\n",
    "IAI.score(lnr, test_X, test_y)  # Testing on the same year"
   ]
  }
 ],
 "metadata": {
  "kernelspec": {
   "display_name": "Julia 1.0.5",
   "language": "julia",
   "name": "julia-1.0"
  },
  "language_info": {
   "file_extension": ".jl",
   "mimetype": "application/julia",
   "name": "julia",
   "version": "1.0.5"
  }
 },
 "nbformat": 4,
 "nbformat_minor": 4
}
