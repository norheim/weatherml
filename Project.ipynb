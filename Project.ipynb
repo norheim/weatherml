{
 "cells": [
  {
   "cell_type": "markdown",
   "metadata": {},
   "source": [
    "I am going to copy some things over from Homework 4 that we should be able to use "
   ]
  },
  {
   "cell_type": "code",
   "execution_count": null,
   "metadata": {},
   "outputs": [],
   "source": [
    "using JuMP, Gurobi, DelimitedFiles, Random, LinearAlgebra, DataFrames, CSV, Plots, ScikitLearn, DecisionTree, MLDataUtils;"
   ]
  },
  {
   "cell_type": "markdown",
   "metadata": {},
   "source": [
    "Here is what we can use if we want to do OCT"
   ]
  },
  {
   "cell_type": "code",
   "execution_count": null,
   "metadata": {},
   "outputs": [],
   "source": [
    "df = DataFrame(CSV.read(\".csv\"));\n",
    "cat = [];\n",
    "\n",
    "X = df\n",
    "y = df.ycol\n",
    "delete!(X, [:ycol])\n",
    "\n",
    "categorical!(X, cat)"
   ]
  },
  {
   "cell_type": "code",
   "execution_count": null,
   "metadata": {},
   "outputs": [],
   "source": [
    "(train_X, train_y), (test_X, test_y) = IAI.split_data(:classification, X, y);\n",
    "\n",
    "grid = IAI.GridSearch(\n",
    "    IAI.OptimalTreeClassifier(\n",
    "        max_depth= 3,\n",
    "        minbucket = 5,\n",
    "        criterion = :misclassification\n",
    "    ),   \n",
    ")\n",
    "\n",
    "IAI.fit!(grid, train_X, train_y)"
   ]
  },
  {
   "cell_type": "markdown",
   "metadata": {},
   "source": [
    "This is how we did CART"
   ]
  },
  {
   "cell_type": "code",
   "execution_count": null,
   "metadata": {},
   "outputs": [],
   "source": [
    "input = csv.read(\".csv\");\n",
    "\n",
    "X = input\n",
    "y = input.ycol\n",
    "delete!(X, [:ycol])\n",
    "\n",
    "md_opt = 0\n",
    "md_val = zeros(Float64, 1)\n",
    "md_val[1] = 1.\n",
    "md_max = 8\n",
    "cvs = 5\n",
    "for md = 1:md_max\n",
    "    model = DecisionTreeClassifier(max_depth=md)\n",
    "    DecisionTree.fit!(model, Matrix(X), y)\n",
    "    \n",
    "    val = ScikitLearn.CrossValidation.cross_val_score(model, Matrix(X), y, cv=cvs)\n",
    "    \n",
    "    if (sum(val[i] for i = 1:cvs) / cvs) < md_val[1]\n",
    "        md_opt = md\n",
    "        md_val[1] = (sum(val[i] for i = 1:cvs) / cvs)\n",
    "    end\n",
    "end\n",
    "\n",
    "model = DecisionTreeClassifier(max_depth=md_opt)\n",
    "fit!(model, Matrix(X), y)\n",
    "y_test_predict = ScikitLearn.predict(model, Matrix(X))\n",
    "\n",
    "val = ScikitLearn.CrossValidation.cross_val_score(model, Matrix(X), y, cv=cvs)\n",
    "sum(val[i] for i = 1:cvs) / cvs"
   ]
  },
  {
   "cell_type": "markdown",
   "metadata": {},
   "source": [
    "This was the function from the recitation"
   ]
  },
  {
   "cell_type": "code",
   "execution_count": null,
   "metadata": {},
   "outputs": [],
   "source": [
    "function one_hot_encode(X, names)\n",
    "    X2 = deepcopy(X)\n",
    "    deletecols!(X2, Symbol.(names))\n",
    "    for i in names\n",
    "        vales = unique(X[i])\n",
    "        for j in vales\n",
    "           X2[Symbol(string(i)*\"_\"*string(j))] = (X[i].==j)*1\n",
    "        end\n",
    "    end\n",
    "    return X2\n",
    "end"
   ]
  },
  {
   "cell_type": "markdown",
   "metadata": {},
   "source": [
    "Random forest"
   ]
  },
  {
   "cell_type": "code",
   "execution_count": null,
   "metadata": {},
   "outputs": [],
   "source": [
    "X = one_hot_encode(df, cat)\n",
    "y = X.ycol\n",
    "delete!(X,[:ycol])\n",
    "(X_trainvalid, y_trainvalid), (X_test, y_test) =IAI.split_data(:classification,X, y)\n",
    "\n",
    "X_trainvalid2 = Array{Float64}(undef, size(X_trainvalid, 1), size(X_trainvalid, 2))\n",
    "for i = 1:size(X_trainvalid, 1)\n",
    "    for j = 1:size(X_trainvalid, 2)\n",
    "        X_trainvalid2[i, j] = X_trainvalid[i, j]\n",
    "    end\n",
    "end\n",
    "\n",
    "X_test2 = Array{Float64}(undef, size(X_test, 1), size(X_test, 2))\n",
    "for i = 1:size(X_test, 1)\n",
    "    for j = 1:size(X_test, 2)\n",
    "        X_test2[i, j] = X_test[i, j]\n",
    "    end\n",
    "end\n",
    "\n",
    "y_trainvalid2 = Array{Float64}(undef, size(y_trainvalid))\n",
    "for i = 1:size(X_trainvalid, 1)\n",
    "    y_trainvalid2[i] = y_trainvalid[i]\n",
    "end\n",
    "\n",
    "model = build_forest(y_trainvalid2, X_trainvalid2, 3, 20, 0.5, 6)\n",
    "\n",
    "y_test_predict = apply_forest(model, X_test2)\n",
    "val = 0\n",
    "for r = 1:size(X_test2, 1)\n",
    "    if abs(y_test_predict[r] - y_test[r]) < 0.5\n",
    "        val = val + 1\n",
    "    end\n",
    "end\n",
    "val / size(X_test, 1)"
   ]
  },
  {
   "cell_type": "markdown",
   "metadata": {},
   "source": [
    "Boosted trees"
   ]
  },
  {
   "cell_type": "code",
   "execution_count": null,
   "metadata": {},
   "outputs": [],
   "source": [
    "X = one_hot_encode(df, cat)\n",
    "y = X.ycol\n",
    "delete!(X,[:ycol])\n",
    "(X_trainvalid, y_trainvalid), (X_test, y_test) =IAI.split_data(:classification,X, y)\n",
    "\n",
    "regr_1 = GradientBoostingClassifier()\n",
    "fit!(regr_1,  Matrix(X_trainvalid), y_trainvalid)\n",
    "\n",
    "y_test_predict = regr_1.predict_proba(Matrix(X_test))[:,2]\n",
    "val = 0\n",
    "for r = 1:size(X_test2, 1)\n",
    "    if abs(y_test_predict[r] - y_test[r]) < 0.5\n",
    "        val = val + 1\n",
    "    end\n",
    "end\n",
    "val / size(X_test, 1)"
   ]
  },
  {
   "cell_type": "markdown",
   "metadata": {},
   "source": [
    "In the homework, we didn't really go over optimal regression trees. I am going to look into this to see what we can get. Maybe this could be used to predict temperature"
   ]
  },
  {
   "cell_type": "markdown",
   "metadata": {},
   "source": [
    "This is an example from the documentation"
   ]
  },
  {
   "cell_type": "code",
   "execution_count": null,
   "metadata": {},
   "outputs": [],
   "source": [
    "# df = DataFrame(CSV.File(\n",
    "#     \"yacht_hydrodynamics.data\",\n",
    "#     delim=' ',            # file uses ' ' as separators rather than ','\n",
    "#     ignorerepeated=true,  # sometimes columns are separated by more than one ' '\n",
    "#     header=[:position, :prismatic, :length_displacement, :beam_draught,\n",
    "#             :length_beam, :froude, :resistance],\n",
    "# ))"
   ]
  },
  {
   "cell_type": "code",
   "execution_count": null,
   "metadata": {},
   "outputs": [],
   "source": [
    "grid = IAI.GridSearch(\n",
    "    IAI.OptimalTreeRegressor(\n",
    "        random_seed=123,\n",
    "    ),\n",
    "    max_depth=1:5,\n",
    ")\n",
    "IAI.fit!(grid, train_X, train_y)\n",
    "IAI.get_learner(grid)"
   ]
  },
  {
   "cell_type": "markdown",
   "metadata": {},
   "source": [
    "With linear predictions"
   ]
  },
  {
   "cell_type": "code",
   "execution_count": null,
   "metadata": {},
   "outputs": [],
   "source": [
    "grid = IAI.GridSearch(\n",
    "    IAI.OptimalTreeRegressor(\n",
    "        random_seed=123,\n",
    "        max_depth=2,\n",
    "        regression_sparsity=:all,\n",
    "    ),\n",
    "    regression_lambda=[0.0005, 0.001, 0.005],\n",
    ")\n",
    "IAI.fit!(grid, train_X, train_y)\n",
    "IAI.get_learner(grid)"
   ]
  },
  {
   "cell_type": "markdown",
   "metadata": {},
   "source": [
    "We have continuous variables\n",
    " - Temperature\n",
    " - Precipitation\n",
    " - Pressure\n",
    " - Humidity\n",
    " - Time\n",
    "\n",
    "We will have some parameter variables\n",
    " - The one talking about if it was clear"
   ]
  }
 ],
 "metadata": {
  "kernelspec": {
   "display_name": "Julia 1.0.5",
   "language": "julia",
   "name": "julia-1.0"
  },
  "language_info": {
   "file_extension": ".jl",
   "mimetype": "application/julia",
   "name": "julia",
   "version": "1.0.5"
  }
 },
 "nbformat": 4,
 "nbformat_minor": 2
}
