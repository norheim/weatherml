{
 "cells": [
  {
   "cell_type": "markdown",
   "metadata": {},
   "source": [
    "I am going to copy some things over from Homework 4 that we should be able to use "
   ]
  },
  {
   "cell_type": "code",
   "execution_count": 2,
   "metadata": {},
   "outputs": [
    {
     "name": "stderr",
     "output_type": "stream",
     "text": [
      "┌ Info: Recompiling stale cache file C:\\Users\\Victor\\.julia\\compiled\\v1.0\\Plots\\ld3vC.ji for Plots [91a5bcdd-55d7-5caf-9e0b-520d859cae80]\n",
      "└ @ Base loading.jl:1190\n",
      "WARNING: Method definition ca_chain!(MbedTLS.SSLConfig) in module MbedTLS at C:\\Users\\iai\\builds\\InterpretableAI\\SysImgBuilder\\.julia\\packages\\MbedTLS\\X4xar\\src\\ssl.jl:489 overwritten in module Main at C:\\Users\\iai\\builds\\InterpretableAI\\SysImgBuilder\\.julia\\packages\\PackageCompiler\\4yNnV\\sysimg\\precompile.jl:256.\n",
      "WARNING: Method definition ca_chain!(MbedTLS.SSLConfig) in module MbedTLS at C:\\Users\\iai\\builds\\InterpretableAI\\SysImgBuilder\\.julia\\packages\\MbedTLS\\X4xar\\src\\ssl.jl:489 overwritten in module Main at C:\\Users\\iai\\builds\\InterpretableAI\\SysImgBuilder\\.julia\\packages\\PackageCompiler\\4yNnV\\sysimg\\precompile.jl:256.\n",
      "WARNING: Method definition ca_chain!(MbedTLS.SSLConfig) in module MbedTLS at C:\\Users\\iai\\builds\\InterpretableAI\\SysImgBuilder\\.julia\\packages\\MbedTLS\\X4xar\\src\\ssl.jl:489 overwritten in module Main at C:\\Users\\iai\\builds\\InterpretableAI\\SysImgBuilder\\.julia\\packages\\PackageCompiler\\4yNnV\\sysimg\\precompile.jl:256.\n",
      "WARNING: Method definition ca_chain!(MbedTLS.SSLConfig) in module MbedTLS at C:\\Users\\iai\\builds\\InterpretableAI\\SysImgBuilder\\.julia\\packages\\MbedTLS\\X4xar\\src\\ssl.jl:489 overwritten in module Main at C:\\Users\\iai\\builds\\InterpretableAI\\SysImgBuilder\\.julia\\packages\\PackageCompiler\\4yNnV\\sysimg\\precompile.jl:256.\n",
      "WARNING: Method definition ca_chain!(MbedTLS.SSLConfig) in module MbedTLS at C:\\Users\\iai\\builds\\InterpretableAI\\SysImgBuilder\\.julia\\packages\\MbedTLS\\X4xar\\src\\ssl.jl:489 overwritten in module Main at C:\\Users\\iai\\builds\\InterpretableAI\\SysImgBuilder\\.julia\\packages\\PackageCompiler\\4yNnV\\sysimg\\precompile.jl:256.\n",
      "┌ Info: Recompiling stale cache file C:\\Users\\Victor\\.julia\\compiled\\v1.0\\ScikitLearn\\tbUuI.ji for ScikitLearn [3646fa90-6ef7-5e7e-9f22-8aca16db6324]\n",
      "└ @ Base loading.jl:1190\n",
      "WARNING: Method definition ca_chain!(MbedTLS.SSLConfig) in module MbedTLS at C:\\Users\\iai\\builds\\InterpretableAI\\SysImgBuilder\\.julia\\packages\\MbedTLS\\X4xar\\src\\ssl.jl:489 overwritten in module Main at C:\\Users\\iai\\builds\\InterpretableAI\\SysImgBuilder\\.julia\\packages\\PackageCompiler\\4yNnV\\sysimg\\precompile.jl:256.\n",
      "WARNING: Method definition ca_chain!(MbedTLS.SSLConfig) in module MbedTLS at C:\\Users\\iai\\builds\\InterpretableAI\\SysImgBuilder\\.julia\\packages\\MbedTLS\\X4xar\\src\\ssl.jl:489 overwritten in module Main at C:\\Users\\iai\\builds\\InterpretableAI\\SysImgBuilder\\.julia\\packages\\PackageCompiler\\4yNnV\\sysimg\\precompile.jl:256.\n",
      "WARNING: Method definition ca_chain!(MbedTLS.SSLConfig) in module MbedTLS at C:\\Users\\iai\\builds\\InterpretableAI\\SysImgBuilder\\.julia\\packages\\MbedTLS\\X4xar\\src\\ssl.jl:489 overwritten in module Main at C:\\Users\\iai\\builds\\InterpretableAI\\SysImgBuilder\\.julia\\packages\\PackageCompiler\\4yNnV\\sysimg\\precompile.jl:256.\n",
      "┌ Info: Recompiling stale cache file C:\\Users\\Victor\\.julia\\compiled\\v1.0\\MLDataUtils\\CQWB9.ji for MLDataUtils [cc2ba9b6-d476-5e6d-8eaf-a92d5412d41d]\n",
      "└ @ Base loading.jl:1190\n",
      "WARNING: Method definition ca_chain!(MbedTLS.SSLConfig) in module MbedTLS at C:\\Users\\iai\\builds\\InterpretableAI\\SysImgBuilder\\.julia\\packages\\MbedTLS\\X4xar\\src\\ssl.jl:489 overwritten in module Main at C:\\Users\\iai\\builds\\InterpretableAI\\SysImgBuilder\\.julia\\packages\\PackageCompiler\\4yNnV\\sysimg\\precompile.jl:256.\n",
      "WARNING: Method definition ca_chain!(MbedTLS.SSLConfig) in module MbedTLS at C:\\Users\\iai\\builds\\InterpretableAI\\SysImgBuilder\\.julia\\packages\\MbedTLS\\X4xar\\src\\ssl.jl:489 overwritten in module Main at C:\\Users\\iai\\builds\\InterpretableAI\\SysImgBuilder\\.julia\\packages\\PackageCompiler\\4yNnV\\sysimg\\precompile.jl:256.\n",
      "WARNING: Method definition ca_chain!(MbedTLS.SSLConfig) in module MbedTLS at C:\\Users\\iai\\builds\\InterpretableAI\\SysImgBuilder\\.julia\\packages\\MbedTLS\\X4xar\\src\\ssl.jl:489 overwritten in module Main at C:\\Users\\iai\\builds\\InterpretableAI\\SysImgBuilder\\.julia\\packages\\PackageCompiler\\4yNnV\\sysimg\\precompile.jl:256.\n",
      "WARNING: Method definition ca_chain!(MbedTLS.SSLConfig) in module MbedTLS at C:\\Users\\iai\\builds\\InterpretableAI\\SysImgBuilder\\.julia\\packages\\MbedTLS\\X4xar\\src\\ssl.jl:489 overwritten in module Main at C:\\Users\\iai\\builds\\InterpretableAI\\SysImgBuilder\\.julia\\packages\\PackageCompiler\\4yNnV\\sysimg\\precompile.jl:256.\n"
     ]
    }
   ],
   "source": [
    "using JuMP, Gurobi, DelimitedFiles, Random, LinearAlgebra, DataFrames, CSV, Plots, ScikitLearn, DecisionTree, MLDataUtils;"
   ]
  },
  {
   "cell_type": "code",
   "execution_count": 4,
   "metadata": {},
   "outputs": [
    {
     "name": "stderr",
     "output_type": "stream",
     "text": [
      "┌ Info: Precompiling Impute [f7bf1975-0170-51b9-8c5f-a992d46b9575]\n",
      "└ @ Base loading.jl:1192\n",
      "WARNING: Method definition ca_chain!(MbedTLS.SSLConfig) in module MbedTLS at C:\\Users\\iai\\builds\\InterpretableAI\\SysImgBuilder\\.julia\\packages\\MbedTLS\\X4xar\\src\\ssl.jl:489 overwritten in module Main at C:\\Users\\iai\\builds\\InterpretableAI\\SysImgBuilder\\.julia\\packages\\PackageCompiler\\4yNnV\\sysimg\\precompile.jl:256.\n"
     ]
    }
   ],
   "source": [
    "using DataFrames, CSV, Plots, Dates, Impute  # Copied from Johannes's .ipynb"
   ]
  },
  {
   "cell_type": "markdown",
   "metadata": {},
   "source": [
    "Here is what we can use if we want to do OCT"
   ]
  },
  {
   "cell_type": "code",
   "execution_count": null,
   "metadata": {},
   "outputs": [],
   "source": [
    "df = DataFrame(CSV.read(\".csv\"));\n",
    "cat = [];\n",
    "\n",
    "X = df\n",
    "y = df.ycol\n",
    "delete!(X, [:ycol])\n",
    "\n",
    "categorical!(X, cat)"
   ]
  },
  {
   "cell_type": "code",
   "execution_count": null,
   "metadata": {},
   "outputs": [],
   "source": [
    "(train_X, train_y), (test_X, test_y) = IAI.split_data(:classification, X, y);\n",
    "\n",
    "grid = IAI.GridSearch(\n",
    "    IAI.OptimalTreeClassifier(\n",
    "        max_depth= 3,\n",
    "        minbucket = 5,\n",
    "        criterion = :misclassification\n",
    "    ),   \n",
    ")\n",
    "\n",
    "IAI.fit!(grid, train_X, train_y)"
   ]
  },
  {
   "cell_type": "markdown",
   "metadata": {},
   "source": [
    "This is how we did CART"
   ]
  },
  {
   "cell_type": "code",
   "execution_count": null,
   "metadata": {},
   "outputs": [],
   "source": [
    "input = csv.read(\".csv\");\n",
    "\n",
    "X = input\n",
    "y = input.ycol\n",
    "delete!(X, [:ycol])\n",
    "\n",
    "md_opt = 0\n",
    "md_val = zeros(Float64, 1)\n",
    "md_val[1] = 1.\n",
    "md_max = 8\n",
    "cvs = 5\n",
    "for md = 1:md_max\n",
    "    model = DecisionTreeClassifier(max_depth=md)\n",
    "    DecisionTree.fit!(model, Matrix(X), y)\n",
    "    \n",
    "    val = ScikitLearn.CrossValidation.cross_val_score(model, Matrix(X), y, cv=cvs)\n",
    "    \n",
    "    if (sum(val[i] for i = 1:cvs) / cvs) < md_val[1]\n",
    "        md_opt = md\n",
    "        md_val[1] = (sum(val[i] for i = 1:cvs) / cvs)\n",
    "    end\n",
    "end\n",
    "\n",
    "model = DecisionTreeClassifier(max_depth=md_opt)\n",
    "fit!(model, Matrix(X), y)\n",
    "y_test_predict = ScikitLearn.predict(model, Matrix(X))\n",
    "\n",
    "val = ScikitLearn.CrossValidation.cross_val_score(model, Matrix(X), y, cv=cvs)\n",
    "sum(val[i] for i = 1:cvs) / cvs"
   ]
  },
  {
   "cell_type": "markdown",
   "metadata": {},
   "source": [
    "This was the function from the recitation"
   ]
  },
  {
   "cell_type": "code",
   "execution_count": null,
   "metadata": {},
   "outputs": [],
   "source": [
    "function one_hot_encode(X, names)\n",
    "    X2 = deepcopy(X)\n",
    "    deletecols!(X2, Symbol.(names))\n",
    "    for i in names\n",
    "        vales = unique(X[i])\n",
    "        for j in vales\n",
    "           X2[Symbol(string(i)*\"_\"*string(j))] = (X[i].==j)*1\n",
    "        end\n",
    "    end\n",
    "    return X2\n",
    "end"
   ]
  },
  {
   "cell_type": "markdown",
   "metadata": {},
   "source": [
    "Random forest"
   ]
  },
  {
   "cell_type": "code",
   "execution_count": null,
   "metadata": {},
   "outputs": [],
   "source": [
    "X = one_hot_encode(df, cat)\n",
    "y = X.ycol\n",
    "delete!(X,[:ycol])\n",
    "(X_trainvalid, y_trainvalid), (X_test, y_test) =IAI.split_data(:classification,X, y)\n",
    "\n",
    "X_trainvalid2 = Array{Float64}(undef, size(X_trainvalid, 1), size(X_trainvalid, 2))\n",
    "for i = 1:size(X_trainvalid, 1)\n",
    "    for j = 1:size(X_trainvalid, 2)\n",
    "        X_trainvalid2[i, j] = X_trainvalid[i, j]\n",
    "    end\n",
    "end\n",
    "\n",
    "X_test2 = Array{Float64}(undef, size(X_test, 1), size(X_test, 2))\n",
    "for i = 1:size(X_test, 1)\n",
    "    for j = 1:size(X_test, 2)\n",
    "        X_test2[i, j] = X_test[i, j]\n",
    "    end\n",
    "end\n",
    "\n",
    "y_trainvalid2 = Array{Float64}(undef, size(y_trainvalid))\n",
    "for i = 1:size(X_trainvalid, 1)\n",
    "    y_trainvalid2[i] = y_trainvalid[i]\n",
    "end\n",
    "\n",
    "model = build_forest(y_trainvalid2, X_trainvalid2, 3, 20, 0.5, 6)\n",
    "\n",
    "y_test_predict = apply_forest(model, X_test2)\n",
    "val = 0\n",
    "for r = 1:size(X_test2, 1)\n",
    "    if abs(y_test_predict[r] - y_test[r]) < 0.5\n",
    "        val = val + 1\n",
    "    end\n",
    "end\n",
    "val / size(X_test, 1)"
   ]
  },
  {
   "cell_type": "markdown",
   "metadata": {},
   "source": [
    "Boosted trees"
   ]
  },
  {
   "cell_type": "code",
   "execution_count": null,
   "metadata": {},
   "outputs": [],
   "source": [
    "X = one_hot_encode(df, cat)\n",
    "y = X.ycol\n",
    "delete!(X,[:ycol])\n",
    "(X_trainvalid, y_trainvalid), (X_test, y_test) =IAI.split_data(:classification,X, y)\n",
    "\n",
    "regr_1 = GradientBoostingClassifier()\n",
    "fit!(regr_1,  Matrix(X_trainvalid), y_trainvalid)\n",
    "\n",
    "y_test_predict = regr_1.predict_proba(Matrix(X_test))[:,2]\n",
    "val = 0\n",
    "for r = 1:size(X_test2, 1)\n",
    "    if abs(y_test_predict[r] - y_test[r]) < 0.5\n",
    "        val = val + 1\n",
    "    end\n",
    "end\n",
    "val / size(X_test, 1)"
   ]
  },
  {
   "cell_type": "markdown",
   "metadata": {},
   "source": [
    "In the homework, we didn't really go over optimal regression trees. I am going to look into this to see what we can get. Maybe this could be used to predict temperature"
   ]
  },
  {
   "cell_type": "markdown",
   "metadata": {},
   "source": [
    "This is an example from the documentation"
   ]
  },
  {
   "cell_type": "code",
   "execution_count": null,
   "metadata": {},
   "outputs": [],
   "source": [
    "# df = DataFrame(CSV.File(\n",
    "#     \"yacht_hydrodynamics.data\",\n",
    "#     delim=' ',            # file uses ' ' as separators rather than ','\n",
    "#     ignorerepeated=true,  # sometimes columns are separated by more than one ' '\n",
    "#     header=[:position, :prismatic, :length_displacement, :beam_draught,\n",
    "#             :length_beam, :froude, :resistance],\n",
    "# ))"
   ]
  },
  {
   "cell_type": "code",
   "execution_count": null,
   "metadata": {},
   "outputs": [],
   "source": [
    "grid = IAI.GridSearch(\n",
    "    IAI.OptimalTreeRegressor(\n",
    "        random_seed=123,\n",
    "    ),\n",
    "    max_depth=1:5,\n",
    ")\n",
    "IAI.fit!(grid, train_X, train_y)\n",
    "IAI.get_learner(grid)"
   ]
  },
  {
   "cell_type": "markdown",
   "metadata": {},
   "source": [
    "With linear predictions"
   ]
  },
  {
   "cell_type": "code",
   "execution_count": null,
   "metadata": {},
   "outputs": [],
   "source": [
    "grid = IAI.GridSearch(\n",
    "    IAI.OptimalTreeRegressor(\n",
    "        random_seed=123,\n",
    "        max_depth=2,\n",
    "        regression_sparsity=:all,\n",
    "    ),\n",
    "    regression_lambda=[0.0005, 0.001, 0.005],\n",
    ")\n",
    "IAI.fit!(grid, train_X, train_y)\n",
    "IAI.get_learner(grid)"
   ]
  },
  {
   "cell_type": "markdown",
   "metadata": {},
   "source": [
    "We have continuous variables\n",
    " - Temperature\n",
    " - Precipitation\n",
    " - Pressure\n",
    " - Humidity\n",
    " - Time\n",
    "\n",
    "We will have some parameter variables\n",
    " - The one talking about if it was clear"
   ]
  },
  {
   "cell_type": "code",
   "execution_count": 10,
   "metadata": {},
   "outputs": [
    {
     "name": "stdout",
     "output_type": "stream",
     "text": [
      "thread = 1 warning: error parsing Float64 on row = 134, col = 52: \"\"29.07s\",\", error=INVALID: OK | SENTINEL | QUOTED | DELIMITED \n",
      "thread = 1 warning: error parsing Float64 on row = 145, col = 52: \"\"28.82s\",\", error=INVALID: OK | SENTINEL | QUOTED | DELIMITED \n",
      "thread = 1 warning: error parsing Float64 on row = 146, col = 52: \"\"28.84s\",\", error=INVALID: OK | SENTINEL | QUOTED | DELIMITED \n",
      "thread = 1 warning: error parsing Float64 on row = 147, col = 52: \"\"28.84s\",\", error=INVALID: OK | SENTINEL | QUOTED | DELIMITED \n",
      "thread = 1 warning: error parsing Float64 on row = 148, col = 52: \"\"28.85s\",\", error=INVALID: OK | SENTINEL | QUOTED | DELIMITED \n",
      "thread = 1 warning: error parsing Float64 on row = 149, col = 52: \"\"28.85s\",\", error=INVALID: OK | SENTINEL | QUOTED | DELIMITED \n",
      "thread = 1 warning: error parsing Float64 on row = 150, col = 52: \"\"28.85s\",\", error=INVALID: OK | SENTINEL | QUOTED | DELIMITED \n",
      "thread = 1 warning: error parsing Float64 on row = 151, col = 52: \"\"28.85s\",\", error=INVALID: OK | SENTINEL | QUOTED | DELIMITED \n",
      "thread = 1 warning: error parsing Float64 on row = 152, col = 52: \"\"28.87s\",\", error=INVALID: OK | SENTINEL | QUOTED | DELIMITED \n",
      "thread = 1 warning: error parsing Float64 on row = 153, col = 52: \"\"28.87s\",\", error=INVALID: OK | SENTINEL | QUOTED | DELIMITED \n",
      "thread = 1 warning: error parsing Float64 on row = 154, col = 52: \"\"28.88s\",\", error=INVALID: OK | SENTINEL | QUOTED | DELIMITED \n",
      "thread = 1 warning: error parsing Float64 on row = 155, col = 52: \"\"28.91s\",\", error=INVALID: OK | SENTINEL | QUOTED | DELIMITED \n",
      "thread = 1 warning: error parsing Float64 on row = 898, col = 52: \"\"29.43s\",\", error=INVALID: OK | SENTINEL | QUOTED | DELIMITED \n",
      "thread = 1 warning: error parsing Float64 on row = 899, col = 52: \"\"29.44s\",\", error=INVALID: OK | SENTINEL | QUOTED | DELIMITED \n",
      "thread = 1 warning: error parsing Float64 on row = 900, col = 52: \"\"29.44s\",\", error=INVALID: OK | SENTINEL | QUOTED | DELIMITED \n",
      "thread = 1 warning: error parsing Float64 on row = 901, col = 52: \"\"29.44s\",\", error=INVALID: OK | SENTINEL | QUOTED | DELIMITED \n",
      "thread = 1 warning: error parsing Float64 on row = 1376, col = 52: \"\"29.45s\",\", error=INVALID: OK | SENTINEL | QUOTED | DELIMITED \n",
      "thread = 1 warning: error parsing Float64 on row = 1378, col = 52: \"\"29.45s\",\", error=INVALID: OK | SENTINEL | QUOTED | DELIMITED \n",
      "thread = 1 warning: error parsing Float64 on row = 1487, col = 52: \"\"29.79s\",\", error=INVALID: OK | SENTINEL | QUOTED | DELIMITED \n",
      "thread = 1 warning: error parsing Float64 on row = 1488, col = 52: \"\"29.80s\",\", error=INVALID: OK | SENTINEL | QUOTED | DELIMITED \n",
      "thread = 1 warning: error parsing Float64 on row = 1489, col = 52: \"\"29.80s\",\", error=INVALID: OK | SENTINEL | QUOTED | DELIMITED \n",
      "thread = 1 warning: error parsing Float64 on row = 1490, col = 52: \"\"29.82s\",\", error=INVALID: OK | SENTINEL | QUOTED | DELIMITED \n",
      "thread = 1 warning: error parsing Float64 on row = 1491, col = 52: \"\"29.83s\",\", error=INVALID: OK | SENTINEL | QUOTED | DELIMITED \n",
      "thread = 1 warning: error parsing Float64 on row = 1492, col = 52: \"\"29.83s\",\", error=INVALID: OK | SENTINEL | QUOTED | DELIMITED \n"
     ]
    },
    {
     "ename": "ArgumentError",
     "evalue": "ArgumentError: Month: 18 out of range (1:12)",
     "output_type": "error",
     "traceback": [
      "ArgumentError: Month: 18 out of range (1:12)",
      "",
      "Stacktrace:",
      " [1] Date(::Int64, ::Int64, ::Int64) at C:\\cygwin\\home\\Administrator\\buildbot\\worker\\package_win64\\build\\usr\\share\\julia\\stdlib\\v1.0\\Dates\\src\\types.jl:207",
      " [2] typeparser at C:\\Users\\iai\\builds\\InterpretableAI\\SysImgBuilder\\.julia\\packages\\Parsers\\0cVP5\\src\\dates.jl:16 [inlined]",
      " [3] xparse at C:\\Users\\iai\\builds\\InterpretableAI\\SysImgBuilder\\.julia\\packages\\Parsers\\0cVP5\\src\\Parsers.jl:233 [inlined]",
      " [4] parsevalue!(::Type{Date}, ::Int8, ::Array{UInt64,1}, ::Array{UInt8,1}, ::Int64, ::Int64, ::Parsers.Options{false,true,false,Missing,UInt8,Nothing}, ::Int64, ::Int64, ::Array{Int8,1}, ::Array{Array{UInt64,1},1}) at C:\\Users\\Victor\\.julia\\packages\\CSV\\ztQqu\\src\\CSV.jl:959",
      " [5] parsetape(::Val{false}, ::Bool, ::Int64, ::Dict{Int8,Int8}, ::Array{Array{UInt64,1},1}, ::Array{Array{UInt64,1},1}, ::Array{UInt8,1}, ::Int64, ::Int64, ::Int64, ::Nothing, ::Array{Int64,1}, ::Float64, ::Array{Dict{String,UInt64},1}, ::Array{UInt64,1}, ::Int64, ::Array{Int8,1}, ::Array{Int64,1}, ::Bool, ::Parsers.Options{false,true,false,Missing,UInt8,Nothing}, ::Bool) at C:\\Users\\Victor\\.julia\\packages\\CSV\\ztQqu\\src\\CSV.jl:678",
      " [6] file(::String, ::Bool, ::Bool, ::Int64, ::Nothing, ::Int64, ::Int64, ::Bool, ::Nothing, ::Bool, ::Bool, ::Array{String,1}, ::String, ::Nothing, ::Bool, ::Char, ::Nothing, ::Nothing, ::Char, ::Nothing, ::UInt8, ::Nothing, ::Nothing, ::Nothing, ::Dict{Symbol,DataType}, ::Dict{Int8,Int8}, ::Bool, ::Float64, ::Bool, ::Bool, ::Nothing, ::Bool, ::Bool, ::Nothing) at C:\\Users\\Victor\\.julia\\packages\\CSV\\ztQqu\\src\\CSV.jl:454",
      " [7] #File#15 at C:\\Users\\Victor\\.julia\\packages\\CSV\\ztQqu\\src\\CSV.jl:260 [inlined]",
      " [8] (::getfield(Core, Symbol(\"#kw#Type\")))(::NamedTuple{(:header, :types),Tuple{Bool,Dict{Symbol,DataType}}}, ::Type{CSV.File}, ::String) at .\\none:0",
      " [9] top-level scope at In[10]:1"
     ]
    }
   ],
   "source": [
    "df = DataFrame(CSV.File(\"2352763.csv\", header=true, types=Dict(:HourlyDryBulbTemperature=>Float64, :HourlyStationPressure=>Float64)));\n",
    "dfh = filter(row -> !(strip(row[:REPORT_TYPE]) in [\"SOD\", \"SOM\"]), df) # these are the entries that correspond to daily and monthly data which we exclude;"
   ]
  }
 ],
 "metadata": {
  "kernelspec": {
   "display_name": "Julia 1.0.4",
   "language": "julia",
   "name": "julia-1.0"
  },
  "language_info": {
   "file_extension": ".jl",
   "mimetype": "application/julia",
   "name": "julia",
   "version": "1.0.4"
  }
 },
 "nbformat": 4,
 "nbformat_minor": 2
}
