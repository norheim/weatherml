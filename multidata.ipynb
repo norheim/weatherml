{
 "cells": [
  {
   "cell_type": "code",
   "execution_count": 14,
   "metadata": {
    "execution": {
     "iopub.execute_input": "2020-12-05T17:51:10.141000+01:00",
     "iopub.status.busy": "2020-12-05T17:51:10.140000+01:00",
     "iopub.status.idle": "2020-12-05T17:51:10.166000+01:00"
    }
   },
   "outputs": [],
   "source": [
    "using DataFrames, CSV, Impute, Dates, Plots, Statistics, Interpolations"
   ]
  },
  {
   "cell_type": "code",
   "execution_count": 3,
   "metadata": {
    "execution": {
     "iopub.execute_input": "2020-12-05T17:49:49.862000+01:00",
     "iopub.status.busy": "2020-12-05T17:49:49.862000+01:00",
     "iopub.status.idle": "2020-12-05T17:50:06.394000+01:00"
    }
   },
   "outputs": [],
   "source": [
    "df = CSV.File(\"boston.csv\") |> DataFrame;"
   ]
  },
  {
   "cell_type": "code",
   "execution_count": 4,
   "metadata": {
    "execution": {
     "iopub.execute_input": "2020-12-05T17:50:06.395000+01:00",
     "iopub.status.busy": "2020-12-05T17:50:06.394000+01:00",
     "iopub.status.idle": "2020-12-05T17:50:09.729000+01:00"
    }
   },
   "outputs": [
    {
     "data": {
      "text/plain": [
       "0"
      ]
     },
     "execution_count": 4,
     "metadata": {},
     "output_type": "execute_result"
    }
   ],
   "source": [
    "dfdaily = filter(row -> strip(row[:REPORT_TYPE]) == \"SOD\", df);\n",
    "dfh = filter(row -> !(strip(row[:REPORT_TYPE]) in [\"SOD\", \"SOM\"]), df)\n",
    "sum(ismissing.(dfh[:, :HourlyDryBulbTemperature]))"
   ]
  },
  {
   "cell_type": "code",
   "execution_count": 11,
   "metadata": {
    "execution": {
     "iopub.execute_input": "2020-12-05T17:51:02.425000+01:00",
     "iopub.status.busy": "2020-12-05T17:51:02.424000+01:00",
     "iopub.status.idle": "2020-12-05T17:51:02.659000+01:00"
    }
   },
   "outputs": [
    {
     "data": {
      "text/plain": [
       "resample (generic function with 1 method)"
      ]
     },
     "execution_count": 11,
     "metadata": {},
     "output_type": "execute_result"
    }
   ],
   "source": [
    "function clean(x)\n",
    "    if ismissing(x) || x isa Float64\n",
    "        return x\n",
    "    end\n",
    "    m = match(r\"[+-]?([0-9]*[.])?[0-9]+\",x)\n",
    "    return m ==nothing ? missing : parse(Float64, m.match)\n",
    "end\n",
    "function resample(dfh, factor)\n",
    "    dfh[!,factor] = clean.(dfh[:,factor])\n",
    "    timeseries = Impute.interp(dfh[!, [:DATE, factor]]) |> Impute.locf() |> Impute.nocb() \n",
    "    timeseries[!, factor] = convert.(Float64, timeseries[!, factor]) # remove the missing type\n",
    "    # even sampling\n",
    "    timeseries[!, :rounded] = map((d) -> round(d, Dates.Hour), timeseries[!, :DATE])\n",
    "    even_sampling = by(timeseries, :rounded, factor => mean)\n",
    "    rename!(even_sampling, Symbol(factor, \"_mean\") => :data)\n",
    "    return even_sampling\n",
    "end"
   ]
  },
  {
   "cell_type": "code",
   "execution_count": 226,
   "metadata": {
    "execution": {
     "iopub.execute_input": "2020-12-06T18:12:01.651000+01:00",
     "iopub.status.busy": "2020-12-06T18:12:01.650000+01:00",
     "iopub.status.idle": "2020-12-06T18:12:01.657000+01:00"
    }
   },
   "outputs": [
    {
     "data": {
      "text/plain": [
       ":a => :d"
      ]
     },
     "execution_count": 226,
     "metadata": {},
     "output_type": "execute_result"
    }
   ],
   "source": [
    "a,b = first(Dict(:d=>:b, :a=>:d))"
   ]
  },
  {
   "cell_type": "code",
   "execution_count": 225,
   "metadata": {
    "execution": {
     "iopub.execute_input": "2020-12-06T18:11:54.087000+01:00",
     "iopub.status.busy": "2020-12-06T18:11:54.087000+01:00",
     "iopub.status.idle": "2020-12-06T18:11:54.090000+01:00"
    }
   },
   "outputs": [
    {
     "data": {
      "text/plain": [
       ":b"
      ]
     },
     "execution_count": 225,
     "metadata": {},
     "output_type": "execute_result"
    }
   ],
   "source": [
    "b"
   ]
  },
  {
   "cell_type": "code",
   "execution_count": 256,
   "metadata": {
    "execution": {
     "iopub.execute_input": "2020-12-06T18:32:27.767000+01:00",
     "iopub.status.busy": "2020-12-06T18:32:27.767000+01:00",
     "iopub.status.idle": "2020-12-06T18:32:27.847000+01:00"
    }
   },
   "outputs": [
    {
     "data": {
      "text/plain": [
       "selectdata (generic function with 1 method)"
      ]
     },
     "execution_count": 256,
     "metadata": {},
     "output_type": "execute_result"
    }
   ],
   "source": [
    "function selectdata(dfh, factors)\n",
    "    factor, frename = first(factors)\n",
    "    mdata = resample(dfh, factor)\n",
    "    rename!(mdata, Dict(:data => frename, :rounded => :sampleT));\n",
    "    for (factor, frename) in factors[2:end]\n",
    "        mdata[:, frename] = resample(dfh, factor)[:, :data]\n",
    "    end\n",
    "    return mdata\n",
    "end"
   ]
  },
  {
   "cell_type": "code",
   "execution_count": 258,
   "metadata": {
    "execution": {
     "iopub.execute_input": "2020-12-06T18:32:34.312000+01:00",
     "iopub.status.busy": "2020-12-06T18:32:34.312000+01:00",
     "iopub.status.idle": "2020-12-06T18:32:34.315000+01:00"
    }
   },
   "outputs": [],
   "source": [
    "factors =  [(:HourlyDryBulbTemperature,:temp), (:HourlyPrecipitation,:prec), (:HourlySeaLevelPressure,:pres)];"
   ]
  },
  {
   "cell_type": "code",
   "execution_count": 261,
   "metadata": {
    "execution": {
     "iopub.execute_input": "2020-12-06T18:32:42.265000+01:00",
     "iopub.status.busy": "2020-12-06T18:32:42.265000+01:00",
     "iopub.status.idle": "2020-12-06T18:32:42.428000+01:00"
    }
   },
   "outputs": [],
   "source": [
    "mdata = selectdata(dfh, factors);"
   ]
  },
  {
   "cell_type": "code",
   "execution_count": 12,
   "metadata": {
    "execution": {
     "iopub.execute_input": "2020-12-05T17:51:02.784000+01:00",
     "iopub.status.busy": "2020-12-05T17:51:02.784000+01:00",
     "iopub.status.idle": "2020-12-05T17:51:02.793000+01:00"
    }
   },
   "outputs": [],
   "source": [
    "factors = [:HourlyDryBulbTemperature, :HourlyPrecipitation, :HourlySeaLevelPressure];"
   ]
  },
  {
   "cell_type": "code",
   "execution_count": 251,
   "metadata": {
    "execution": {
     "iopub.execute_input": "2020-12-06T18:30:59.616000+01:00",
     "iopub.status.busy": "2020-12-06T18:30:59.615000+01:00",
     "iopub.status.idle": "2020-12-06T18:30:59.791000+01:00"
    }
   },
   "outputs": [],
   "source": [
    "mdata = resample(dfh, :HourlyDryBulbTemperature)\n",
    "prec = resample(dfh, :HourlyPrecipitation)\n",
    "pres = resample(dfh, :HourlySeaLevelPressure)\n",
    "mdata[!, :prec] = prec[:, :data]\n",
    "mdata[!, :pres] = pres[:, :data];\n",
    "rename!(mdata, Dict(:data => :temp, :rounded => :sampleT));"
   ]
  },
  {
   "cell_type": "code",
   "execution_count": 34,
   "metadata": {
    "execution": {
     "iopub.execute_input": "2020-12-05T17:56:12.805000+01:00",
     "iopub.status.busy": "2020-12-05T17:56:12.805000+01:00",
     "iopub.status.idle": "2020-12-05T17:56:12.848000+01:00"
    }
   },
   "outputs": [
    {
     "data": {
      "text/plain": [
       "(25053, 3)"
      ]
     },
     "execution_count": 34,
     "metadata": {},
     "output_type": "execute_result"
    }
   ],
   "source": [
    "size(mdata).-1"
   ]
  },
  {
   "cell_type": "code",
   "execution_count": 71,
   "metadata": {
    "execution": {
     "iopub.execute_input": "2020-12-05T18:15:09.215000+01:00",
     "iopub.status.busy": "2020-12-05T18:15:09.215000+01:00",
     "iopub.status.idle": "2020-12-05T18:15:09.220000+01:00"
    }
   },
   "outputs": [],
   "source": [
    "monthdayhour = x -> [Dates.month(x) Dates.day(x) Dates.hour(x)];"
   ]
  },
  {
   "cell_type": "code",
   "execution_count": 117,
   "metadata": {
    "execution": {
     "iopub.execute_input": "2020-12-06T16:53:19.578000+01:00",
     "iopub.status.busy": "2020-12-06T16:53:19.578000+01:00",
     "iopub.status.idle": "2020-12-06T16:53:19.586000+01:00"
    }
   },
   "outputs": [
    {
     "data": {
      "text/html": [
       "<table class=\"data-frame\"><thead><tr><th></th><th>temp</th><th>prec</th></tr><tr><th></th><th>Float64</th><th>Float64</th></tr></thead><tbody><p>5 rows × 2 columns</p><tr><th>1</th><td>2.0</td><td>0.0</td></tr><tr><th>2</th><td>1.0</td><td>0.0</td></tr><tr><th>3</th><td>1.0</td><td>0.0</td></tr><tr><th>4</th><td>1.0</td><td>0.0</td></tr><tr><th>5</th><td>0.0</td><td>0.0</td></tr></tbody></table>"
      ],
      "text/latex": [
       "\\begin{tabular}{r|cc}\n",
       "\t& temp & prec\\\\\n",
       "\t\\hline\n",
       "\t& Float64 & Float64\\\\\n",
       "\t\\hline\n",
       "\t1 & 2.0 & 0.0 \\\\\n",
       "\t2 & 1.0 & 0.0 \\\\\n",
       "\t3 & 1.0 & 0.0 \\\\\n",
       "\t4 & 1.0 & 0.0 \\\\\n",
       "\t5 & 0.0 & 0.0 \\\\\n",
       "\\end{tabular}\n"
      ],
      "text/plain": [
       "5×2 DataFrame\n",
       "│ Row │ temp    │ prec    │\n",
       "│     │ \u001b[90mFloat64\u001b[39m │ \u001b[90mFloat64\u001b[39m │\n",
       "├─────┼─────────┼─────────┤\n",
       "│ 1   │ 2.0     │ 0.0     │\n",
       "│ 2   │ 1.0     │ 0.0     │\n",
       "│ 3   │ 1.0     │ 0.0     │\n",
       "│ 4   │ 1.0     │ 0.0     │\n",
       "│ 5   │ 0.0     │ 0.0     │"
      ]
     },
     "execution_count": 117,
     "metadata": {},
     "output_type": "execute_result"
    }
   ],
   "source": [
    "mdata[1:5,2:3]"
   ]
  },
  {
   "cell_type": "code",
   "execution_count": 120,
   "metadata": {
    "execution": {
     "iopub.execute_input": "2020-12-06T16:53:37.294000+01:00",
     "iopub.status.busy": "2020-12-06T16:53:37.293000+01:00",
     "iopub.status.idle": "2020-12-06T16:53:37.437000+01:00"
    }
   },
   "outputs": [
    {
     "data": {
      "text/plain": [
       "1×10 LinearAlgebra.Adjoint{Float64,Array{Float64,1}}:\n",
       " 2.0  0.0  1.0  0.0  1.0  0.0  1.0  0.0  0.0  0.0"
      ]
     },
     "execution_count": 120,
     "metadata": {},
     "output_type": "execute_result"
    }
   ],
   "source": [
    "reduce(vcat, (mdata[1:5,2:3] |> Matrix)')'"
   ]
  },
  {
   "cell_type": "code",
   "execution_count": 266,
   "metadata": {
    "execution": {
     "iopub.execute_input": "2020-12-06T18:35:14.266000+01:00",
     "iopub.status.busy": "2020-12-06T18:35:14.266000+01:00",
     "iopub.status.idle": "2020-12-06T18:35:14.378000+01:00"
    }
   },
   "outputs": [],
   "source": [
    "hr = 0\n",
    "_, ntypes = size(mdata) .- 1\n",
    "year, month, startday = start\n",
    "additional_factors = 3                    # for month, day, hour info\n",
    "historical_factors = 24*dayslookback\n",
    "ntype_factors = ntypes*historical_factors\n",
    "total_factors = ntype_factors + additional_factors\n",
    "n_datapoints = 24*ndays\n",
    "X = zeros(n_datapoints, total_factors)\n",
    "y = zeros(n_datapoints);\n",
    "t0 = DateTime(year, month, startday, hr, 0)\n",
    "dateidx = findall(x -> x== t0, mdata[:, :sampleT])[1];"
   ]
  },
  {
   "cell_type": "code",
   "execution_count": 267,
   "metadata": {
    "execution": {
     "iopub.execute_input": "2020-12-06T18:35:16.638000+01:00",
     "iopub.status.busy": "2020-12-06T18:35:16.637000+01:00",
     "iopub.status.idle": "2020-12-06T18:35:16.663000+01:00"
    }
   },
   "outputs": [
    {
     "data": {
      "text/html": [
       "<table class=\"data-frame\"><thead><tr><th></th><th>sampleT</th><th>temp</th><th>prec</th><th>pres</th></tr><tr><th></th><th>DateTime</th><th>Float64</th><th>Float64</th><th>Float64</th></tr></thead><tbody><p>25,054 rows × 4 columns</p><tr><th>1</th><td>2018-01-01T01:00:00</td><td>2.0</td><td>0.0</td><td>30.2</td></tr><tr><th>2</th><td>2018-01-01T02:00:00</td><td>1.0</td><td>0.0</td><td>30.21</td></tr><tr><th>3</th><td>2018-01-01T03:00:00</td><td>1.0</td><td>0.0</td><td>30.21</td></tr><tr><th>4</th><td>2018-01-01T04:00:00</td><td>1.0</td><td>0.0</td><td>30.2</td></tr><tr><th>5</th><td>2018-01-01T05:00:00</td><td>0.0</td><td>0.0</td><td>30.19</td></tr><tr><th>6</th><td>2018-01-01T06:00:00</td><td>0.0</td><td>0.0</td><td>30.2</td></tr><tr><th>7</th><td>2018-01-01T07:00:00</td><td>0.0</td><td>0.0</td><td>30.22</td></tr><tr><th>8</th><td>2018-01-01T08:00:00</td><td>0.0</td><td>0.0</td><td>30.24</td></tr><tr><th>9</th><td>2018-01-01T09:00:00</td><td>1.0</td><td>0.0</td><td>30.24</td></tr><tr><th>10</th><td>2018-01-01T10:00:00</td><td>4.0</td><td>0.0</td><td>30.25</td></tr><tr><th>11</th><td>2018-01-01T11:00:00</td><td>7.0</td><td>0.0</td><td>30.23</td></tr><tr><th>12</th><td>2018-01-01T12:00:00</td><td>9.0</td><td>0.0</td><td>30.2</td></tr><tr><th>13</th><td>2018-01-01T13:00:00</td><td>12.0</td><td>0.0</td><td>30.18</td></tr><tr><th>14</th><td>2018-01-01T14:00:00</td><td>13.0</td><td>0.0</td><td>30.17</td></tr><tr><th>15</th><td>2018-01-01T15:00:00</td><td>13.0</td><td>0.0</td><td>30.19</td></tr><tr><th>16</th><td>2018-01-01T16:00:00</td><td>12.0</td><td>0.0</td><td>30.21</td></tr><tr><th>17</th><td>2018-01-01T17:00:00</td><td>11.0</td><td>0.0</td><td>30.23</td></tr><tr><th>18</th><td>2018-01-01T18:00:00</td><td>9.0</td><td>0.0</td><td>30.26</td></tr><tr><th>19</th><td>2018-01-01T19:00:00</td><td>8.0</td><td>0.0</td><td>30.27</td></tr><tr><th>20</th><td>2018-01-01T20:00:00</td><td>8.0</td><td>0.0</td><td>30.28</td></tr><tr><th>21</th><td>2018-01-01T21:00:00</td><td>7.0</td><td>0.0</td><td>30.28</td></tr><tr><th>22</th><td>2018-01-01T22:00:00</td><td>7.0</td><td>0.0</td><td>30.28</td></tr><tr><th>23</th><td>2018-01-01T23:00:00</td><td>7.0</td><td>0.0</td><td>30.28</td></tr><tr><th>24</th><td>2018-01-02T00:00:00</td><td>8.0</td><td>0.0</td><td>30.26</td></tr><tr><th>25</th><td>2018-01-02T01:00:00</td><td>8.0</td><td>0.0</td><td>30.24</td></tr><tr><th>26</th><td>2018-01-02T02:00:00</td><td>8.0</td><td>0.0</td><td>30.25</td></tr><tr><th>27</th><td>2018-01-02T03:00:00</td><td>7.0</td><td>0.0</td><td>30.24</td></tr><tr><th>28</th><td>2018-01-02T04:00:00</td><td>6.0</td><td>0.0</td><td>30.24</td></tr><tr><th>29</th><td>2018-01-02T05:00:00</td><td>5.0</td><td>0.0</td><td>30.25</td></tr><tr><th>30</th><td>2018-01-02T06:00:00</td><td>5.0</td><td>0.0</td><td>30.27</td></tr><tr><th>&vellip;</th><td>&vellip;</td><td>&vellip;</td><td>&vellip;</td><td>&vellip;</td></tr></tbody></table>"
      ],
      "text/latex": [
       "\\begin{tabular}{r|cccc}\n",
       "\t& sampleT & temp & prec & pres\\\\\n",
       "\t\\hline\n",
       "\t& DateTime & Float64 & Float64 & Float64\\\\\n",
       "\t\\hline\n",
       "\t1 & 2018-01-01T01:00:00 & 2.0 & 0.0 & 30.2 \\\\\n",
       "\t2 & 2018-01-01T02:00:00 & 1.0 & 0.0 & 30.21 \\\\\n",
       "\t3 & 2018-01-01T03:00:00 & 1.0 & 0.0 & 30.21 \\\\\n",
       "\t4 & 2018-01-01T04:00:00 & 1.0 & 0.0 & 30.2 \\\\\n",
       "\t5 & 2018-01-01T05:00:00 & 0.0 & 0.0 & 30.19 \\\\\n",
       "\t6 & 2018-01-01T06:00:00 & 0.0 & 0.0 & 30.2 \\\\\n",
       "\t7 & 2018-01-01T07:00:00 & 0.0 & 0.0 & 30.22 \\\\\n",
       "\t8 & 2018-01-01T08:00:00 & 0.0 & 0.0 & 30.24 \\\\\n",
       "\t9 & 2018-01-01T09:00:00 & 1.0 & 0.0 & 30.24 \\\\\n",
       "\t10 & 2018-01-01T10:00:00 & 4.0 & 0.0 & 30.25 \\\\\n",
       "\t11 & 2018-01-01T11:00:00 & 7.0 & 0.0 & 30.23 \\\\\n",
       "\t12 & 2018-01-01T12:00:00 & 9.0 & 0.0 & 30.2 \\\\\n",
       "\t13 & 2018-01-01T13:00:00 & 12.0 & 0.0 & 30.18 \\\\\n",
       "\t14 & 2018-01-01T14:00:00 & 13.0 & 0.0 & 30.17 \\\\\n",
       "\t15 & 2018-01-01T15:00:00 & 13.0 & 0.0 & 30.19 \\\\\n",
       "\t16 & 2018-01-01T16:00:00 & 12.0 & 0.0 & 30.21 \\\\\n",
       "\t17 & 2018-01-01T17:00:00 & 11.0 & 0.0 & 30.23 \\\\\n",
       "\t18 & 2018-01-01T18:00:00 & 9.0 & 0.0 & 30.26 \\\\\n",
       "\t19 & 2018-01-01T19:00:00 & 8.0 & 0.0 & 30.27 \\\\\n",
       "\t20 & 2018-01-01T20:00:00 & 8.0 & 0.0 & 30.28 \\\\\n",
       "\t21 & 2018-01-01T21:00:00 & 7.0 & 0.0 & 30.28 \\\\\n",
       "\t22 & 2018-01-01T22:00:00 & 7.0 & 0.0 & 30.28 \\\\\n",
       "\t23 & 2018-01-01T23:00:00 & 7.0 & 0.0 & 30.28 \\\\\n",
       "\t24 & 2018-01-02T00:00:00 & 8.0 & 0.0 & 30.26 \\\\\n",
       "\t25 & 2018-01-02T01:00:00 & 8.0 & 0.0 & 30.24 \\\\\n",
       "\t26 & 2018-01-02T02:00:00 & 8.0 & 0.0 & 30.25 \\\\\n",
       "\t27 & 2018-01-02T03:00:00 & 7.0 & 0.0 & 30.24 \\\\\n",
       "\t28 & 2018-01-02T04:00:00 & 6.0 & 0.0 & 30.24 \\\\\n",
       "\t29 & 2018-01-02T05:00:00 & 5.0 & 0.0 & 30.25 \\\\\n",
       "\t30 & 2018-01-02T06:00:00 & 5.0 & 0.0 & 30.27 \\\\\n",
       "\t$\\dots$ & $\\dots$ & $\\dots$ & $\\dots$ & $\\dots$ \\\\\n",
       "\\end{tabular}\n"
      ],
      "text/plain": [
       "25054×4 DataFrame\n",
       "│ Row   │ sampleT             │ temp    │ prec    │ pres    │\n",
       "│       │ \u001b[90mDateTime\u001b[39m            │ \u001b[90mFloat64\u001b[39m │ \u001b[90mFloat64\u001b[39m │ \u001b[90mFloat64\u001b[39m │\n",
       "├───────┼─────────────────────┼─────────┼─────────┼─────────┤\n",
       "│ 1     │ 2018-01-01T01:00:00 │ 2.0     │ 0.0     │ 30.2    │\n",
       "│ 2     │ 2018-01-01T02:00:00 │ 1.0     │ 0.0     │ 30.21   │\n",
       "│ 3     │ 2018-01-01T03:00:00 │ 1.0     │ 0.0     │ 30.21   │\n",
       "│ 4     │ 2018-01-01T04:00:00 │ 1.0     │ 0.0     │ 30.2    │\n",
       "│ 5     │ 2018-01-01T05:00:00 │ 0.0     │ 0.0     │ 30.19   │\n",
       "│ 6     │ 2018-01-01T06:00:00 │ 0.0     │ 0.0     │ 30.2    │\n",
       "│ 7     │ 2018-01-01T07:00:00 │ 0.0     │ 0.0     │ 30.22   │\n",
       "│ 8     │ 2018-01-01T08:00:00 │ 0.0     │ 0.0     │ 30.24   │\n",
       "│ 9     │ 2018-01-01T09:00:00 │ 1.0     │ 0.0     │ 30.24   │\n",
       "│ 10    │ 2018-01-01T10:00:00 │ 4.0     │ 0.0     │ 30.25   │\n",
       "⋮\n",
       "│ 25044 │ 2020-11-09T17:00:00 │ 51.0    │ 0.0     │ 30.25   │\n",
       "│ 25045 │ 2020-11-09T18:00:00 │ 51.0    │ 0.0     │ 30.25   │\n",
       "│ 25046 │ 2020-11-09T19:00:00 │ 51.0    │ 0.0     │ 30.25   │\n",
       "│ 25047 │ 2020-11-09T20:00:00 │ 50.0    │ 0.0     │ 30.24   │\n",
       "│ 25048 │ 2020-11-09T21:00:00 │ 50.0    │ 0.0     │ 30.24   │\n",
       "│ 25049 │ 2020-11-09T22:00:00 │ 51.0    │ 0.0     │ 30.24   │\n",
       "│ 25050 │ 2020-11-09T23:00:00 │ 50.0    │ 0.0     │ 30.23   │\n",
       "│ 25051 │ 2020-11-10T00:00:00 │ 50.0    │ 0.0     │ 30.22   │\n",
       "│ 25052 │ 2020-11-10T01:00:00 │ 50.0    │ 0.0     │ 30.2    │\n",
       "│ 25053 │ 2020-11-10T02:00:00 │ 48.0    │ 0.0     │ 30.2    │\n",
       "│ 25054 │ 2020-11-10T03:00:00 │ 50.0    │ 0.0     │ 30.19   │"
      ]
     },
     "execution_count": 267,
     "metadata": {},
     "output_type": "execute_result"
    }
   ],
   "source": [
    "mdata"
   ]
  },
  {
   "cell_type": "code",
   "execution_count": 268,
   "metadata": {
    "execution": {
     "iopub.execute_input": "2020-12-06T18:35:21.264000+01:00",
     "iopub.status.busy": "2020-12-06T18:35:21.263000+01:00",
     "iopub.status.idle": "2020-12-06T18:35:21.277000+01:00"
    }
   },
   "outputs": [
    {
     "data": {
      "text/plain": [
       "1×72 LinearAlgebra.Adjoint{Float64,Array{Float64,1}}:\n",
       " 8.0  0.0  30.26  8.0  0.0  30.24  8.0  …  16.0  0.0  30.24  17.0  0.0  30.24"
      ]
     },
     "execution_count": 268,
     "metadata": {},
     "output_type": "execute_result"
    }
   ],
   "source": [
    "hist = reduce(vcat, (mdata[dateidx:dateidx+historical_factors-1,2:end] |> Matrix)')'"
   ]
  },
  {
   "cell_type": "code",
   "execution_count": 124,
   "metadata": {
    "execution": {
     "iopub.execute_input": "2020-12-06T16:54:22.875000+01:00",
     "iopub.status.busy": "2020-12-06T16:54:22.875000+01:00",
     "iopub.status.idle": "2020-12-06T16:54:22.882000+01:00"
    }
   },
   "outputs": [
    {
     "data": {
      "text/plain": [
       "1"
      ]
     },
     "execution_count": 124,
     "metadata": {},
     "output_type": "execute_result"
    }
   ],
   "source": [
    "offset=1"
   ]
  },
  {
   "cell_type": "code",
   "execution_count": 125,
   "metadata": {
    "execution": {
     "iopub.execute_input": "2020-12-06T16:54:24.695000+01:00",
     "iopub.status.busy": "2020-12-06T16:54:24.695000+01:00",
     "iopub.status.idle": "2020-12-06T16:54:24.703000+01:00"
    }
   },
   "outputs": [
    {
     "data": {
      "text/plain": [
       "1×5 LinearAlgebra.Adjoint{Float64,Array{Float64,1}}:\n",
       " 1.0  2.0  2.0  0.0  30.2"
      ]
     },
     "execution_count": 125,
     "metadata": {},
     "output_type": "execute_result"
    }
   ],
   "source": [
    "[1 2 (mdata[1, 2:end] |> Vector)']"
   ]
  },
  {
   "cell_type": "code",
   "execution_count": 126,
   "metadata": {
    "execution": {
     "iopub.execute_input": "2020-12-06T16:54:25.322000+01:00",
     "iopub.status.busy": "2020-12-06T16:54:25.322000+01:00",
     "iopub.status.idle": "2020-12-06T16:54:25.368000+01:00"
    }
   },
   "outputs": [],
   "source": [
    "for idx=1:n_datapoints\n",
    "    next_point = dateidx+historical_factors+idx-1\n",
    "    predict = next_point+offset-1\n",
    "    predict_date = mdata[predict,:sampleT]\n",
    "    X[idx, 1:total_factors] = [hist monthdayhour(predict_date)]\n",
    "    y[idx] = mdata[predict,predicttype]\n",
    "    hist = [hist[(1+ntypes):end]' (mdata[next_point, 2:end] |> Vector)']\n",
    "end"
   ]
  },
  {
   "cell_type": "code",
   "execution_count": 209,
   "metadata": {
    "execution": {
     "iopub.execute_input": "2020-12-06T18:03:42.516000+01:00",
     "iopub.status.busy": "2020-12-06T18:03:42.515000+01:00",
     "iopub.status.idle": "2020-12-06T18:03:42.608000+01:00"
    }
   },
   "outputs": [
    {
     "data": {
      "text/plain": [
       "build_multi_data (generic function with 1 method)"
      ]
     },
     "execution_count": 209,
     "metadata": {},
     "output_type": "execute_result"
    }
   ],
   "source": [
    "function build_multi_data(mdata, predicttype, start, dayslookback, ndays; offset=1, hour=0)\n",
    "    _, ntypes = size(mdata) .- 1\n",
    "    year, month, startday = start\n",
    "    additional_factors = 3                    # for month, day, hour info\n",
    "    historical_factors = 24*dayslookback\n",
    "    ntype_factors = ntypes*historical_factors\n",
    "    total_factors = ntype_factors + additional_factors\n",
    "    n_datapoints = 24*ndays\n",
    "    X = zeros(n_datapoints, total_factors)\n",
    "    y = zeros(n_datapoints);\n",
    "    t0 = DateTime(year, month, startday, hour, 0)\n",
    "    dateidx = findall(x -> x== t0, mdata[:, :sampleT])[1];\n",
    "    hist = reduce(vcat, (mdata[dateidx:dateidx+historical_factors-1,2:end] |> Matrix)')'\n",
    "    for idx=1:n_datapoints\n",
    "        next_point = dateidx+historical_factors+idx-1\n",
    "        predict = next_point+offset-1\n",
    "        predict_date = mdata[predict,:sampleT]\n",
    "        X[idx, 1:total_factors] = [hist monthdayhour(predict_date)]\n",
    "        y[idx] = mdata[predict,predicttype]\n",
    "        hist = [hist[(1+ntypes):end]' (mdata[next_point, 2:end] |> Vector)']\n",
    "    end\n",
    "   return X,y\n",
    "end"
   ]
  },
  {
   "cell_type": "code",
   "execution_count": 263,
   "metadata": {
    "execution": {
     "iopub.execute_input": "2020-12-06T18:34:23.115000+01:00",
     "iopub.status.busy": "2020-12-06T18:34:23.114000+01:00",
     "iopub.status.idle": "2020-12-06T18:34:23.122000+01:00"
    }
   },
   "outputs": [
    {
     "data": {
      "text/plain": [
       ":temp"
      ]
     },
     "execution_count": 263,
     "metadata": {},
     "output_type": "execute_result"
    }
   ],
   "source": [
    "start = 2018, 1, 2\n",
    "dayslookback = 1\n",
    "ndays = 10\n",
    "predicttype = :temp"
   ]
  },
  {
   "cell_type": "code",
   "execution_count": 215,
   "metadata": {
    "execution": {
     "iopub.execute_input": "2020-12-06T18:04:32.765000+01:00",
     "iopub.status.busy": "2020-12-06T18:04:32.764000+01:00",
     "iopub.status.idle": "2020-12-06T18:04:32.781000+01:00"
    }
   },
   "outputs": [],
   "source": [
    "Xm, ym = build_multi_data(mdata, predicttype, start, dayslookback, ndays);"
   ]
  },
  {
   "cell_type": "code",
   "execution_count": 216,
   "metadata": {
    "execution": {
     "iopub.execute_input": "2020-12-06T18:04:33.383000+01:00",
     "iopub.status.busy": "2020-12-06T18:04:33.383000+01:00",
     "iopub.status.idle": "2020-12-06T18:04:33.391000+01:00"
    }
   },
   "outputs": [
    {
     "data": {
      "text/plain": [
       "240-element Array{Float64,1}:\n",
       " 19.0              \n",
       " 18.0              \n",
       " 19.0              \n",
       " 18.0              \n",
       " 18.0              \n",
       " 18.0              \n",
       " 17.0              \n",
       " 17.0              \n",
       " 17.0              \n",
       " 20.0              \n",
       " 21.0              \n",
       " 23.0              \n",
       " 25.0              \n",
       "  ⋮                \n",
       " 60.0              \n",
       " 57.333333333333336\n",
       " 57.25             \n",
       " 58.5              \n",
       " 58.5              \n",
       " 57.5              \n",
       " 57.0              \n",
       " 59.0              \n",
       " 60.0              \n",
       " 60.0              \n",
       " 57.75             \n",
       " 57.0              "
      ]
     },
     "execution_count": 216,
     "metadata": {},
     "output_type": "execute_result"
    }
   ],
   "source": [
    "ym"
   ]
  },
  {
   "cell_type": "code",
   "execution_count": 218,
   "metadata": {
    "execution": {
     "iopub.execute_input": "2020-12-06T18:04:42.365000+01:00",
     "iopub.status.busy": "2020-12-06T18:04:42.365000+01:00",
     "iopub.status.idle": "2020-12-06T18:04:42.380000+01:00"
    }
   },
   "outputs": [
    {
     "data": {
      "text/plain": [
       "75-element Array{Float64,1}:\n",
       "  8.0 \n",
       "  0.0 \n",
       " 30.26\n",
       "  8.0 \n",
       "  0.0 \n",
       " 30.24\n",
       "  8.0 \n",
       "  0.0 \n",
       " 30.25\n",
       "  7.0 \n",
       "  0.0 \n",
       " 30.24\n",
       "  6.0 \n",
       "  ⋮   \n",
       " 17.0 \n",
       "  0.0 \n",
       " 30.23\n",
       " 16.0 \n",
       "  0.0 \n",
       " 30.24\n",
       " 17.0 \n",
       "  0.0 \n",
       " 30.24\n",
       "  1.0 \n",
       "  3.0 \n",
       "  0.0 "
      ]
     },
     "execution_count": 218,
     "metadata": {},
     "output_type": "execute_result"
    }
   ],
   "source": [
    "Xm[1,:]"
   ]
  },
  {
   "cell_type": "code",
   "execution_count": 208,
   "metadata": {
    "execution": {
     "iopub.execute_input": "2020-12-06T18:03:21.564000+01:00",
     "iopub.status.busy": "2020-12-06T18:03:21.564000+01:00",
     "iopub.status.idle": "2020-12-06T18:03:21.582000+01:00"
    }
   },
   "outputs": [
    {
     "data": {
      "text/html": [
       "<table class=\"data-frame\"><thead><tr><th></th><th>sampleT</th><th>temp</th><th>prec</th><th>pres</th></tr><tr><th></th><th>DateTime</th><th>Float64</th><th>Float64</th><th>Float64</th></tr></thead><tbody><p>26 rows × 4 columns</p><tr><th>1</th><td>2018-01-02T00:00:00</td><td>8.0</td><td>0.0</td><td>30.26</td></tr><tr><th>2</th><td>2018-01-02T01:00:00</td><td>8.0</td><td>0.0</td><td>30.24</td></tr><tr><th>3</th><td>2018-01-02T02:00:00</td><td>8.0</td><td>0.0</td><td>30.25</td></tr><tr><th>4</th><td>2018-01-02T03:00:00</td><td>7.0</td><td>0.0</td><td>30.24</td></tr><tr><th>5</th><td>2018-01-02T04:00:00</td><td>6.0</td><td>0.0</td><td>30.24</td></tr><tr><th>6</th><td>2018-01-02T05:00:00</td><td>5.0</td><td>0.0</td><td>30.25</td></tr><tr><th>7</th><td>2018-01-02T06:00:00</td><td>5.0</td><td>0.0</td><td>30.27</td></tr><tr><th>8</th><td>2018-01-02T07:00:00</td><td>5.0</td><td>0.0</td><td>30.29</td></tr><tr><th>9</th><td>2018-01-02T08:00:00</td><td>6.0</td><td>0.0</td><td>30.31</td></tr><tr><th>10</th><td>2018-01-02T09:00:00</td><td>7.0</td><td>0.0</td><td>30.32</td></tr><tr><th>11</th><td>2018-01-02T10:00:00</td><td>9.0</td><td>0.0</td><td>30.33</td></tr><tr><th>12</th><td>2018-01-02T11:00:00</td><td>11.0</td><td>0.0</td><td>30.31</td></tr><tr><th>13</th><td>2018-01-02T12:00:00</td><td>13.0</td><td>0.0</td><td>30.27</td></tr><tr><th>14</th><td>2018-01-02T13:00:00</td><td>14.0</td><td>0.0</td><td>30.25</td></tr><tr><th>15</th><td>2018-01-02T14:00:00</td><td>17.0</td><td>0.0</td><td>30.23</td></tr><tr><th>16</th><td>2018-01-02T15:00:00</td><td>18.0</td><td>0.0</td><td>30.24</td></tr><tr><th>17</th><td>2018-01-02T16:00:00</td><td>18.0</td><td>0.0</td><td>30.23</td></tr><tr><th>18</th><td>2018-01-02T17:00:00</td><td>18.0</td><td>0.0</td><td>30.23</td></tr><tr><th>19</th><td>2018-01-02T18:00:00</td><td>18.0</td><td>0.0</td><td>30.23</td></tr><tr><th>20</th><td>2018-01-02T19:00:00</td><td>18.0</td><td>0.0</td><td>30.25</td></tr><tr><th>21</th><td>2018-01-02T20:00:00</td><td>17.0</td><td>0.0</td><td>30.24</td></tr><tr><th>22</th><td>2018-01-02T21:00:00</td><td>17.0</td><td>0.0</td><td>30.23</td></tr><tr><th>23</th><td>2018-01-02T22:00:00</td><td>16.0</td><td>0.0</td><td>30.24</td></tr><tr><th>24</th><td>2018-01-02T23:00:00</td><td>17.0</td><td>0.0</td><td>30.24</td></tr><tr><th>25</th><td>2018-01-03T00:00:00</td><td>19.0</td><td>0.0</td><td>30.22</td></tr><tr><th>26</th><td>2018-01-03T01:00:00</td><td>18.0</td><td>0.0</td><td>30.23</td></tr></tbody></table>"
      ],
      "text/latex": [
       "\\begin{tabular}{r|cccc}\n",
       "\t& sampleT & temp & prec & pres\\\\\n",
       "\t\\hline\n",
       "\t& DateTime & Float64 & Float64 & Float64\\\\\n",
       "\t\\hline\n",
       "\t1 & 2018-01-02T00:00:00 & 8.0 & 0.0 & 30.26 \\\\\n",
       "\t2 & 2018-01-02T01:00:00 & 8.0 & 0.0 & 30.24 \\\\\n",
       "\t3 & 2018-01-02T02:00:00 & 8.0 & 0.0 & 30.25 \\\\\n",
       "\t4 & 2018-01-02T03:00:00 & 7.0 & 0.0 & 30.24 \\\\\n",
       "\t5 & 2018-01-02T04:00:00 & 6.0 & 0.0 & 30.24 \\\\\n",
       "\t6 & 2018-01-02T05:00:00 & 5.0 & 0.0 & 30.25 \\\\\n",
       "\t7 & 2018-01-02T06:00:00 & 5.0 & 0.0 & 30.27 \\\\\n",
       "\t8 & 2018-01-02T07:00:00 & 5.0 & 0.0 & 30.29 \\\\\n",
       "\t9 & 2018-01-02T08:00:00 & 6.0 & 0.0 & 30.31 \\\\\n",
       "\t10 & 2018-01-02T09:00:00 & 7.0 & 0.0 & 30.32 \\\\\n",
       "\t11 & 2018-01-02T10:00:00 & 9.0 & 0.0 & 30.33 \\\\\n",
       "\t12 & 2018-01-02T11:00:00 & 11.0 & 0.0 & 30.31 \\\\\n",
       "\t13 & 2018-01-02T12:00:00 & 13.0 & 0.0 & 30.27 \\\\\n",
       "\t14 & 2018-01-02T13:00:00 & 14.0 & 0.0 & 30.25 \\\\\n",
       "\t15 & 2018-01-02T14:00:00 & 17.0 & 0.0 & 30.23 \\\\\n",
       "\t16 & 2018-01-02T15:00:00 & 18.0 & 0.0 & 30.24 \\\\\n",
       "\t17 & 2018-01-02T16:00:00 & 18.0 & 0.0 & 30.23 \\\\\n",
       "\t18 & 2018-01-02T17:00:00 & 18.0 & 0.0 & 30.23 \\\\\n",
       "\t19 & 2018-01-02T18:00:00 & 18.0 & 0.0 & 30.23 \\\\\n",
       "\t20 & 2018-01-02T19:00:00 & 18.0 & 0.0 & 30.25 \\\\\n",
       "\t21 & 2018-01-02T20:00:00 & 17.0 & 0.0 & 30.24 \\\\\n",
       "\t22 & 2018-01-02T21:00:00 & 17.0 & 0.0 & 30.23 \\\\\n",
       "\t23 & 2018-01-02T22:00:00 & 16.0 & 0.0 & 30.24 \\\\\n",
       "\t24 & 2018-01-02T23:00:00 & 17.0 & 0.0 & 30.24 \\\\\n",
       "\t25 & 2018-01-03T00:00:00 & 19.0 & 0.0 & 30.22 \\\\\n",
       "\t26 & 2018-01-03T01:00:00 & 18.0 & 0.0 & 30.23 \\\\\n",
       "\\end{tabular}\n"
      ],
      "text/plain": [
       "26×4 DataFrame\n",
       "│ Row │ sampleT             │ temp    │ prec    │ pres    │\n",
       "│     │ \u001b[90mDateTime\u001b[39m            │ \u001b[90mFloat64\u001b[39m │ \u001b[90mFloat64\u001b[39m │ \u001b[90mFloat64\u001b[39m │\n",
       "├─────┼─────────────────────┼─────────┼─────────┼─────────┤\n",
       "│ 1   │ 2018-01-02T00:00:00 │ 8.0     │ 0.0     │ 30.26   │\n",
       "│ 2   │ 2018-01-02T01:00:00 │ 8.0     │ 0.0     │ 30.24   │\n",
       "│ 3   │ 2018-01-02T02:00:00 │ 8.0     │ 0.0     │ 30.25   │\n",
       "│ 4   │ 2018-01-02T03:00:00 │ 7.0     │ 0.0     │ 30.24   │\n",
       "│ 5   │ 2018-01-02T04:00:00 │ 6.0     │ 0.0     │ 30.24   │\n",
       "│ 6   │ 2018-01-02T05:00:00 │ 5.0     │ 0.0     │ 30.25   │\n",
       "│ 7   │ 2018-01-02T06:00:00 │ 5.0     │ 0.0     │ 30.27   │\n",
       "│ 8   │ 2018-01-02T07:00:00 │ 5.0     │ 0.0     │ 30.29   │\n",
       "│ 9   │ 2018-01-02T08:00:00 │ 6.0     │ 0.0     │ 30.31   │\n",
       "│ 10  │ 2018-01-02T09:00:00 │ 7.0     │ 0.0     │ 30.32   │\n",
       "⋮\n",
       "│ 16  │ 2018-01-02T15:00:00 │ 18.0    │ 0.0     │ 30.24   │\n",
       "│ 17  │ 2018-01-02T16:00:00 │ 18.0    │ 0.0     │ 30.23   │\n",
       "│ 18  │ 2018-01-02T17:00:00 │ 18.0    │ 0.0     │ 30.23   │\n",
       "│ 19  │ 2018-01-02T18:00:00 │ 18.0    │ 0.0     │ 30.23   │\n",
       "│ 20  │ 2018-01-02T19:00:00 │ 18.0    │ 0.0     │ 30.25   │\n",
       "│ 21  │ 2018-01-02T20:00:00 │ 17.0    │ 0.0     │ 30.24   │\n",
       "│ 22  │ 2018-01-02T21:00:00 │ 17.0    │ 0.0     │ 30.23   │\n",
       "│ 23  │ 2018-01-02T22:00:00 │ 16.0    │ 0.0     │ 30.24   │\n",
       "│ 24  │ 2018-01-02T23:00:00 │ 17.0    │ 0.0     │ 30.24   │\n",
       "│ 25  │ 2018-01-03T00:00:00 │ 19.0    │ 0.0     │ 30.22   │\n",
       "│ 26  │ 2018-01-03T01:00:00 │ 18.0    │ 0.0     │ 30.23   │"
      ]
     },
     "execution_count": 208,
     "metadata": {},
     "output_type": "execute_result"
    }
   ],
   "source": [
    "mdata[24:49,:]"
   ]
  },
  {
   "cell_type": "code",
   "execution_count": null,
   "metadata": {},
   "outputs": [],
   "source": []
  }
 ],
 "metadata": {
  "kernelspec": {
   "display_name": "Julia 1.0.5",
   "language": "julia",
   "name": "julia-1.0"
  },
  "language_info": {
   "file_extension": ".jl",
   "mimetype": "application/julia",
   "name": "julia",
   "version": "1.0.5"
  }
 },
 "nbformat": 4,
 "nbformat_minor": 4
}
