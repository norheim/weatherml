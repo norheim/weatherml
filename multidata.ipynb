{
 "cells": [
  {
   "cell_type": "code",
   "execution_count": 14,
   "metadata": {
    "execution": {
     "iopub.execute_input": "2020-12-05T17:51:10.141000+01:00",
     "iopub.status.busy": "2020-12-05T17:51:10.140000+01:00",
     "iopub.status.idle": "2020-12-05T17:51:10.166000+01:00"
    }
   },
   "outputs": [],
   "source": [
    "using DataFrames, CSV, Impute, Dates, Plots, Statistics, Interpolations"
   ]
  },
  {
   "cell_type": "code",
   "execution_count": 3,
   "metadata": {
    "execution": {
     "iopub.execute_input": "2020-12-05T17:49:49.862000+01:00",
     "iopub.status.busy": "2020-12-05T17:49:49.862000+01:00",
     "iopub.status.idle": "2020-12-05T17:50:06.394000+01:00"
    }
   },
   "outputs": [],
   "source": [
    "df = CSV.File(\"boston.csv\") |> DataFrame;"
   ]
  },
  {
   "cell_type": "code",
   "execution_count": 4,
   "metadata": {
    "execution": {
     "iopub.execute_input": "2020-12-05T17:50:06.395000+01:00",
     "iopub.status.busy": "2020-12-05T17:50:06.394000+01:00",
     "iopub.status.idle": "2020-12-05T17:50:09.729000+01:00"
    }
   },
   "outputs": [
    {
     "data": {
      "text/plain": [
       "0"
      ]
     },
     "execution_count": 4,
     "metadata": {},
     "output_type": "execute_result"
    }
   ],
   "source": [
    "dfdaily = filter(row -> strip(row[:REPORT_TYPE]) == \"SOD\", df);\n",
    "dfh = filter(row -> !(strip(row[:REPORT_TYPE]) in [\"SOD\", \"SOM\"]), df)\n",
    "sum(ismissing.(dfh[:, :HourlyDryBulbTemperature]))"
   ]
  },
  {
   "cell_type": "code",
   "execution_count": 11,
   "metadata": {
    "execution": {
     "iopub.execute_input": "2020-12-05T17:51:02.425000+01:00",
     "iopub.status.busy": "2020-12-05T17:51:02.424000+01:00",
     "iopub.status.idle": "2020-12-05T17:51:02.659000+01:00"
    }
   },
   "outputs": [
    {
     "data": {
      "text/plain": [
       "resample (generic function with 1 method)"
      ]
     },
     "execution_count": 11,
     "metadata": {},
     "output_type": "execute_result"
    }
   ],
   "source": [
    "function clean(x)\n",
    "    if ismissing(x) || x isa Float64\n",
    "        return x\n",
    "    end\n",
    "    m = match(r\"[+-]?([0-9]*[.])?[0-9]+\",x)\n",
    "    return m ==nothing ? missing : parse(Float64, m.match)\n",
    "end\n",
    "function resample(dfh, factor)\n",
    "    dfh[!,factor] = clean.(dfh[:,factor])\n",
    "    timeseries = Impute.interp(dfh[!, [:DATE, factor]]) |> Impute.locf() |> Impute.nocb() \n",
    "    timeseries[!, factor] = convert.(Float64, timeseries[!, factor]) # remove the missing type\n",
    "    # even sampling\n",
    "    timeseries[!, :rounded] = map((d) -> round(d, Dates.Hour), timeseries[!, :DATE])\n",
    "    even_sampling = by(timeseries, :rounded, factor => mean)\n",
    "    rename!(even_sampling, Symbol(factor, \"_mean\") => :data)\n",
    "    return even_sampling\n",
    "end"
   ]
  },
  {
   "cell_type": "code",
   "execution_count": 12,
   "metadata": {
    "execution": {
     "iopub.execute_input": "2020-12-05T17:51:02.784000+01:00",
     "iopub.status.busy": "2020-12-05T17:51:02.784000+01:00",
     "iopub.status.idle": "2020-12-05T17:51:02.793000+01:00"
    }
   },
   "outputs": [],
   "source": [
    "factors = [:HourlyDryBulbTemperature, :HourlyPrecipitation, :HourlySeaLevelPressure];"
   ]
  },
  {
   "cell_type": "code",
   "execution_count": 37,
   "metadata": {
    "execution": {
     "iopub.execute_input": "2020-12-05T17:57:22.828000+01:00",
     "iopub.status.busy": "2020-12-05T17:57:22.828000+01:00",
     "iopub.status.idle": "2020-12-05T17:57:22.957000+01:00"
    }
   },
   "outputs": [],
   "source": [
    "mdata = resample(dfh, :HourlyDryBulbTemperature)\n",
    "prec = resample(dfh, :HourlyPrecipitation)\n",
    "pres = resample(dfh, :HourlySeaLevelPressure)\n",
    "mdata[!, :prec] = prec[:, :data]\n",
    "mdata[!, :pres] = pres[:, :data];\n",
    "rename!(mdata, Dict(:data => :temp, :rounded => :sampleT));"
   ]
  },
  {
   "cell_type": "code",
   "execution_count": 34,
   "metadata": {
    "execution": {
     "iopub.execute_input": "2020-12-05T17:56:12.805000+01:00",
     "iopub.status.busy": "2020-12-05T17:56:12.805000+01:00",
     "iopub.status.idle": "2020-12-05T17:56:12.848000+01:00"
    }
   },
   "outputs": [
    {
     "data": {
      "text/plain": [
       "(25053, 3)"
      ]
     },
     "execution_count": 34,
     "metadata": {},
     "output_type": "execute_result"
    }
   ],
   "source": [
    "size(mdata).-1"
   ]
  },
  {
   "cell_type": "code",
   "execution_count": 71,
   "metadata": {
    "execution": {
     "iopub.execute_input": "2020-12-05T18:15:09.215000+01:00",
     "iopub.status.busy": "2020-12-05T18:15:09.215000+01:00",
     "iopub.status.idle": "2020-12-05T18:15:09.220000+01:00"
    }
   },
   "outputs": [],
   "source": [
    "monthdayhour = x -> [Dates.month(x) Dates.day(x) Dates.hour(x)];"
   ]
  },
  {
   "cell_type": "code",
   "execution_count": 47,
   "metadata": {
    "execution": {
     "iopub.execute_input": "2020-12-05T18:01:06.003000+01:00",
     "iopub.status.busy": "2020-12-05T18:01:06.002000+01:00",
     "iopub.status.idle": "2020-12-05T18:01:06.009000+01:00"
    }
   },
   "outputs": [
    {
     "data": {
      "text/html": [
       "<table class=\"data-frame\"><thead><tr><th></th><th>temp</th><th>prec</th></tr><tr><th></th><th>Float64</th><th>Float64</th></tr></thead><tbody><p>5 rows × 2 columns</p><tr><th>1</th><td>2.0</td><td>0.0</td></tr><tr><th>2</th><td>1.0</td><td>0.0</td></tr><tr><th>3</th><td>1.0</td><td>0.0</td></tr><tr><th>4</th><td>1.0</td><td>0.0</td></tr><tr><th>5</th><td>0.0</td><td>0.0</td></tr></tbody></table>"
      ],
      "text/latex": [
       "\\begin{tabular}{r|cc}\n",
       "\t& temp & prec\\\\\n",
       "\t\\hline\n",
       "\t& Float64 & Float64\\\\\n",
       "\t\\hline\n",
       "\t1 & 2.0 & 0.0 \\\\\n",
       "\t2 & 1.0 & 0.0 \\\\\n",
       "\t3 & 1.0 & 0.0 \\\\\n",
       "\t4 & 1.0 & 0.0 \\\\\n",
       "\t5 & 0.0 & 0.0 \\\\\n",
       "\\end{tabular}\n"
      ],
      "text/plain": [
       "5×2 DataFrame\n",
       "│ Row │ temp    │ prec    │\n",
       "│     │ \u001b[90mFloat64\u001b[39m │ \u001b[90mFloat64\u001b[39m │\n",
       "├─────┼─────────┼─────────┤\n",
       "│ 1   │ 2.0     │ 0.0     │\n",
       "│ 2   │ 1.0     │ 0.0     │\n",
       "│ 3   │ 1.0     │ 0.0     │\n",
       "│ 4   │ 1.0     │ 0.0     │\n",
       "│ 5   │ 0.0     │ 0.0     │"
      ]
     },
     "execution_count": 47,
     "metadata": {},
     "output_type": "execute_result"
    }
   ],
   "source": [
    " mdata[1:5,2:3]"
   ]
  },
  {
   "cell_type": "code",
   "execution_count": 48,
   "metadata": {
    "execution": {
     "iopub.execute_input": "2020-12-05T18:01:24.543000+01:00",
     "iopub.status.busy": "2020-12-05T18:01:24.543000+01:00",
     "iopub.status.idle": "2020-12-05T18:01:25.556000+01:00"
    }
   },
   "outputs": [
    {
     "data": {
      "text/plain": [
       "1×10 LinearAlgebra.Adjoint{Float64,Array{Float64,1}}:\n",
       " 2.0  1.0  1.0  1.0  0.0  0.0  0.0  0.0  0.0  0.0"
      ]
     },
     "execution_count": 48,
     "metadata": {},
     "output_type": "execute_result"
    }
   ],
   "source": [
    "reduce(vcat, mdata[1:5,2:3] |> Matrix)'"
   ]
  },
  {
   "cell_type": "code",
   "execution_count": 86,
   "metadata": {
    "execution": {
     "iopub.execute_input": "2020-12-05T18:17:07.562000+01:00",
     "iopub.status.busy": "2020-12-05T18:17:07.562000+01:00",
     "iopub.status.idle": "2020-12-05T18:17:07.637000+01:00"
    }
   },
   "outputs": [],
   "source": [
    "_, ntypes = size(mdata) .- 1\n",
    "year, month, startday = start\n",
    "additional_factors = 3                    # for month, day, hour info\n",
    "historical_factors = 24*dayslookback\n",
    "ntype_factors = ntypes*historical_factors\n",
    "total_factors = ntype_factors + additional_factors\n",
    "n_datapoints = 24*ndays\n",
    "X = zeros(n_datapoints, total_factors)\n",
    "y = zeros(n_datapoints);\n",
    "t0 = DateTime(year, month, startday, 0, 0)\n",
    "dateidx = findall(x -> x== t0, mdata[:, :sampleT])[1];"
   ]
  },
  {
   "cell_type": "code",
   "execution_count": 87,
   "metadata": {
    "execution": {
     "iopub.execute_input": "2020-12-05T18:17:07.715000+01:00",
     "iopub.status.busy": "2020-12-05T18:17:07.714000+01:00",
     "iopub.status.idle": "2020-12-05T18:17:07.720000+01:00"
    }
   },
   "outputs": [
    {
     "data": {
      "text/plain": [
       "1×72 LinearAlgebra.Adjoint{Float64,Array{Float64,1}}:\n",
       " 8.0  8.0  8.0  7.0  6.0  5.0  5.0  5.0  …  30.25  30.24  30.23  30.24  30.24"
      ]
     },
     "execution_count": 87,
     "metadata": {},
     "output_type": "execute_result"
    }
   ],
   "source": [
    "hist = reduce(vcat, mdata[dateidx:dateidx+historical_factors-1,2:end] |> Matrix)'"
   ]
  },
  {
   "cell_type": "code",
   "execution_count": 88,
   "metadata": {
    "execution": {
     "iopub.execute_input": "2020-12-05T18:17:07.930000+01:00",
     "iopub.status.busy": "2020-12-05T18:17:07.930000+01:00",
     "iopub.status.idle": "2020-12-05T18:17:07.934000+01:00"
    }
   },
   "outputs": [
    {
     "data": {
      "text/plain": [
       "1"
      ]
     },
     "execution_count": 88,
     "metadata": {},
     "output_type": "execute_result"
    }
   ],
   "source": [
    "offset=1"
   ]
  },
  {
   "cell_type": "code",
   "execution_count": 89,
   "metadata": {
    "execution": {
     "iopub.execute_input": "2020-12-05T18:17:08.391000+01:00",
     "iopub.status.busy": "2020-12-05T18:17:08.390000+01:00",
     "iopub.status.idle": "2020-12-05T18:17:09.599000+01:00"
    }
   },
   "outputs": [
    {
     "name": "stdout",
     "output_type": "stream",
     "text": [
      "1\n",
      "Any[7.0 6.0 5.0 5.0 5.0 6.0 7.0 9.0 11.0 13.0 14.0 17.0 18.0 18.0 18.0 18.0 18.0 17.0 17.0 16.0 17.0 0.0 0.0 0.0 0.0 0.0 0.0 0.0 0.0 0.0 0.0 0.0 0.0 0.0 0.0 0.0 0.0 0.0 0.0 0.0 0.0 0.0 0.0 0.0 0.0 30.26 30.24 30.25 30.24 30.24 30.25 30.27 30.29 30.31 30.32 30.33 30.31 30.27 30.25 30.23 30.24 30.23 30.23 30.23 30.25 30.24 30.23 30.24 30.24 DataFrameRow\n",
      "│ Row │ temp    │ prec    │ pres    │\n",
      "│     │ \u001b[90mFloat64\u001b[39m │ \u001b[90mFloat64\u001b[39m │ \u001b[90mFloat64\u001b[39m │\n",
      "├─────┼─────────┼─────────┼─────────┤\n",
      "│ 49  │ 18.0    │ 0.0     │ 30.23   │]\n",
      "2\n"
     ]
    },
    {
     "ename": "DimensionMismatch",
     "evalue": "DimensionMismatch(\"tried to assign 1×73 array to 1×75 destination\")",
     "output_type": "error",
     "traceback": [
      "DimensionMismatch(\"tried to assign 1×73 array to 1×75 destination\")",
      "",
      "Stacktrace:",
      " [1] throw_setindex_mismatch(::Array{Any,2}, ::Tuple{Int64,Int64}) at .\\indices.jl:169",
      " [2] setindex_shape_check at .\\indices.jl:226 [inlined]",
      " [3] macro expansion at .\\multidimensional.jl:649 [inlined]",
      " [4] _unsafe_setindex!(::IndexLinear, ::Array{Float64,2}, ::Array{Any,2}, ::Int64, ::UnitRange{Int64}) at .\\multidimensional.jl:644",
      " [5] _setindex! at .\\multidimensional.jl:639 [inlined]",
      " [6] setindex!(::Array{Float64,2}, ::Array{Any,2}, ::Int64, ::UnitRange{Int64}) at .\\abstractarray.jl:998",
      " [7] top-level scope at .\\In[89]:6"
     ]
    }
   ],
   "source": [
    "for idx=1:n_datapoints\n",
    "    println(idx)\n",
    "    next_point = dateidx+historical_factors+idx\n",
    "    predict = next_point+offset-1\n",
    "    predict_date = mdata[predict,:sampleT]\n",
    "    X[idx, 1:total_factors] = [hist monthdayhour(predict_date)]\n",
    "    y[idx] = mdata[predict,predicttype]\n",
    "    hist = [hist[(1+ntypes):end]' mdata[next_point,2:end]]\n",
    "    println(hist)\n",
    "end"
   ]
  },
  {
   "cell_type": "code",
   "execution_count": 30,
   "metadata": {
    "collapsed": true,
    "execution": {
     "iopub.execute_input": "2020-12-05T17:53:05.208000+01:00",
     "iopub.status.busy": "2020-12-05T17:53:05.207000+01:00",
     "iopub.status.idle": "2020-12-05T17:53:05.234000+01:00"
    },
    "jupyter": {
     "outputs_hidden": true
    }
   },
   "outputs": [
    {
     "data": {
      "text/html": [
       "<table class=\"data-frame\"><thead><tr><th></th><th>rounded</th><th>temp</th><th>prec</th><th>pres</th></tr><tr><th></th><th>DateTime</th><th>Float64</th><th>Float64</th><th>Float64</th></tr></thead><tbody><p>25,054 rows × 4 columns</p><tr><th>1</th><td>2018-01-01T01:00:00</td><td>2.0</td><td>0.0</td><td>30.2</td></tr><tr><th>2</th><td>2018-01-01T02:00:00</td><td>1.0</td><td>0.0</td><td>30.21</td></tr><tr><th>3</th><td>2018-01-01T03:00:00</td><td>1.0</td><td>0.0</td><td>30.21</td></tr><tr><th>4</th><td>2018-01-01T04:00:00</td><td>1.0</td><td>0.0</td><td>30.2</td></tr><tr><th>5</th><td>2018-01-01T05:00:00</td><td>0.0</td><td>0.0</td><td>30.19</td></tr><tr><th>6</th><td>2018-01-01T06:00:00</td><td>0.0</td><td>0.0</td><td>30.2</td></tr><tr><th>7</th><td>2018-01-01T07:00:00</td><td>0.0</td><td>0.0</td><td>30.22</td></tr><tr><th>8</th><td>2018-01-01T08:00:00</td><td>0.0</td><td>0.0</td><td>30.24</td></tr><tr><th>9</th><td>2018-01-01T09:00:00</td><td>1.0</td><td>0.0</td><td>30.24</td></tr><tr><th>10</th><td>2018-01-01T10:00:00</td><td>4.0</td><td>0.0</td><td>30.25</td></tr><tr><th>11</th><td>2018-01-01T11:00:00</td><td>7.0</td><td>0.0</td><td>30.23</td></tr><tr><th>12</th><td>2018-01-01T12:00:00</td><td>9.0</td><td>0.0</td><td>30.2</td></tr><tr><th>13</th><td>2018-01-01T13:00:00</td><td>12.0</td><td>0.0</td><td>30.18</td></tr><tr><th>14</th><td>2018-01-01T14:00:00</td><td>13.0</td><td>0.0</td><td>30.17</td></tr><tr><th>15</th><td>2018-01-01T15:00:00</td><td>13.0</td><td>0.0</td><td>30.19</td></tr><tr><th>16</th><td>2018-01-01T16:00:00</td><td>12.0</td><td>0.0</td><td>30.21</td></tr><tr><th>17</th><td>2018-01-01T17:00:00</td><td>11.0</td><td>0.0</td><td>30.23</td></tr><tr><th>18</th><td>2018-01-01T18:00:00</td><td>9.0</td><td>0.0</td><td>30.26</td></tr><tr><th>19</th><td>2018-01-01T19:00:00</td><td>8.0</td><td>0.0</td><td>30.27</td></tr><tr><th>20</th><td>2018-01-01T20:00:00</td><td>8.0</td><td>0.0</td><td>30.28</td></tr><tr><th>21</th><td>2018-01-01T21:00:00</td><td>7.0</td><td>0.0</td><td>30.28</td></tr><tr><th>22</th><td>2018-01-01T22:00:00</td><td>7.0</td><td>0.0</td><td>30.28</td></tr><tr><th>23</th><td>2018-01-01T23:00:00</td><td>7.0</td><td>0.0</td><td>30.28</td></tr><tr><th>24</th><td>2018-01-02T00:00:00</td><td>8.0</td><td>0.0</td><td>30.26</td></tr><tr><th>25</th><td>2018-01-02T01:00:00</td><td>8.0</td><td>0.0</td><td>30.24</td></tr><tr><th>26</th><td>2018-01-02T02:00:00</td><td>8.0</td><td>0.0</td><td>30.25</td></tr><tr><th>27</th><td>2018-01-02T03:00:00</td><td>7.0</td><td>0.0</td><td>30.24</td></tr><tr><th>28</th><td>2018-01-02T04:00:00</td><td>6.0</td><td>0.0</td><td>30.24</td></tr><tr><th>29</th><td>2018-01-02T05:00:00</td><td>5.0</td><td>0.0</td><td>30.25</td></tr><tr><th>30</th><td>2018-01-02T06:00:00</td><td>5.0</td><td>0.0</td><td>30.27</td></tr><tr><th>&vellip;</th><td>&vellip;</td><td>&vellip;</td><td>&vellip;</td><td>&vellip;</td></tr></tbody></table>"
      ],
      "text/latex": [
       "\\begin{tabular}{r|cccc}\n",
       "\t& rounded & temp & prec & pres\\\\\n",
       "\t\\hline\n",
       "\t& DateTime & Float64 & Float64 & Float64\\\\\n",
       "\t\\hline\n",
       "\t1 & 2018-01-01T01:00:00 & 2.0 & 0.0 & 30.2 \\\\\n",
       "\t2 & 2018-01-01T02:00:00 & 1.0 & 0.0 & 30.21 \\\\\n",
       "\t3 & 2018-01-01T03:00:00 & 1.0 & 0.0 & 30.21 \\\\\n",
       "\t4 & 2018-01-01T04:00:00 & 1.0 & 0.0 & 30.2 \\\\\n",
       "\t5 & 2018-01-01T05:00:00 & 0.0 & 0.0 & 30.19 \\\\\n",
       "\t6 & 2018-01-01T06:00:00 & 0.0 & 0.0 & 30.2 \\\\\n",
       "\t7 & 2018-01-01T07:00:00 & 0.0 & 0.0 & 30.22 \\\\\n",
       "\t8 & 2018-01-01T08:00:00 & 0.0 & 0.0 & 30.24 \\\\\n",
       "\t9 & 2018-01-01T09:00:00 & 1.0 & 0.0 & 30.24 \\\\\n",
       "\t10 & 2018-01-01T10:00:00 & 4.0 & 0.0 & 30.25 \\\\\n",
       "\t11 & 2018-01-01T11:00:00 & 7.0 & 0.0 & 30.23 \\\\\n",
       "\t12 & 2018-01-01T12:00:00 & 9.0 & 0.0 & 30.2 \\\\\n",
       "\t13 & 2018-01-01T13:00:00 & 12.0 & 0.0 & 30.18 \\\\\n",
       "\t14 & 2018-01-01T14:00:00 & 13.0 & 0.0 & 30.17 \\\\\n",
       "\t15 & 2018-01-01T15:00:00 & 13.0 & 0.0 & 30.19 \\\\\n",
       "\t16 & 2018-01-01T16:00:00 & 12.0 & 0.0 & 30.21 \\\\\n",
       "\t17 & 2018-01-01T17:00:00 & 11.0 & 0.0 & 30.23 \\\\\n",
       "\t18 & 2018-01-01T18:00:00 & 9.0 & 0.0 & 30.26 \\\\\n",
       "\t19 & 2018-01-01T19:00:00 & 8.0 & 0.0 & 30.27 \\\\\n",
       "\t20 & 2018-01-01T20:00:00 & 8.0 & 0.0 & 30.28 \\\\\n",
       "\t21 & 2018-01-01T21:00:00 & 7.0 & 0.0 & 30.28 \\\\\n",
       "\t22 & 2018-01-01T22:00:00 & 7.0 & 0.0 & 30.28 \\\\\n",
       "\t23 & 2018-01-01T23:00:00 & 7.0 & 0.0 & 30.28 \\\\\n",
       "\t24 & 2018-01-02T00:00:00 & 8.0 & 0.0 & 30.26 \\\\\n",
       "\t25 & 2018-01-02T01:00:00 & 8.0 & 0.0 & 30.24 \\\\\n",
       "\t26 & 2018-01-02T02:00:00 & 8.0 & 0.0 & 30.25 \\\\\n",
       "\t27 & 2018-01-02T03:00:00 & 7.0 & 0.0 & 30.24 \\\\\n",
       "\t28 & 2018-01-02T04:00:00 & 6.0 & 0.0 & 30.24 \\\\\n",
       "\t29 & 2018-01-02T05:00:00 & 5.0 & 0.0 & 30.25 \\\\\n",
       "\t30 & 2018-01-02T06:00:00 & 5.0 & 0.0 & 30.27 \\\\\n",
       "\t$\\dots$ & $\\dots$ & $\\dots$ & $\\dots$ & $\\dots$ \\\\\n",
       "\\end{tabular}\n"
      ],
      "text/plain": [
       "25054×4 DataFrame\n",
       "│ Row   │ rounded             │ temp    │ prec    │ pres    │\n",
       "│       │ \u001b[90mDateTime\u001b[39m            │ \u001b[90mFloat64\u001b[39m │ \u001b[90mFloat64\u001b[39m │ \u001b[90mFloat64\u001b[39m │\n",
       "├───────┼─────────────────────┼─────────┼─────────┼─────────┤\n",
       "│ 1     │ 2018-01-01T01:00:00 │ 2.0     │ 0.0     │ 30.2    │\n",
       "│ 2     │ 2018-01-01T02:00:00 │ 1.0     │ 0.0     │ 30.21   │\n",
       "│ 3     │ 2018-01-01T03:00:00 │ 1.0     │ 0.0     │ 30.21   │\n",
       "│ 4     │ 2018-01-01T04:00:00 │ 1.0     │ 0.0     │ 30.2    │\n",
       "│ 5     │ 2018-01-01T05:00:00 │ 0.0     │ 0.0     │ 30.19   │\n",
       "│ 6     │ 2018-01-01T06:00:00 │ 0.0     │ 0.0     │ 30.2    │\n",
       "│ 7     │ 2018-01-01T07:00:00 │ 0.0     │ 0.0     │ 30.22   │\n",
       "│ 8     │ 2018-01-01T08:00:00 │ 0.0     │ 0.0     │ 30.24   │\n",
       "│ 9     │ 2018-01-01T09:00:00 │ 1.0     │ 0.0     │ 30.24   │\n",
       "│ 10    │ 2018-01-01T10:00:00 │ 4.0     │ 0.0     │ 30.25   │\n",
       "⋮\n",
       "│ 25044 │ 2020-11-09T17:00:00 │ 51.0    │ 0.0     │ 30.25   │\n",
       "│ 25045 │ 2020-11-09T18:00:00 │ 51.0    │ 0.0     │ 30.25   │\n",
       "│ 25046 │ 2020-11-09T19:00:00 │ 51.0    │ 0.0     │ 30.25   │\n",
       "│ 25047 │ 2020-11-09T20:00:00 │ 50.0    │ 0.0     │ 30.24   │\n",
       "│ 25048 │ 2020-11-09T21:00:00 │ 50.0    │ 0.0     │ 30.24   │\n",
       "│ 25049 │ 2020-11-09T22:00:00 │ 51.0    │ 0.0     │ 30.24   │\n",
       "│ 25050 │ 2020-11-09T23:00:00 │ 50.0    │ 0.0     │ 30.23   │\n",
       "│ 25051 │ 2020-11-10T00:00:00 │ 50.0    │ 0.0     │ 30.22   │\n",
       "│ 25052 │ 2020-11-10T01:00:00 │ 50.0    │ 0.0     │ 30.2    │\n",
       "│ 25053 │ 2020-11-10T02:00:00 │ 48.0    │ 0.0     │ 30.2    │\n",
       "│ 25054 │ 2020-11-10T03:00:00 │ 50.0    │ 0.0     │ 30.19   │"
      ]
     },
     "execution_count": 30,
     "metadata": {},
     "output_type": "execute_result"
    }
   ],
   "source": [
    "#function build_multi_data(mdata, predicttype, start, dayslookback, ndays; offset=1)\n",
    "    _, ntypes = size(mdata) .- 1\n",
    "    year, month, startday = start\n",
    "    additional_factors = 3                    # for month, day, hour info\n",
    "    historical_factors = 24*dayslookback\n",
    "    ntype_factors = ntypes*historical_factors\n",
    "    total_factors = ntype_factors + additional_factors\n",
    "    n_datapoints = 24*ndays\n",
    "    X = zeros(n_datapoints, total_factors)\n",
    "    y = zeros(n_datapoints)\n",
    "    t0 = DateTime(year, month, startday, 0, 0)\n",
    "    dateidx = findall(x -> x== t0, dataseries[:, :sampleT])[1];\n",
    "    hist = reduce(vcat, mdata[dateidx:dateidx+historical_factors-1,2:end] |> Matrix)'\n",
    "    for idx=1:n_datapoints\n",
    "        next_point = dateidx+historical_factors+idx\n",
    "        predict = next_point+offset-1\n",
    "        predict_date = dataseries[predict,:sampleT]\n",
    "        X[idx, 1:total_factors] = [hist monthdayhour(predict_date)]\n",
    "        y[idx] = dataseries[predict,predicttype]\n",
    "        hist = [hist[(1+ntypes):end]' dataseries[next_point,predicttype]]\n",
    "    end\n",
    "#    return X,y\n",
    "#end"
   ]
  },
  {
   "cell_type": "code",
   "execution_count": 73,
   "metadata": {
    "execution": {
     "iopub.execute_input": "2020-12-05T18:15:20.852000+01:00",
     "iopub.status.busy": "2020-12-05T18:15:20.852000+01:00",
     "iopub.status.idle": "2020-12-05T18:15:20.857000+01:00"
    }
   },
   "outputs": [
    {
     "data": {
      "text/plain": [
       ":temp"
      ]
     },
     "execution_count": 73,
     "metadata": {},
     "output_type": "execute_result"
    }
   ],
   "source": [
    "start = 2018, 1, 2\n",
    "dayslookback = 1\n",
    "ndays = 10\n",
    "predicttype = :temp"
   ]
  },
  {
   "cell_type": "code",
   "execution_count": null,
   "metadata": {},
   "outputs": [],
   "source": []
  }
 ],
 "metadata": {
  "kernelspec": {
   "display_name": "Julia 1.0.5",
   "language": "julia",
   "name": "julia-1.0"
  },
  "language_info": {
   "file_extension": ".jl",
   "mimetype": "application/julia",
   "name": "julia",
   "version": "1.0.5"
  }
 },
 "nbformat": 4,
 "nbformat_minor": 4
}
