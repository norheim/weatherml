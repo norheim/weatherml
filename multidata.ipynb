{
 "cells": [
  {
   "cell_type": "code",
   "execution_count": 14,
   "metadata": {
    "execution": {
     "iopub.execute_input": "2020-12-05T17:51:10.141000+01:00",
     "iopub.status.busy": "2020-12-05T17:51:10.140000+01:00",
     "iopub.status.idle": "2020-12-05T17:51:10.166000+01:00"
    }
   },
   "outputs": [],
   "source": [
    "using DataFrames, CSV, Impute, Dates, Plots, Statistics, Interpolations"
   ]
  },
  {
   "cell_type": "code",
   "execution_count": 3,
   "metadata": {
    "execution": {
     "iopub.execute_input": "2020-12-05T17:49:49.862000+01:00",
     "iopub.status.busy": "2020-12-05T17:49:49.862000+01:00",
     "iopub.status.idle": "2020-12-05T17:50:06.394000+01:00"
    }
   },
   "outputs": [],
   "source": [
    "df = CSV.File(\"boston.csv\") |> DataFrame;"
   ]
  },
  {
   "cell_type": "code",
   "execution_count": 4,
   "metadata": {
    "execution": {
     "iopub.execute_input": "2020-12-05T17:50:06.395000+01:00",
     "iopub.status.busy": "2020-12-05T17:50:06.394000+01:00",
     "iopub.status.idle": "2020-12-05T17:50:09.729000+01:00"
    }
   },
   "outputs": [
    {
     "data": {
      "text/plain": [
       "0"
      ]
     },
     "execution_count": 4,
     "metadata": {},
     "output_type": "execute_result"
    }
   ],
   "source": [
    "dfdaily = filter(row -> strip(row[:REPORT_TYPE]) == \"SOD\", df);\n",
    "dfh = filter(row -> !(strip(row[:REPORT_TYPE]) in [\"SOD\", \"SOM\"]), df)\n",
    "sum(ismissing.(dfh[:, :HourlyDryBulbTemperature]))"
   ]
  },
  {
   "cell_type": "code",
   "execution_count": 11,
   "metadata": {
    "execution": {
     "iopub.execute_input": "2020-12-05T17:51:02.425000+01:00",
     "iopub.status.busy": "2020-12-05T17:51:02.424000+01:00",
     "iopub.status.idle": "2020-12-05T17:51:02.659000+01:00"
    }
   },
   "outputs": [
    {
     "data": {
      "text/plain": [
       "resample (generic function with 1 method)"
      ]
     },
     "execution_count": 11,
     "metadata": {},
     "output_type": "execute_result"
    }
   ],
   "source": [
    "function clean(x)\n",
    "    if ismissing(x) || x isa Float64\n",
    "        return x\n",
    "    end\n",
    "    m = match(r\"[+-]?([0-9]*[.])?[0-9]+\",x)\n",
    "    return m ==nothing ? missing : parse(Float64, m.match)\n",
    "end\n",
    "function resample(dfh, factor)\n",
    "    dfh[!,factor] = clean.(dfh[:,factor])\n",
    "    timeseries = Impute.interp(dfh[!, [:DATE, factor]]) |> Impute.locf() |> Impute.nocb() \n",
    "    timeseries[!, factor] = convert.(Float64, timeseries[!, factor]) # remove the missing type\n",
    "    # even sampling\n",
    "    timeseries[!, :rounded] = map((d) -> round(d, Dates.Hour), timeseries[!, :DATE])\n",
    "    even_sampling = by(timeseries, :rounded, factor => mean)\n",
    "    rename!(even_sampling, Symbol(factor, \"_mean\") => :data)\n",
    "    return even_sampling\n",
    "end"
   ]
  },
  {
   "cell_type": "code",
   "execution_count": 12,
   "metadata": {
    "execution": {
     "iopub.execute_input": "2020-12-05T17:51:02.784000+01:00",
     "iopub.status.busy": "2020-12-05T17:51:02.784000+01:00",
     "iopub.status.idle": "2020-12-05T17:51:02.793000+01:00"
    }
   },
   "outputs": [],
   "source": [
    "factors = [:HourlyDryBulbTemperature, :HourlyPrecipitation, :HourlySeaLevelPressure];"
   ]
  },
  {
   "cell_type": "code",
   "execution_count": 37,
   "metadata": {
    "execution": {
     "iopub.execute_input": "2020-12-05T17:57:22.828000+01:00",
     "iopub.status.busy": "2020-12-05T17:57:22.828000+01:00",
     "iopub.status.idle": "2020-12-05T17:57:22.957000+01:00"
    }
   },
   "outputs": [],
   "source": [
    "mdata = resample(dfh, :HourlyDryBulbTemperature)\n",
    "prec = resample(dfh, :HourlyPrecipitation)\n",
    "pres = resample(dfh, :HourlySeaLevelPressure)\n",
    "mdata[!, :prec] = prec[:, :data]\n",
    "mdata[!, :pres] = pres[:, :data];\n",
    "rename!(mdata, Dict(:data => :temp, :rounded => :sampleT));"
   ]
  },
  {
   "cell_type": "code",
   "execution_count": 34,
   "metadata": {
    "execution": {
     "iopub.execute_input": "2020-12-05T17:56:12.805000+01:00",
     "iopub.status.busy": "2020-12-05T17:56:12.805000+01:00",
     "iopub.status.idle": "2020-12-05T17:56:12.848000+01:00"
    }
   },
   "outputs": [
    {
     "data": {
      "text/plain": [
       "(25053, 3)"
      ]
     },
     "execution_count": 34,
     "metadata": {},
     "output_type": "execute_result"
    }
   ],
   "source": [
    "size(mdata).-1"
   ]
  },
  {
   "cell_type": "code",
   "execution_count": 71,
   "metadata": {
    "execution": {
     "iopub.execute_input": "2020-12-05T18:15:09.215000+01:00",
     "iopub.status.busy": "2020-12-05T18:15:09.215000+01:00",
     "iopub.status.idle": "2020-12-05T18:15:09.220000+01:00"
    }
   },
   "outputs": [],
   "source": [
    "monthdayhour = x -> [Dates.month(x) Dates.day(x) Dates.hour(x)];"
   ]
  },
  {
   "cell_type": "code",
   "execution_count": 117,
   "metadata": {
    "execution": {
     "iopub.execute_input": "2020-12-06T16:53:19.578000+01:00",
     "iopub.status.busy": "2020-12-06T16:53:19.578000+01:00",
     "iopub.status.idle": "2020-12-06T16:53:19.586000+01:00"
    }
   },
   "outputs": [
    {
     "data": {
      "text/html": [
       "<table class=\"data-frame\"><thead><tr><th></th><th>temp</th><th>prec</th></tr><tr><th></th><th>Float64</th><th>Float64</th></tr></thead><tbody><p>5 rows × 2 columns</p><tr><th>1</th><td>2.0</td><td>0.0</td></tr><tr><th>2</th><td>1.0</td><td>0.0</td></tr><tr><th>3</th><td>1.0</td><td>0.0</td></tr><tr><th>4</th><td>1.0</td><td>0.0</td></tr><tr><th>5</th><td>0.0</td><td>0.0</td></tr></tbody></table>"
      ],
      "text/latex": [
       "\\begin{tabular}{r|cc}\n",
       "\t& temp & prec\\\\\n",
       "\t\\hline\n",
       "\t& Float64 & Float64\\\\\n",
       "\t\\hline\n",
       "\t1 & 2.0 & 0.0 \\\\\n",
       "\t2 & 1.0 & 0.0 \\\\\n",
       "\t3 & 1.0 & 0.0 \\\\\n",
       "\t4 & 1.0 & 0.0 \\\\\n",
       "\t5 & 0.0 & 0.0 \\\\\n",
       "\\end{tabular}\n"
      ],
      "text/plain": [
       "5×2 DataFrame\n",
       "│ Row │ temp    │ prec    │\n",
       "│     │ \u001b[90mFloat64\u001b[39m │ \u001b[90mFloat64\u001b[39m │\n",
       "├─────┼─────────┼─────────┤\n",
       "│ 1   │ 2.0     │ 0.0     │\n",
       "│ 2   │ 1.0     │ 0.0     │\n",
       "│ 3   │ 1.0     │ 0.0     │\n",
       "│ 4   │ 1.0     │ 0.0     │\n",
       "│ 5   │ 0.0     │ 0.0     │"
      ]
     },
     "execution_count": 117,
     "metadata": {},
     "output_type": "execute_result"
    }
   ],
   "source": [
    "mdata[1:5,2:3]"
   ]
  },
  {
   "cell_type": "code",
   "execution_count": 120,
   "metadata": {
    "execution": {
     "iopub.execute_input": "2020-12-06T16:53:37.294000+01:00",
     "iopub.status.busy": "2020-12-06T16:53:37.293000+01:00",
     "iopub.status.idle": "2020-12-06T16:53:37.437000+01:00"
    }
   },
   "outputs": [
    {
     "data": {
      "text/plain": [
       "1×10 LinearAlgebra.Adjoint{Float64,Array{Float64,1}}:\n",
       " 2.0  0.0  1.0  0.0  1.0  0.0  1.0  0.0  0.0  0.0"
      ]
     },
     "execution_count": 120,
     "metadata": {},
     "output_type": "execute_result"
    }
   ],
   "source": [
    "reduce(vcat, (mdata[1:5,2:3] |> Matrix)')'"
   ]
  },
  {
   "cell_type": "code",
   "execution_count": 122,
   "metadata": {
    "execution": {
     "iopub.execute_input": "2020-12-06T16:54:20.786000+01:00",
     "iopub.status.busy": "2020-12-06T16:54:20.786000+01:00",
     "iopub.status.idle": "2020-12-06T16:54:20.887000+01:00"
    }
   },
   "outputs": [],
   "source": [
    "_, ntypes = size(mdata) .- 1\n",
    "year, month, startday = start\n",
    "additional_factors = 3                    # for month, day, hour info\n",
    "historical_factors = 24*dayslookback\n",
    "ntype_factors = ntypes*historical_factors\n",
    "total_factors = ntype_factors + additional_factors\n",
    "n_datapoints = 24*ndays\n",
    "X = zeros(n_datapoints, total_factors)\n",
    "y = zeros(n_datapoints);\n",
    "t0 = DateTime(year, month, startday, 0, 0)\n",
    "dateidx = findall(x -> x== t0, mdata[:, :sampleT])[1];"
   ]
  },
  {
   "cell_type": "code",
   "execution_count": 123,
   "metadata": {
    "execution": {
     "iopub.execute_input": "2020-12-06T16:54:21.684000+01:00",
     "iopub.status.busy": "2020-12-06T16:54:21.684000+01:00",
     "iopub.status.idle": "2020-12-06T16:54:21.695000+01:00"
    }
   },
   "outputs": [
    {
     "data": {
      "text/plain": [
       "1×72 LinearAlgebra.Adjoint{Float64,Array{Float64,1}}:\n",
       " 8.0  0.0  30.26  8.0  0.0  30.24  8.0  …  16.0  0.0  30.24  17.0  0.0  30.24"
      ]
     },
     "execution_count": 123,
     "metadata": {},
     "output_type": "execute_result"
    }
   ],
   "source": [
    "hist = reduce(vcat, (mdata[dateidx:dateidx+historical_factors-1,2:end] |> Matrix)')'"
   ]
  },
  {
   "cell_type": "code",
   "execution_count": 124,
   "metadata": {
    "execution": {
     "iopub.execute_input": "2020-12-06T16:54:22.875000+01:00",
     "iopub.status.busy": "2020-12-06T16:54:22.875000+01:00",
     "iopub.status.idle": "2020-12-06T16:54:22.882000+01:00"
    }
   },
   "outputs": [
    {
     "data": {
      "text/plain": [
       "1"
      ]
     },
     "execution_count": 124,
     "metadata": {},
     "output_type": "execute_result"
    }
   ],
   "source": [
    "offset=1"
   ]
  },
  {
   "cell_type": "code",
   "execution_count": 125,
   "metadata": {
    "execution": {
     "iopub.execute_input": "2020-12-06T16:54:24.695000+01:00",
     "iopub.status.busy": "2020-12-06T16:54:24.695000+01:00",
     "iopub.status.idle": "2020-12-06T16:54:24.703000+01:00"
    }
   },
   "outputs": [
    {
     "data": {
      "text/plain": [
       "1×5 LinearAlgebra.Adjoint{Float64,Array{Float64,1}}:\n",
       " 1.0  2.0  2.0  0.0  30.2"
      ]
     },
     "execution_count": 125,
     "metadata": {},
     "output_type": "execute_result"
    }
   ],
   "source": [
    "[1 2 (mdata[1, 2:end] |> Vector)']"
   ]
  },
  {
   "cell_type": "code",
   "execution_count": 126,
   "metadata": {
    "execution": {
     "iopub.execute_input": "2020-12-06T16:54:25.322000+01:00",
     "iopub.status.busy": "2020-12-06T16:54:25.322000+01:00",
     "iopub.status.idle": "2020-12-06T16:54:25.368000+01:00"
    }
   },
   "outputs": [],
   "source": [
    "for idx=1:n_datapoints\n",
    "    next_point = dateidx+historical_factors+idx\n",
    "    predict = next_point+offset-1\n",
    "    predict_date = mdata[predict,:sampleT]\n",
    "    X[idx, 1:total_factors] = [hist monthdayhour(predict_date)]\n",
    "    y[idx] = mdata[predict,predicttype]\n",
    "    hist = [hist[(1+ntypes):end]' (mdata[1, 2:end] |> Vector)']\n",
    "end"
   ]
  },
  {
   "cell_type": "code",
   "execution_count": 127,
   "metadata": {
    "execution": {
     "iopub.execute_input": "2020-12-06T16:54:25.882000+01:00",
     "iopub.status.busy": "2020-12-06T16:54:25.881000+01:00",
     "iopub.status.idle": "2020-12-06T16:54:25.897000+01:00"
    }
   },
   "outputs": [
    {
     "data": {
      "text/plain": [
       "240×75 Array{Float64,2}:\n",
       "  8.0  0.0  30.26   8.0  0.0  30.24  …  17.0  0.0  30.24  1.0   3.0   1.0\n",
       "  8.0  0.0  30.24   8.0  0.0  30.25      2.0  0.0  30.2   1.0   3.0   2.0\n",
       "  8.0  0.0  30.25   7.0  0.0  30.24      2.0  0.0  30.2   1.0   3.0   3.0\n",
       "  7.0  0.0  30.24   6.0  0.0  30.24      2.0  0.0  30.2   1.0   3.0   4.0\n",
       "  6.0  0.0  30.24   5.0  0.0  30.25      2.0  0.0  30.2   1.0   3.0   5.0\n",
       "  5.0  0.0  30.25   5.0  0.0  30.27  …   2.0  0.0  30.2   1.0   3.0   6.0\n",
       "  5.0  0.0  30.27   5.0  0.0  30.29      2.0  0.0  30.2   1.0   3.0   7.0\n",
       "  5.0  0.0  30.29   6.0  0.0  30.31      2.0  0.0  30.2   1.0   3.0   8.0\n",
       "  6.0  0.0  30.31   7.0  0.0  30.32      2.0  0.0  30.2   1.0   3.0   9.0\n",
       "  7.0  0.0  30.32   9.0  0.0  30.33      2.0  0.0  30.2   1.0   3.0  10.0\n",
       "  9.0  0.0  30.33  11.0  0.0  30.31  …   2.0  0.0  30.2   1.0   3.0  11.0\n",
       " 11.0  0.0  30.31  13.0  0.0  30.27      2.0  0.0  30.2   1.0   3.0  12.0\n",
       " 13.0  0.0  30.27  14.0  0.0  30.25      2.0  0.0  30.2   1.0   3.0  13.0\n",
       "  ⋮                            ⋮     ⋱        ⋮                          \n",
       "  2.0  0.0  30.2    2.0  0.0  30.2       2.0  0.0  30.2   1.0  12.0  13.0\n",
       "  2.0  0.0  30.2    2.0  0.0  30.2       2.0  0.0  30.2   1.0  12.0  14.0\n",
       "  2.0  0.0  30.2    2.0  0.0  30.2   …   2.0  0.0  30.2   1.0  12.0  15.0\n",
       "  2.0  0.0  30.2    2.0  0.0  30.2       2.0  0.0  30.2   1.0  12.0  16.0\n",
       "  2.0  0.0  30.2    2.0  0.0  30.2       2.0  0.0  30.2   1.0  12.0  17.0\n",
       "  2.0  0.0  30.2    2.0  0.0  30.2       2.0  0.0  30.2   1.0  12.0  18.0\n",
       "  2.0  0.0  30.2    2.0  0.0  30.2       2.0  0.0  30.2   1.0  12.0  19.0\n",
       "  2.0  0.0  30.2    2.0  0.0  30.2   …   2.0  0.0  30.2   1.0  12.0  20.0\n",
       "  2.0  0.0  30.2    2.0  0.0  30.2       2.0  0.0  30.2   1.0  12.0  21.0\n",
       "  2.0  0.0  30.2    2.0  0.0  30.2       2.0  0.0  30.2   1.0  12.0  22.0\n",
       "  2.0  0.0  30.2    2.0  0.0  30.2       2.0  0.0  30.2   1.0  12.0  23.0\n",
       "  2.0  0.0  30.2    2.0  0.0  30.2       2.0  0.0  30.2   1.0  13.0   0.0"
      ]
     },
     "execution_count": 127,
     "metadata": {},
     "output_type": "execute_result"
    }
   ],
   "source": [
    "X"
   ]
  },
  {
   "cell_type": "code",
   "execution_count": 128,
   "metadata": {
    "execution": {
     "iopub.execute_input": "2020-12-06T16:55:18.058000+01:00",
     "iopub.status.busy": "2020-12-06T16:55:18.058000+01:00",
     "iopub.status.idle": "2020-12-06T16:55:18.424000+01:00"
    }
   },
   "outputs": [
    {
     "data": {
      "text/plain": [
       "build_multi_data (generic function with 1 method)"
      ]
     },
     "execution_count": 128,
     "metadata": {},
     "output_type": "execute_result"
    }
   ],
   "source": [
    "function build_multi_data(mdata, predicttype, start, dayslookback, ndays; offset=1)\n",
    "    _, ntypes = size(mdata) .- 1\n",
    "    year, month, startday = start\n",
    "    additional_factors = 3                    # for month, day, hour info\n",
    "    historical_factors = 24*dayslookback\n",
    "    ntype_factors = ntypes*historical_factors\n",
    "    total_factors = ntype_factors + additional_factors\n",
    "    n_datapoints = 24*ndays\n",
    "    X = zeros(n_datapoints, total_factors)\n",
    "    y = zeros(n_datapoints);\n",
    "    t0 = DateTime(year, month, startday, 0, 0)\n",
    "    dateidx = findall(x -> x== t0, mdata[:, :sampleT])[1];\n",
    "    hist = reduce(vcat, (mdata[dateidx:dateidx+historical_factors-1,2:end] |> Matrix)')'\n",
    "    for idx=1:n_datapoints\n",
    "        next_point = dateidx+historical_factors+idx\n",
    "        predict = next_point+offset-1\n",
    "        predict_date = mdata[predict,:sampleT]\n",
    "        X[idx, 1:total_factors] = [hist monthdayhour(predict_date)]\n",
    "        y[idx] = mdata[predict,predicttype]\n",
    "        hist = [hist[(1+ntypes):end]' (mdata[1, 2:end] |> Vector)']\n",
    "    end\n",
    "   return X,y\n",
    "end"
   ]
  },
  {
   "cell_type": "code",
   "execution_count": 73,
   "metadata": {
    "execution": {
     "iopub.execute_input": "2020-12-05T18:15:20.852000+01:00",
     "iopub.status.busy": "2020-12-05T18:15:20.852000+01:00",
     "iopub.status.idle": "2020-12-05T18:15:20.857000+01:00"
    }
   },
   "outputs": [
    {
     "data": {
      "text/plain": [
       ":temp"
      ]
     },
     "execution_count": 73,
     "metadata": {},
     "output_type": "execute_result"
    }
   ],
   "source": [
    "start = 2018, 1, 2\n",
    "dayslookback = 1\n",
    "ndays = 10\n",
    "predicttype = :temp"
   ]
  },
  {
   "cell_type": "code",
   "execution_count": 131,
   "metadata": {
    "execution": {
     "iopub.execute_input": "2020-12-06T16:56:06.652000+01:00",
     "iopub.status.busy": "2020-12-06T16:56:06.652000+01:00",
     "iopub.status.idle": "2020-12-06T16:56:06.663000+01:00"
    }
   },
   "outputs": [],
   "source": [
    "Xm, ym = build_multi_data(mdata, predicttype, start, dayslookback, ndays);"
   ]
  },
  {
   "cell_type": "code",
   "execution_count": null,
   "metadata": {},
   "outputs": [],
   "source": []
  }
 ],
 "metadata": {
  "kernelspec": {
   "display_name": "Julia 1.0.5",
   "language": "julia",
   "name": "julia-1.0"
  },
  "language_info": {
   "file_extension": ".jl",
   "mimetype": "application/julia",
   "name": "julia",
   "version": "1.0.5"
  }
 },
 "nbformat": 4,
 "nbformat_minor": 4
}
