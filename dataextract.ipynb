{
 "cells": [
  {
   "cell_type": "code",
   "execution_count": 1,
   "metadata": {},
   "outputs": [],
   "source": [
    "using DataFrames, CSV, Tables, Dates"
   ]
  },
  {
   "cell_type": "code",
   "execution_count": 2,
   "metadata": {},
   "outputs": [],
   "source": [
    "using Missings, Impute"
   ]
  },
  {
   "cell_type": "code",
   "execution_count": 14,
   "metadata": {},
   "outputs": [
    {
     "name": "stderr",
     "output_type": "stream",
     "text": [
      "┌ Info: Recompiling stale cache file C:\\Users\\johan\\.julia\\compiled\\v1.0\\Plots\\ld3vC.ji for Plots [91a5bcdd-55d7-5caf-9e0b-520d859cae80]\n",
      "└ @ Base loading.jl:1190\n"
     ]
    },
    {
     "ename": "Base.IOError",
     "evalue": "IOError: unlink: resource busy or locked (EBUSY)",
     "output_type": "error",
     "traceback": [
      "IOError: unlink: resource busy or locked (EBUSY)",
      "",
      "Stacktrace:",
      " [1] uv_error at .\\libuv.jl:85 [inlined]",
      " [2] unlink(::String) at .\\file.jl:727",
      " [3] #rm#9(::Bool, ::Bool, ::Function, ::String) at .\\file.jl:253",
      " [4] #rm at .\\none:0 [inlined]",
      " [5] create_expr_cache(::String, ::String, ::Array{Pair{Base.PkgId,UInt64},1}, ::Base.UUID) at .\\loading.jl:1104",
      " [6] compilecache(::Base.PkgId, ::String) at .\\loading.jl:1194",
      " [7] _require(::Base.PkgId) at .\\loading.jl:960",
      " [8] require(::Base.PkgId) at .\\loading.jl:858",
      " [9] require(::Module, ::Symbol) at .\\loading.jl:853",
      " [10] top-level scope at In[14]:1"
     ]
    }
   ],
   "source": [
    "using Plots"
   ]
  },
  {
   "cell_type": "code",
   "execution_count": 3,
   "metadata": {},
   "outputs": [
    {
     "name": "stdout",
     "output_type": "stream",
     "text": [
      "thread = 1 warning: error parsing Float64 on row = 12751, col = 44: \"15s,\", error=INVALID: OK | SENTINEL | DELIMITED | INVALID_DELIMITER \n",
      "thread = 1 warning: error parsing Float64 on row = 22403, col = 44: \"72s,\", error=INVALID: OK | SENTINEL | DELIMITED | INVALID_DELIMITER \n",
      "thread = 1 warning: error parsing Float64 on row = 22406, col = 44: \"74s,\", error=INVALID: OK | SENTINEL | DELIMITED | INVALID_DELIMITER \n",
      "thread = 1 warning: error parsing Float64 on row = 28728, col = 44: \"72s,\", error=INVALID: OK | SENTINEL | DELIMITED | INVALID_DELIMITER \n",
      "thread = 1 warning: error parsing Float64 on row = 30899, col = 44: \"66s,\", error=INVALID: OK | SENTINEL | DELIMITED | INVALID_DELIMITER \n",
      "thread = 1 warning: error parsing Float64 on row = 30900, col = 44: \"66s,\", error=INVALID: OK | SENTINEL | DELIMITED | INVALID_DELIMITER \n",
      "thread = 1 warning: error parsing Float64 on row = 30901, col = 44: \"66s,\", error=INVALID: OK | SENTINEL | DELIMITED | INVALID_DELIMITER \n",
      "thread = 1 warning: error parsing Float64 on row = 37185, col = 44: \"66s,\", error=INVALID: OK | SENTINEL | DELIMITED | INVALID_DELIMITER \n",
      "thread = 1 warning: error parsing Float64 on row = 37186, col = 44: \"66s,\", error=INVALID: OK | SENTINEL | DELIMITED | INVALID_DELIMITER \n",
      "thread = 1 warning: error parsing Float64 on row = 39786, col = 44: \"28s,\", error=INVALID: OK | SENTINEL | DELIMITED | INVALID_DELIMITER \n"
     ]
    }
   ],
   "source": [
    "df = CSV.File(\"weather_cleaned_v1.csv\", types=Dict(:HourlyDryBulbTemperature=>Float64)) |> DataFrame;"
   ]
  },
  {
   "cell_type": "code",
   "execution_count": 5,
   "metadata": {},
   "outputs": [],
   "source": [
    "dfh = filter(row -> !(strip(row[:REPORT_TYPE]) in [\"SOD\", \"SOM\"]), df) # these are the entries that correspond to daily and monthly data which we exclude;"
   ]
  },
  {
   "cell_type": "code",
   "execution_count": 21,
   "metadata": {},
   "outputs": [],
   "source": [
    "temp = Impute.interp(dfh[!, [:DATE,:HourlyDryBulbTemperature]]);"
   ]
  },
  {
   "cell_type": "code",
   "execution_count": 25,
   "metadata": {},
   "outputs": [],
   "source": [
    "temp[!, :HourlyDryBulbTemperature] = convert.(Float64, temp[!, :HourlyDryBulbTemperature]);"
   ]
  },
  {
   "cell_type": "code",
   "execution_count": 26,
   "metadata": {},
   "outputs": [
    {
     "data": {
      "text/html": [
       "<table class=\"data-frame\"><thead><tr><th></th><th>DATE</th><th>HourlyDryBulbTemperature</th></tr><tr><th></th><th>DateTime</th><th>Float64</th></tr></thead><tbody><p>39,042 rows × 2 columns</p><tr><th>1</th><td>2018-01-01T00:54:00</td><td>2.0</td></tr><tr><th>2</th><td>2018-01-01T01:00:00</td><td>2.0</td></tr><tr><th>3</th><td>2018-01-01T01:54:00</td><td>1.0</td></tr><tr><th>4</th><td>2018-01-01T02:54:00</td><td>1.0</td></tr><tr><th>5</th><td>2018-01-01T03:54:00</td><td>1.0</td></tr><tr><th>6</th><td>2018-01-01T04:00:00</td><td>1.0</td></tr><tr><th>7</th><td>2018-01-01T04:54:00</td><td>0.0</td></tr><tr><th>8</th><td>2018-01-01T05:54:00</td><td>0.0</td></tr><tr><th>9</th><td>2018-01-01T06:54:00</td><td>0.0</td></tr><tr><th>10</th><td>2018-01-01T07:00:00</td><td>0.0</td></tr><tr><th>11</th><td>2018-01-01T07:54:00</td><td>0.0</td></tr><tr><th>12</th><td>2018-01-01T08:54:00</td><td>1.0</td></tr><tr><th>13</th><td>2018-01-01T09:54:00</td><td>4.0</td></tr><tr><th>14</th><td>2018-01-01T10:00:00</td><td>4.0</td></tr><tr><th>15</th><td>2018-01-01T10:54:00</td><td>7.0</td></tr><tr><th>16</th><td>2018-01-01T11:54:00</td><td>9.0</td></tr><tr><th>17</th><td>2018-01-01T12:54:00</td><td>12.0</td></tr><tr><th>18</th><td>2018-01-01T13:00:00</td><td>12.0</td></tr><tr><th>19</th><td>2018-01-01T13:54:00</td><td>13.0</td></tr><tr><th>20</th><td>2018-01-01T14:54:00</td><td>13.0</td></tr><tr><th>21</th><td>2018-01-01T15:54:00</td><td>12.0</td></tr><tr><th>22</th><td>2018-01-01T16:00:00</td><td>12.0</td></tr><tr><th>23</th><td>2018-01-01T16:54:00</td><td>11.0</td></tr><tr><th>24</th><td>2018-01-01T17:54:00</td><td>9.0</td></tr><tr><th>25</th><td>2018-01-01T18:54:00</td><td>8.0</td></tr><tr><th>26</th><td>2018-01-01T19:00:00</td><td>8.0</td></tr><tr><th>27</th><td>2018-01-01T19:54:00</td><td>8.0</td></tr><tr><th>28</th><td>2018-01-01T20:54:00</td><td>7.0</td></tr><tr><th>29</th><td>2018-01-01T21:54:00</td><td>7.0</td></tr><tr><th>30</th><td>2018-01-01T22:00:00</td><td>7.0</td></tr><tr><th>&vellip;</th><td>&vellip;</td><td>&vellip;</td></tr></tbody></table>"
      ],
      "text/latex": [
       "\\begin{tabular}{r|cc}\n",
       "\t& DATE & HourlyDryBulbTemperature\\\\\n",
       "\t\\hline\n",
       "\t& DateTime & Float64\\\\\n",
       "\t\\hline\n",
       "\t1 & 2018-01-01T00:54:00 & 2.0 \\\\\n",
       "\t2 & 2018-01-01T01:00:00 & 2.0 \\\\\n",
       "\t3 & 2018-01-01T01:54:00 & 1.0 \\\\\n",
       "\t4 & 2018-01-01T02:54:00 & 1.0 \\\\\n",
       "\t5 & 2018-01-01T03:54:00 & 1.0 \\\\\n",
       "\t6 & 2018-01-01T04:00:00 & 1.0 \\\\\n",
       "\t7 & 2018-01-01T04:54:00 & 0.0 \\\\\n",
       "\t8 & 2018-01-01T05:54:00 & 0.0 \\\\\n",
       "\t9 & 2018-01-01T06:54:00 & 0.0 \\\\\n",
       "\t10 & 2018-01-01T07:00:00 & 0.0 \\\\\n",
       "\t11 & 2018-01-01T07:54:00 & 0.0 \\\\\n",
       "\t12 & 2018-01-01T08:54:00 & 1.0 \\\\\n",
       "\t13 & 2018-01-01T09:54:00 & 4.0 \\\\\n",
       "\t14 & 2018-01-01T10:00:00 & 4.0 \\\\\n",
       "\t15 & 2018-01-01T10:54:00 & 7.0 \\\\\n",
       "\t16 & 2018-01-01T11:54:00 & 9.0 \\\\\n",
       "\t17 & 2018-01-01T12:54:00 & 12.0 \\\\\n",
       "\t18 & 2018-01-01T13:00:00 & 12.0 \\\\\n",
       "\t19 & 2018-01-01T13:54:00 & 13.0 \\\\\n",
       "\t20 & 2018-01-01T14:54:00 & 13.0 \\\\\n",
       "\t21 & 2018-01-01T15:54:00 & 12.0 \\\\\n",
       "\t22 & 2018-01-01T16:00:00 & 12.0 \\\\\n",
       "\t23 & 2018-01-01T16:54:00 & 11.0 \\\\\n",
       "\t24 & 2018-01-01T17:54:00 & 9.0 \\\\\n",
       "\t25 & 2018-01-01T18:54:00 & 8.0 \\\\\n",
       "\t26 & 2018-01-01T19:00:00 & 8.0 \\\\\n",
       "\t27 & 2018-01-01T19:54:00 & 8.0 \\\\\n",
       "\t28 & 2018-01-01T20:54:00 & 7.0 \\\\\n",
       "\t29 & 2018-01-01T21:54:00 & 7.0 \\\\\n",
       "\t30 & 2018-01-01T22:00:00 & 7.0 \\\\\n",
       "\t$\\dots$ & $\\dots$ & $\\dots$ \\\\\n",
       "\\end{tabular}\n"
      ],
      "text/plain": [
       "39042×2 DataFrame\n",
       "│ Row   │ DATE                │ HourlyDryBulbTemperature │\n",
       "│       │ \u001b[90mDateTime\u001b[39m            │ \u001b[90mFloat64\u001b[39m                  │\n",
       "├───────┼─────────────────────┼──────────────────────────┤\n",
       "│ 1     │ 2018-01-01T00:54:00 │ 2.0                      │\n",
       "│ 2     │ 2018-01-01T01:00:00 │ 2.0                      │\n",
       "│ 3     │ 2018-01-01T01:54:00 │ 1.0                      │\n",
       "│ 4     │ 2018-01-01T02:54:00 │ 1.0                      │\n",
       "│ 5     │ 2018-01-01T03:54:00 │ 1.0                      │\n",
       "│ 6     │ 2018-01-01T04:00:00 │ 1.0                      │\n",
       "│ 7     │ 2018-01-01T04:54:00 │ 0.0                      │\n",
       "│ 8     │ 2018-01-01T05:54:00 │ 0.0                      │\n",
       "│ 9     │ 2018-01-01T06:54:00 │ 0.0                      │\n",
       "│ 10    │ 2018-01-01T07:00:00 │ 0.0                      │\n",
       "⋮\n",
       "│ 39032 │ 2020-11-09T16:54:00 │ 51.0                     │\n",
       "│ 39033 │ 2020-11-09T17:54:00 │ 51.0                     │\n",
       "│ 39034 │ 2020-11-09T18:54:00 │ 51.0                     │\n",
       "│ 39035 │ 2020-11-09T19:54:00 │ 50.0                     │\n",
       "│ 39036 │ 2020-11-09T20:54:00 │ 50.0                     │\n",
       "│ 39037 │ 2020-11-09T21:54:00 │ 51.0                     │\n",
       "│ 39038 │ 2020-11-09T22:54:00 │ 50.0                     │\n",
       "│ 39039 │ 2020-11-09T23:54:00 │ 50.0                     │\n",
       "│ 39040 │ 2020-11-10T00:54:00 │ 50.0                     │\n",
       "│ 39041 │ 2020-11-10T01:54:00 │ 48.0                     │\n",
       "│ 39042 │ 2020-11-10T02:54:00 │ 50.0                     │"
      ]
     },
     "execution_count": 26,
     "metadata": {},
     "output_type": "execute_result"
    }
   ],
   "source": [
    "temp"
   ]
  },
  {
   "cell_type": "code",
   "execution_count": 27,
   "metadata": {},
   "outputs": [],
   "source": [
    "d1 = filter(row -> DateTime(2018, 1, 7, 22, 0)<=row[:DATE]<=DateTime(2018, 1, 9, 0, 0), temp);"
   ]
  },
  {
   "cell_type": "code",
   "execution_count": 30,
   "metadata": {},
   "outputs": [
    {
     "ename": "UndefVarError",
     "evalue": "UndefVarError: plot not defined",
     "output_type": "error",
     "traceback": [
      "UndefVarError: plot not defined",
      "",
      "Stacktrace:",
      " [1] top-level scope at In[30]:1"
     ]
    }
   ],
   "source": [
    "#l = @layout [a ; b ; c]\n",
    "p1=plot(d1[!, :DATE], d1[!, :HourlyDryBulbTemperature])"
   ]
  },
  {
   "cell_type": "code",
   "execution_count": null,
   "metadata": {},
   "outputs": [],
   "source": []
  }
 ],
 "metadata": {
  "kernelspec": {
   "display_name": "Julia 1.0.5",
   "language": "julia",
   "name": "julia-1.0"
  },
  "language_info": {
   "file_extension": ".jl",
   "mimetype": "application/julia",
   "name": "julia",
   "version": "1.0.5"
  }
 },
 "nbformat": 4,
 "nbformat_minor": 4
}
