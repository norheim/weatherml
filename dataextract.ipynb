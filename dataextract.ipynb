{
 "cells": [
  {
   "cell_type": "code",
   "execution_count": 5,
   "metadata": {},
   "outputs": [],
   "source": [
    "using DataFrames, CSV, Tables, Dates"
   ]
  },
  {
   "cell_type": "code",
   "execution_count": 6,
   "metadata": {},
   "outputs": [],
   "source": [
    "csv = \"2352763.csv\";"
   ]
  },
  {
   "cell_type": "code",
   "execution_count": 24,
   "metadata": {},
   "outputs": [
    {
     "name": "stdout",
     "output_type": "stream",
     "text": [
      "thread = 1 warning: error parsing Float64 on row = 12751, col = 44: \"15s,\", error=INVALID: OK | SENTINEL | DELIMITED | INVALID_DELIMITER \n",
      "thread = 1 warning: error parsing Float64 on row = 22403, col = 44: \"72s,\", error=INVALID: OK | SENTINEL | DELIMITED | INVALID_DELIMITER \n",
      "thread = 1 warning: error parsing Float64 on row = 22406, col = 44: \"74s,\", error=INVALID: OK | SENTINEL | DELIMITED | INVALID_DELIMITER \n",
      "thread = 1 warning: error parsing Float64 on row = 28728, col = 44: \"72s,\", error=INVALID: OK | SENTINEL | DELIMITED | INVALID_DELIMITER \n",
      "thread = 1 warning: error parsing Float64 on row = 30899, col = 44: \"66s,\", error=INVALID: OK | SENTINEL | DELIMITED | INVALID_DELIMITER \n",
      "thread = 1 warning: error parsing Float64 on row = 30900, col = 44: \"66s,\", error=INVALID: OK | SENTINEL | DELIMITED | INVALID_DELIMITER \n",
      "thread = 1 warning: error parsing Float64 on row = 30901, col = 44: \"66s,\", error=INVALID: OK | SENTINEL | DELIMITED | INVALID_DELIMITER \n",
      "thread = 1 warning: error parsing Float64 on row = 37185, col = 44: \"66s,\", error=INVALID: OK | SENTINEL | DELIMITED | INVALID_DELIMITER \n",
      "thread = 1 warning: error parsing Float64 on row = 37186, col = 44: \"66s,\", error=INVALID: OK | SENTINEL | DELIMITED | INVALID_DELIMITER \n",
      "thread = 1 warning: error parsing Float64 on row = 39786, col = 44: \"28s,\", error=INVALID: OK | SENTINEL | DELIMITED | INVALID_DELIMITER \n"
     ]
    }
   ],
   "source": [
    "df = CSV.File(\"weather_cleaned_v1.csv\", types=Dict(:HourlyDryBulbTemperature=>Float64)) |> DataFrame;"
   ]
  },
  {
   "cell_type": "code",
   "execution_count": 25,
   "metadata": {},
   "outputs": [],
   "source": [
    "dfh = filter(row -> !(strip(row[:REPORT_TYPE]) in [\"SOD\", \"SOM\"]), df) # these are the entries that correspond to daily and monthly data which we exclude;"
   ]
  },
  {
   "cell_type": "code",
   "execution_count": 29,
   "metadata": {},
   "outputs": [
    {
     "data": {
      "text/plain": [
       "39042-element Array{Union{Missing, Float64},1}:\n",
       "  2.0\n",
       "  2.0\n",
       "  1.0\n",
       "  1.0\n",
       "  1.0\n",
       "  1.0\n",
       "  0.0\n",
       "  0.0\n",
       "  0.0\n",
       "  0.0\n",
       "  0.0\n",
       "  1.0\n",
       "  4.0\n",
       "  ⋮  \n",
       " 53.0\n",
       " 51.0\n",
       " 51.0\n",
       " 51.0\n",
       " 50.0\n",
       " 50.0\n",
       " 51.0\n",
       " 50.0\n",
       " 50.0\n",
       " 50.0\n",
       " 48.0\n",
       " 50.0"
      ]
     },
     "execution_count": 29,
     "metadata": {},
     "output_type": "execute_result"
    }
   ],
   "source": [
    "dfh[!, :HourlyDryBulbTemperature]"
   ]
  },
  {
   "cell_type": "code",
   "execution_count": 28,
   "metadata": {},
   "outputs": [
    {
     "ename": "MethodError",
     "evalue": "MethodError: no method matching impute(::Array{Union{Missing, Float64},1}, ::Symbol; random_seed=1, show_progress=false)\nClosest candidates are:\n  impute(!Matched::Union{AbstractDataFrame, AbstractArray{#s23,2} where #s23<:Real}, ::Union{AbstractString, Symbol}; X_warm, kwargs...) at C:\\Users\\iai\\builds\\InterpretableAI\\SysImgBuilder\\.julia\\packages\\OptImpute\\vg9z8\\src\\api_simple.jl:17",
     "output_type": "error",
     "traceback": [
      "MethodError: no method matching impute(::Array{Union{Missing, Float64},1}, ::Symbol; random_seed=1, show_progress=false)\nClosest candidates are:\n  impute(!Matched::Union{AbstractDataFrame, AbstractArray{#s23,2} where #s23<:Real}, ::Union{AbstractString, Symbol}; X_warm, kwargs...) at C:\\Users\\iai\\builds\\InterpretableAI\\SysImgBuilder\\.julia\\packages\\OptImpute\\vg9z8\\src\\api_simple.jl:17",
      "",
      "Stacktrace:",
      " [1] top-level scope at In[28]:1"
     ]
    }
   ],
   "source": [
    "IAI.impute(dfh[!, :HourlyDryBulbTemperature], :opt_knn, random_seed=1, show_progress=false)"
   ]
  },
  {
   "cell_type": "code",
   "execution_count": 12,
   "metadata": {},
   "outputs": [
    {
     "data": {
      "text/html": [
       "<table class=\"data-frame\"><thead><tr><th></th><th>STATION</th><th>DATE</th><th>REPORT_TYPE</th><th>SOURCE</th><th>AWND</th><th>BackupDirection</th></tr><tr><th></th><th>Int64</th><th>DateTime</th><th>String</th><th>Int64</th><th>Float64⍰</th><th>String</th></tr></thead><tbody><p>39,042 rows × 123 columns (omitted printing of 117 columns)</p><tr><th>1</th><td>72509014739</td><td>2018-01-01T00:54:00</td><td>FM-15</td><td>7</td><td>missing</td><td>NE</td></tr><tr><th>2</th><td>72509014739</td><td>2018-01-01T01:00:00</td><td>FM-12</td><td>4</td><td>missing</td><td>NE</td></tr><tr><th>3</th><td>72509014739</td><td>2018-01-01T01:54:00</td><td>FM-15</td><td>7</td><td>missing</td><td>NE</td></tr><tr><th>4</th><td>72509014739</td><td>2018-01-01T02:54:00</td><td>FM-15</td><td>7</td><td>missing</td><td>NE</td></tr><tr><th>5</th><td>72509014739</td><td>2018-01-01T03:54:00</td><td>FM-15</td><td>7</td><td>missing</td><td>NE</td></tr><tr><th>6</th><td>72509014739</td><td>2018-01-01T04:00:00</td><td>FM-12</td><td>4</td><td>missing</td><td>NE</td></tr><tr><th>7</th><td>72509014739</td><td>2018-01-01T04:54:00</td><td>FM-15</td><td>7</td><td>missing</td><td>NE</td></tr><tr><th>8</th><td>72509014739</td><td>2018-01-01T05:54:00</td><td>FM-15</td><td>7</td><td>missing</td><td>NE</td></tr><tr><th>9</th><td>72509014739</td><td>2018-01-01T06:54:00</td><td>FM-15</td><td>7</td><td>missing</td><td>NE</td></tr><tr><th>10</th><td>72509014739</td><td>2018-01-01T07:00:00</td><td>FM-12</td><td>4</td><td>missing</td><td>NE</td></tr><tr><th>11</th><td>72509014739</td><td>2018-01-01T07:54:00</td><td>FM-15</td><td>7</td><td>missing</td><td>NE</td></tr><tr><th>12</th><td>72509014739</td><td>2018-01-01T08:54:00</td><td>FM-15</td><td>7</td><td>missing</td><td>NE</td></tr><tr><th>13</th><td>72509014739</td><td>2018-01-01T09:54:00</td><td>FM-15</td><td>7</td><td>missing</td><td>NE</td></tr><tr><th>14</th><td>72509014739</td><td>2018-01-01T10:00:00</td><td>FM-12</td><td>4</td><td>missing</td><td>NE</td></tr><tr><th>15</th><td>72509014739</td><td>2018-01-01T10:54:00</td><td>FM-15</td><td>7</td><td>missing</td><td>NE</td></tr><tr><th>16</th><td>72509014739</td><td>2018-01-01T11:54:00</td><td>FM-15</td><td>7</td><td>missing</td><td>NE</td></tr><tr><th>17</th><td>72509014739</td><td>2018-01-01T12:54:00</td><td>FM-15</td><td>7</td><td>missing</td><td>NE</td></tr><tr><th>18</th><td>72509014739</td><td>2018-01-01T13:00:00</td><td>FM-12</td><td>4</td><td>missing</td><td>NE</td></tr><tr><th>19</th><td>72509014739</td><td>2018-01-01T13:54:00</td><td>FM-15</td><td>7</td><td>missing</td><td>NE</td></tr><tr><th>20</th><td>72509014739</td><td>2018-01-01T14:54:00</td><td>FM-15</td><td>7</td><td>missing</td><td>NE</td></tr><tr><th>21</th><td>72509014739</td><td>2018-01-01T15:54:00</td><td>FM-15</td><td>7</td><td>missing</td><td>NE</td></tr><tr><th>22</th><td>72509014739</td><td>2018-01-01T16:00:00</td><td>FM-12</td><td>4</td><td>missing</td><td>NE</td></tr><tr><th>23</th><td>72509014739</td><td>2018-01-01T16:54:00</td><td>FM-15</td><td>7</td><td>missing</td><td>NE</td></tr><tr><th>24</th><td>72509014739</td><td>2018-01-01T17:54:00</td><td>FM-15</td><td>7</td><td>missing</td><td>NE</td></tr><tr><th>25</th><td>72509014739</td><td>2018-01-01T18:54:00</td><td>FM-15</td><td>7</td><td>missing</td><td>NE</td></tr><tr><th>26</th><td>72509014739</td><td>2018-01-01T19:00:00</td><td>FM-12</td><td>4</td><td>missing</td><td>NE</td></tr><tr><th>27</th><td>72509014739</td><td>2018-01-01T19:54:00</td><td>FM-15</td><td>7</td><td>missing</td><td>NE</td></tr><tr><th>28</th><td>72509014739</td><td>2018-01-01T20:54:00</td><td>FM-15</td><td>7</td><td>missing</td><td>NE</td></tr><tr><th>29</th><td>72509014739</td><td>2018-01-01T21:54:00</td><td>FM-15</td><td>7</td><td>missing</td><td>NE</td></tr><tr><th>30</th><td>72509014739</td><td>2018-01-01T22:00:00</td><td>FM-12</td><td>4</td><td>missing</td><td>NE</td></tr><tr><th>&vellip;</th><td>&vellip;</td><td>&vellip;</td><td>&vellip;</td><td>&vellip;</td><td>&vellip;</td><td>&vellip;</td></tr></tbody></table>"
      ],
      "text/latex": [
       "\\begin{tabular}{r|ccccccc}\n",
       "\t& STATION & DATE & REPORT\\_TYPE & SOURCE & AWND & BackupDirection & \\\\\n",
       "\t\\hline\n",
       "\t& Int64 & DateTime & String & Int64 & Float64⍰ & String & \\\\\n",
       "\t\\hline\n",
       "\t1 & 72509014739 & 2018-01-01T00:54:00 & FM-15 & 7 &  & NE & $\\dots$ \\\\\n",
       "\t2 & 72509014739 & 2018-01-01T01:00:00 & FM-12 & 4 &  & NE & $\\dots$ \\\\\n",
       "\t3 & 72509014739 & 2018-01-01T01:54:00 & FM-15 & 7 &  & NE & $\\dots$ \\\\\n",
       "\t4 & 72509014739 & 2018-01-01T02:54:00 & FM-15 & 7 &  & NE & $\\dots$ \\\\\n",
       "\t5 & 72509014739 & 2018-01-01T03:54:00 & FM-15 & 7 &  & NE & $\\dots$ \\\\\n",
       "\t6 & 72509014739 & 2018-01-01T04:00:00 & FM-12 & 4 &  & NE & $\\dots$ \\\\\n",
       "\t7 & 72509014739 & 2018-01-01T04:54:00 & FM-15 & 7 &  & NE & $\\dots$ \\\\\n",
       "\t8 & 72509014739 & 2018-01-01T05:54:00 & FM-15 & 7 &  & NE & $\\dots$ \\\\\n",
       "\t9 & 72509014739 & 2018-01-01T06:54:00 & FM-15 & 7 &  & NE & $\\dots$ \\\\\n",
       "\t10 & 72509014739 & 2018-01-01T07:00:00 & FM-12 & 4 &  & NE & $\\dots$ \\\\\n",
       "\t11 & 72509014739 & 2018-01-01T07:54:00 & FM-15 & 7 &  & NE & $\\dots$ \\\\\n",
       "\t12 & 72509014739 & 2018-01-01T08:54:00 & FM-15 & 7 &  & NE & $\\dots$ \\\\\n",
       "\t13 & 72509014739 & 2018-01-01T09:54:00 & FM-15 & 7 &  & NE & $\\dots$ \\\\\n",
       "\t14 & 72509014739 & 2018-01-01T10:00:00 & FM-12 & 4 &  & NE & $\\dots$ \\\\\n",
       "\t15 & 72509014739 & 2018-01-01T10:54:00 & FM-15 & 7 &  & NE & $\\dots$ \\\\\n",
       "\t16 & 72509014739 & 2018-01-01T11:54:00 & FM-15 & 7 &  & NE & $\\dots$ \\\\\n",
       "\t17 & 72509014739 & 2018-01-01T12:54:00 & FM-15 & 7 &  & NE & $\\dots$ \\\\\n",
       "\t18 & 72509014739 & 2018-01-01T13:00:00 & FM-12 & 4 &  & NE & $\\dots$ \\\\\n",
       "\t19 & 72509014739 & 2018-01-01T13:54:00 & FM-15 & 7 &  & NE & $\\dots$ \\\\\n",
       "\t20 & 72509014739 & 2018-01-01T14:54:00 & FM-15 & 7 &  & NE & $\\dots$ \\\\\n",
       "\t21 & 72509014739 & 2018-01-01T15:54:00 & FM-15 & 7 &  & NE & $\\dots$ \\\\\n",
       "\t22 & 72509014739 & 2018-01-01T16:00:00 & FM-12 & 4 &  & NE & $\\dots$ \\\\\n",
       "\t23 & 72509014739 & 2018-01-01T16:54:00 & FM-15 & 7 &  & NE & $\\dots$ \\\\\n",
       "\t24 & 72509014739 & 2018-01-01T17:54:00 & FM-15 & 7 &  & NE & $\\dots$ \\\\\n",
       "\t25 & 72509014739 & 2018-01-01T18:54:00 & FM-15 & 7 &  & NE & $\\dots$ \\\\\n",
       "\t26 & 72509014739 & 2018-01-01T19:00:00 & FM-12 & 4 &  & NE & $\\dots$ \\\\\n",
       "\t27 & 72509014739 & 2018-01-01T19:54:00 & FM-15 & 7 &  & NE & $\\dots$ \\\\\n",
       "\t28 & 72509014739 & 2018-01-01T20:54:00 & FM-15 & 7 &  & NE & $\\dots$ \\\\\n",
       "\t29 & 72509014739 & 2018-01-01T21:54:00 & FM-15 & 7 &  & NE & $\\dots$ \\\\\n",
       "\t30 & 72509014739 & 2018-01-01T22:00:00 & FM-12 & 4 &  & NE & $\\dots$ \\\\\n",
       "\t$\\dots$ & $\\dots$ & $\\dots$ & $\\dots$ & $\\dots$ & $\\dots$ & $\\dots$ &  \\\\\n",
       "\\end{tabular}\n"
      ],
      "text/plain": [
       "39042×123 DataFrame. Omitted printing of 118 columns\n",
       "│ Row   │ STATION     │ DATE                │ REPORT_TYPE │ SOURCE │ AWND     │\n",
       "│       │ \u001b[90mInt64\u001b[39m       │ \u001b[90mDateTime\u001b[39m            │ \u001b[90mString\u001b[39m      │ \u001b[90mInt64\u001b[39m  │ \u001b[90mFloat64⍰\u001b[39m │\n",
       "├───────┼─────────────┼─────────────────────┼─────────────┼────────┼──────────┤\n",
       "│ 1     │ 72509014739 │ 2018-01-01T00:54:00 │ FM-15       │ 7      │ \u001b[90mmissing\u001b[39m  │\n",
       "│ 2     │ 72509014739 │ 2018-01-01T01:00:00 │ FM-12       │ 4      │ \u001b[90mmissing\u001b[39m  │\n",
       "│ 3     │ 72509014739 │ 2018-01-01T01:54:00 │ FM-15       │ 7      │ \u001b[90mmissing\u001b[39m  │\n",
       "│ 4     │ 72509014739 │ 2018-01-01T02:54:00 │ FM-15       │ 7      │ \u001b[90mmissing\u001b[39m  │\n",
       "│ 5     │ 72509014739 │ 2018-01-01T03:54:00 │ FM-15       │ 7      │ \u001b[90mmissing\u001b[39m  │\n",
       "│ 6     │ 72509014739 │ 2018-01-01T04:00:00 │ FM-12       │ 4      │ \u001b[90mmissing\u001b[39m  │\n",
       "│ 7     │ 72509014739 │ 2018-01-01T04:54:00 │ FM-15       │ 7      │ \u001b[90mmissing\u001b[39m  │\n",
       "│ 8     │ 72509014739 │ 2018-01-01T05:54:00 │ FM-15       │ 7      │ \u001b[90mmissing\u001b[39m  │\n",
       "│ 9     │ 72509014739 │ 2018-01-01T06:54:00 │ FM-15       │ 7      │ \u001b[90mmissing\u001b[39m  │\n",
       "│ 10    │ 72509014739 │ 2018-01-01T07:00:00 │ FM-12       │ 4      │ \u001b[90mmissing\u001b[39m  │\n",
       "⋮\n",
       "│ 39032 │ 72509014739 │ 2020-11-09T16:54:00 │ FM-15       │ 6      │ \u001b[90mmissing\u001b[39m  │\n",
       "│ 39033 │ 72509014739 │ 2020-11-09T17:54:00 │ FM-15       │ 6      │ \u001b[90mmissing\u001b[39m  │\n",
       "│ 39034 │ 72509014739 │ 2020-11-09T18:54:00 │ FM-15       │ 6      │ \u001b[90mmissing\u001b[39m  │\n",
       "│ 39035 │ 72509014739 │ 2020-11-09T19:54:00 │ FM-15       │ 6      │ \u001b[90mmissing\u001b[39m  │\n",
       "│ 39036 │ 72509014739 │ 2020-11-09T20:54:00 │ FM-15       │ 6      │ \u001b[90mmissing\u001b[39m  │\n",
       "│ 39037 │ 72509014739 │ 2020-11-09T21:54:00 │ FM-15       │ 6      │ \u001b[90mmissing\u001b[39m  │\n",
       "│ 39038 │ 72509014739 │ 2020-11-09T22:54:00 │ FM-15       │ 6      │ \u001b[90mmissing\u001b[39m  │\n",
       "│ 39039 │ 72509014739 │ 2020-11-09T23:54:00 │ FM-15       │ 6      │ \u001b[90mmissing\u001b[39m  │\n",
       "│ 39040 │ 72509014739 │ 2020-11-10T00:54:00 │ FM-15       │ 6      │ \u001b[90mmissing\u001b[39m  │\n",
       "│ 39041 │ 72509014739 │ 2020-11-10T01:54:00 │ FM-15       │ 6      │ \u001b[90mmissing\u001b[39m  │\n",
       "│ 39042 │ 72509014739 │ 2020-11-10T02:54:00 │ FM-15       │ 6      │ \u001b[90mmissing\u001b[39m  │"
      ]
     },
     "execution_count": 12,
     "metadata": {},
     "output_type": "execute_result"
    }
   ],
   "source": [
    "pressure = Impute.interp(dfh[!, [\"DATE\",\"HourlyStationPressure\"]]);"
   ]
  },
  {
   "cell_type": "code",
   "execution_count": null,
   "metadata": {},
   "outputs": [],
   "source": []
  }
 ],
 "metadata": {
  "kernelspec": {
   "display_name": "Julia 1.0.5",
   "language": "julia",
   "name": "julia-1.0"
  },
  "language_info": {
   "file_extension": ".jl",
   "mimetype": "application/julia",
   "name": "julia",
   "version": "1.0.5"
  }
 },
 "nbformat": 4,
 "nbformat_minor": 4
}
