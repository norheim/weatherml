{
 "cells": [
  {
   "cell_type": "code",
   "execution_count": 1,
   "metadata": {
    "execution": {
     "iopub.execute_input": "2020-12-07T11:47:32.461000+01:00",
     "iopub.status.busy": "2020-12-07T11:47:30.589000+01:00",
     "iopub.status.idle": "2020-12-07T11:47:51.566000+01:00"
    }
   },
   "outputs": [],
   "source": [
    "using DataFrames, CSV, Impute, Dates, Plots, Statistics, Interpolations"
   ]
  },
  {
   "cell_type": "code",
   "execution_count": 2,
   "metadata": {
    "execution": {
     "iopub.execute_input": "2020-12-07T11:47:57.176000+01:00",
     "iopub.status.busy": "2020-12-07T11:47:51.567000+01:00",
     "iopub.status.idle": "2020-12-07T11:48:03.704000+01:00"
    }
   },
   "outputs": [],
   "source": [
    "include(\"utils.jl\");"
   ]
  },
  {
   "cell_type": "markdown",
   "metadata": {},
   "source": [
    "## Choose data file"
   ]
  },
  {
   "cell_type": "code",
   "execution_count": 3,
   "metadata": {
    "execution": {
     "iopub.execute_input": "2020-12-07T11:48:03.705000+01:00",
     "iopub.status.busy": "2020-12-07T11:48:03.705000+01:00",
     "iopub.status.idle": "2020-12-07T11:48:04.073000+01:00"
    }
   },
   "outputs": [],
   "source": [
    "data_available = [\n",
    "    \"boston_09_12\",\n",
    "    \"boston_13_15\",\n",
    "    \"boston_16_17\",\n",
    "    \"boston_18_20\",\n",
    "    \"hanscom_18_20\",\n",
    "    \"pittsfield_18_20\"\n",
    "];\n",
    "choice = \"boston_18_20\";"
   ]
  },
  {
   "cell_type": "code",
   "execution_count": 4,
   "metadata": {
    "execution": {
     "iopub.execute_input": "2020-12-07T11:48:04.074000+01:00",
     "iopub.status.busy": "2020-12-07T11:48:04.073000+01:00",
     "iopub.status.idle": "2020-12-07T11:48:18.542000+01:00"
    }
   },
   "outputs": [],
   "source": [
    "df = CSV.File(string(\"data/\", choice, \".csv\")) |> DataFrame;"
   ]
  },
  {
   "cell_type": "code",
   "execution_count": 5,
   "metadata": {
    "execution": {
     "iopub.execute_input": "2020-12-07T11:48:18.544000+01:00",
     "iopub.status.busy": "2020-12-07T11:48:18.543000+01:00",
     "iopub.status.idle": "2020-12-07T11:48:21.382000+01:00"
    }
   },
   "outputs": [
    {
     "data": {
      "text/plain": [
       "0"
      ]
     },
     "execution_count": 5,
     "metadata": {},
     "output_type": "execute_result"
    }
   ],
   "source": [
    "dfdaily = filter(row -> strip(row[:REPORT_TYPE]) == \"SOD\", df);\n",
    "dfh = filter(row -> !(strip(row[:REPORT_TYPE]) in [\"SOD\", \"SOM\"]), df)\n",
    "sum(ismissing.(dfh[:, :HourlyDryBulbTemperature]))"
   ]
  },
  {
   "cell_type": "code",
   "execution_count": 6,
   "metadata": {
    "execution": {
     "iopub.execute_input": "2020-12-07T11:48:21.383000+01:00",
     "iopub.status.busy": "2020-12-07T11:48:21.383000+01:00",
     "iopub.status.idle": "2020-12-07T11:48:21.436000+01:00"
    }
   },
   "outputs": [],
   "source": [
    "factors =  [(:HourlyDryBulbTemperature,:temp), (:HourlyPrecipitation,:prec), (:HourlySeaLevelPressure,:pres)];"
   ]
  },
  {
   "cell_type": "code",
   "execution_count": 7,
   "metadata": {
    "execution": {
     "iopub.execute_input": "2020-12-07T11:48:21.437000+01:00",
     "iopub.status.busy": "2020-12-07T11:48:21.437000+01:00",
     "iopub.status.idle": "2020-12-07T11:48:34.933000+01:00"
    }
   },
   "outputs": [
    {
     "data": {
      "text/html": [
       "<table class=\"data-frame\"><thead><tr><th></th><th>sampleT</th><th>temp</th><th>prec</th><th>pres</th></tr><tr><th></th><th>DateTime</th><th>Float64</th><th>Float64</th><th>Float64</th></tr></thead><tbody><p>4 rows × 4 columns</p><tr><th>1</th><td>2018-01-01T01:00:00</td><td>2.0</td><td>0.0</td><td>30.2</td></tr><tr><th>2</th><td>2018-01-01T02:00:00</td><td>1.0</td><td>0.0</td><td>30.21</td></tr><tr><th>3</th><td>2018-01-01T03:00:00</td><td>1.0</td><td>0.0</td><td>30.21</td></tr><tr><th>4</th><td>2018-01-01T04:00:00</td><td>1.0</td><td>0.0</td><td>30.2</td></tr></tbody></table>"
      ],
      "text/latex": [
       "\\begin{tabular}{r|cccc}\n",
       "\t& sampleT & temp & prec & pres\\\\\n",
       "\t\\hline\n",
       "\t& DateTime & Float64 & Float64 & Float64\\\\\n",
       "\t\\hline\n",
       "\t1 & 2018-01-01T01:00:00 & 2.0 & 0.0 & 30.2 \\\\\n",
       "\t2 & 2018-01-01T02:00:00 & 1.0 & 0.0 & 30.21 \\\\\n",
       "\t3 & 2018-01-01T03:00:00 & 1.0 & 0.0 & 30.21 \\\\\n",
       "\t4 & 2018-01-01T04:00:00 & 1.0 & 0.0 & 30.2 \\\\\n",
       "\\end{tabular}\n"
      ],
      "text/plain": [
       "4×4 DataFrame\n",
       "│ Row │ sampleT             │ temp    │ prec    │ pres    │\n",
       "│     │ \u001b[90mDateTime\u001b[39m            │ \u001b[90mFloat64\u001b[39m │ \u001b[90mFloat64\u001b[39m │ \u001b[90mFloat64\u001b[39m │\n",
       "├─────┼─────────────────────┼─────────┼─────────┼─────────┤\n",
       "│ 1   │ 2018-01-01T01:00:00 │ 2.0     │ 0.0     │ 30.2    │\n",
       "│ 2   │ 2018-01-01T02:00:00 │ 1.0     │ 0.0     │ 30.21   │\n",
       "│ 3   │ 2018-01-01T03:00:00 │ 1.0     │ 0.0     │ 30.21   │\n",
       "│ 4   │ 2018-01-01T04:00:00 │ 1.0     │ 0.0     │ 30.2    │"
      ]
     },
     "execution_count": 7,
     "metadata": {},
     "output_type": "execute_result"
    }
   ],
   "source": [
    "mdata = selectdata(dfh, factors);\n",
    "first(mdata, 4)"
   ]
  },
  {
   "cell_type": "markdown",
   "metadata": {},
   "source": [
    "## Define characteristic of training set"
   ]
  },
  {
   "cell_type": "code",
   "execution_count": 43,
   "metadata": {
    "execution": {
     "iopub.execute_input": "2020-12-07T11:53:43.264000+01:00",
     "iopub.status.busy": "2020-12-07T11:53:43.264000+01:00",
     "iopub.status.idle": "2020-12-07T11:53:43.268000+01:00"
    }
   },
   "outputs": [],
   "source": [
    "start = 2018, 1, 2\n",
    "dayslookback = 7\n",
    "ndays = 365-dayslookback-1\n",
    "predicttype = :temp\n",
    "offset = 25;"
   ]
  },
  {
   "cell_type": "code",
   "execution_count": 44,
   "metadata": {
    "execution": {
     "iopub.execute_input": "2020-12-07T11:53:44.511000+01:00",
     "iopub.status.busy": "2020-12-07T11:53:44.510000+01:00",
     "iopub.status.idle": "2020-12-07T11:53:44.875000+01:00"
    }
   },
   "outputs": [],
   "source": [
    "X, y = build_multi_data(mdata, predicttype, start, dayslookback, ndays; offset=offset);"
   ]
  },
  {
   "cell_type": "code",
   "execution_count": 45,
   "metadata": {
    "execution": {
     "iopub.execute_input": "2020-12-07T11:53:45.276000+01:00",
     "iopub.status.busy": "2020-12-07T11:53:45.275000+01:00",
     "iopub.status.idle": "2020-12-07T11:53:45.281000+01:00"
    }
   },
   "outputs": [
    {
     "data": {
      "text/plain": [
       "8568×507 Array{Float64,2}:\n",
       "  8.0   0.0  30.26     8.0   0.0  …  0.0      29.95    1.0  10.0   0.0\n",
       "  8.0   0.0  30.24     8.0   0.0     0.0      29.93    1.0  10.0   1.0\n",
       "  8.0   0.0  30.25     7.0   0.0     0.0      29.91    1.0  10.0   2.0\n",
       "  7.0   0.0  30.24     6.0   0.0     0.0      29.91    1.0  10.0   3.0\n",
       "  6.0   0.0  30.24     5.0   0.0     0.0      29.92    1.0  10.0   4.0\n",
       "  5.0   0.0  30.25     5.0   0.0  …  0.0      29.92    1.0  10.0   5.0\n",
       "  5.0   0.0  30.27     5.0   0.0     0.0      29.93    1.0  10.0   6.0\n",
       "  5.0   0.0  30.29     6.0   0.0     0.0      29.93    1.0  10.0   7.0\n",
       "  6.0   0.0  30.31     7.0   0.0     0.0      29.94    1.0  10.0   8.0\n",
       "  7.0   0.0  30.32     9.0   0.0     0.0      29.96    1.0  10.0   9.0\n",
       "  9.0   0.0  30.33    11.0   0.0  …  0.0      29.98    1.0  10.0  10.0\n",
       " 11.0   0.0  30.31    13.0   0.0     0.0      30.0     1.0  10.0  11.0\n",
       " 13.0   0.0  30.27    14.0   0.0     0.0      30.0     1.0  10.0  12.0\n",
       "  ⋮                               ⋱                          ⋮        \n",
       " 39.0   0.0  29.99    38.0   0.0     0.0      30.37    1.0   1.0  12.0\n",
       " 38.0   0.0  29.97    37.0   0.0     0.0      30.32    1.0   1.0  13.0\n",
       " 37.0   0.0  29.97    37.0   0.0     0.0      30.31    1.0   1.0  14.0\n",
       " 37.0   0.0  29.97    36.25  0.0     0.0      30.31    1.0   1.0  15.0\n",
       " 36.25  0.0  29.9625  37.0   0.0  …  0.0      30.29    1.0   1.0  16.0\n",
       " 37.0   0.0  29.97    37.0   0.0     0.0      30.27    1.0   1.0  17.0\n",
       " 37.0   0.0  29.97    38.0   0.0     0.0      30.27    1.0   1.0  18.0\n",
       " 38.0   0.0  29.97    38.0   0.0     0.0      30.27    1.0   1.0  19.0\n",
       " 38.0   0.0  29.96    38.0   0.0     0.01     30.26    1.0   1.0  20.0\n",
       " 38.0   0.0  29.97    38.0   0.0  …  0.02     30.22    1.0   1.0  21.0\n",
       " 38.0   0.0  29.98    38.0   0.0     0.04     30.14    1.0   1.0  22.0\n",
       " 38.0   0.0  29.98    37.0   0.0     0.04875  30.0825  1.0   1.0  23.0"
      ]
     },
     "execution_count": 45,
     "metadata": {},
     "output_type": "execute_result"
    }
   ],
   "source": [
    "X"
   ]
  },
  {
   "cell_type": "code",
   "execution_count": 46,
   "metadata": {
    "execution": {
     "iopub.execute_input": "2020-12-07T11:53:47.325000+01:00",
     "iopub.status.busy": "2020-12-07T11:53:47.324000+01:00",
     "iopub.status.idle": "2020-12-07T11:53:47.547000+01:00"
    }
   },
   "outputs": [],
   "source": [
    "start = 2019, 1, 1\n",
    "dayslookback = 7\n",
    "ndays = 365-dayslookback-1\n",
    "predicttype = :temp\n",
    "test_X, test_y = build_multi_data(mdata, predicttype, start, dayslookback, ndays; offset=offset);"
   ]
  },
  {
   "cell_type": "code",
   "execution_count": 47,
   "metadata": {
    "execution": {
     "iopub.execute_input": "2020-12-07T11:53:47.827000+01:00",
     "iopub.status.busy": "2020-12-07T11:53:47.827000+01:00",
     "iopub.status.idle": "2020-12-07T11:53:48.184000+01:00"
    }
   },
   "outputs": [],
   "source": [
    "start = 2020, 1, 1\n",
    "dayslookback = 7\n",
    "ndays = 300\n",
    "predicttype = :temp\n",
    "test_X2, test_y2 = build_multi_data(mdata, predicttype, start, dayslookback, ndays; offset=offset);"
   ]
  },
  {
   "cell_type": "code",
   "execution_count": 53,
   "metadata": {
    "execution": {
     "iopub.execute_input": "2020-12-07T15:08:08.102000+01:00",
     "iopub.status.busy": "2020-12-07T15:08:08.101000+01:00",
     "iopub.status.idle": "2020-12-07T15:08:08.147000+01:00"
    }
   },
   "outputs": [],
   "source": [
    "(train_X, train_y), (test_X, test_y) = IAI.split_data(:regression, X, y);"
   ]
  },
  {
   "cell_type": "code",
   "execution_count": 49,
   "metadata": {
    "execution": {
     "iopub.execute_input": "2020-12-07T11:53:53.501000+01:00",
     "iopub.status.busy": "2020-12-07T11:53:53.500000+01:00",
     "iopub.status.idle": "2020-12-07T14:39:59.730000+01:00"
    }
   },
   "outputs": [
    {
     "name": "stderr",
     "output_type": "stream",
     "text": [
      "┌ Warning: This copy of Interpretable AI software is for academic purposes only and not for commercial use.\n",
      "└ @ IAILicensing C:\\Users\\iai\\builds\\InterpretableAI\\SysImgBuilder\\.julia\\packages\\IAILicensing\\x1CT6\\src\\precompile.jl:19\n",
      "┌ Warning: Interpretable AI license expires soon: 2020-12-31. If you need to renew, please send us the following machine ID:\n",
      "│ 1d23b3eee464c21ff412aa6a5b247b9f0543ded03e05d39d863fbfc9241e7a1f\n",
      "└ @ IAILicensing C:\\Users\\iai\\builds\\InterpretableAI\\SysImgBuilder\\.julia\\packages\\IAILicensing\\x1CT6\\src\\precompile.jl:29\n"
     ]
    },
    {
     "name": "stdout",
     "output_type": "stream",
     "text": [
      "9964.579932 seconds (31.60 M allocations: 2.685 GiB, 0.11% gc time)\n"
     ]
    },
    {
     "data": {
      "text/plain": [
       "All Grid Results:\n",
       "\n",
       "│ Row │ show_progress │ minbucket │ max_depth │ cp          │ train_score │\n",
       "│     │ \u001b[90mBool\u001b[39m          │ \u001b[90mInt64\u001b[39m     │ \u001b[90mInt64\u001b[39m     │ \u001b[90mFloat64\u001b[39m     │ \u001b[90mFloat64\u001b[39m     │\n",
       "├─────┼───────────────┼───────────┼───────────┼─────────────┼─────────────┤\n",
       "│ 1   │ false         │ 10        │ 5         │ 0.000276064 │ 0.853147    │\n",
       "│ 2   │ false         │ 10        │ 6         │ 7.95869e-5  │ 0.88024     │\n",
       "│ 3   │ false         │ 10        │ 7         │ 6.62916e-6  │ 0.912189    │\n",
       "│ 4   │ false         │ 10        │ 8         │ 5.29251e-5  │ 0.930317    │\n",
       "│ 5   │ false         │ 10        │ 9         │ 4.0264e-5   │ 0.942335    │\n",
       "│ 6   │ false         │ 10        │ 10        │ 1.28649e-5  │ 0.953296    │\n",
       "\n",
       "│ Row │ valid_score │ rank_valid_score │\n",
       "│     │ \u001b[90mFloat64\u001b[39m     │ \u001b[90mInt64\u001b[39m            │\n",
       "├─────┼─────────────┼──────────────────┤\n",
       "│ 1   │ 0.810456    │ 6                │\n",
       "│ 2   │ 0.829235    │ 5                │\n",
       "│ 3   │ 0.849655    │ 4                │\n",
       "│ 4   │ 0.855747    │ 3                │\n",
       "│ 5   │ 0.867508    │ 2                │\n",
       "│ 6   │ 0.872678    │ 1                │\n",
       "\n",
       "Best Params:\n",
       "  max_depth => 10\n",
       "  minbucket => 10\n",
       "  cp => 1.2864861297843394e-5\n",
       "  show_progress => false\n",
       "\n",
       "Best Model - Fitted OptimalTreeRegressor:\n",
       "  1) Split: x289 < 50.17\n",
       "    2) Split: x499 < 42.58\n",
       "      3) Split: x486 < 30.08\n",
       "        4) Split: x345 < 30.01\n",
       "          5) Split: x346 < 39.83\n",
       "            6) Split: x502 < 31.67\n",
       "              7) Split: x351 < 29.5\n",
       "                8) Predict: 20, 15 points, error 94\n",
       "                9) Split: x361 < 35\n",
       "                  10) Split: x113 < 0.007188\n",
       "                    11) Predict: 33.58, 12 points, error 10.92\n",
       "                    12) Predict: 28.82, 11 points, error 79.64\n",
       "                  13) Predict: 37.94, 12 points, error 73.02\n",
       "              14) Split: x393 < 30.11\n",
       "                15) Split: x117 < 30.21\n",
       "                  16) Split: x417 < 29.68\n",
       "                    17) Split: x498 < 29.73\n",
       "                      18) Predict: 32.68, 50 points, error 742.9\n",
       "                      19) Predict: 39.81, 32 points, error 356.8\n",
       "                    20) Split: x173 < 0.003929\n",
       "                      21) Predict: 36.13, 114 points, error 802.2\n",
       "                      22) Predict: 31.46, 34 points, error 110.5\n",
       "                  23) Split: x69 < 30.59\n",
       "                    24) Predict: 43.74, 19 points, error 183.7\n",
       "                    25) Predict: 32.46, 12 points, error 151.7\n",
       "                26) Predict: 18, 10 points, error 546\n",
       "            27) Split: x28 < 46.17\n",
       "              28) Split: x180 < 30.21\n",
       "                29) Split: x405 < 29.59\n",
       "                  30) Split: x502 < 33.5\n",
       "                    31) Predict: 30.8, 15 points, error 116.4\n",
       "                    32) Split: x289 < 42.83\n",
       "                      33) Predict: 34.57, 14 points, error 33.43\n",
       "                      34) Predict: 37.47, 22 points, error 26.79\n",
       "                  35) Split: x145 < 41\n",
       "                    36) Split: x174 < 29.61\n",
       "                      37) Predict: 36.91, 11 points, error 16.91\n",
       "                      38) Predict: 34.82, 22 points, error 39.27\n",
       "                    39) Split: x505 < 3.5\n",
       "                      40) Predict: 37.85, 13 points, error 81.69\n",
       "                      41) Predict: 41.33, 23 points, error 62.8\n",
       "                42) Split: x492 < 29.29\n",
       "                  43) Predict: 42.23, 13 points, error 52.31\n",
       "                  44) Split: x253 < 40.5\n",
       "                    45) Predict: 45.9, 10 points, error 36.9\n",
       "                    46) Split: x241 < 46.5\n",
       "                      47) Predict: 38.42, 12 points, error 18.92\n",
       "                      48) Predict: 33.28, 16 points, error 52.86\n",
       "              49) Split: x436 < 43.5\n",
       "                50) Split: x81 < 29.88\n",
       "                  51) Predict: 45.2, 10 points, error 89.6\n",
       "                  52) Split: x216 < 30.2\n",
       "                    53) Predict: 34.6, 10 points, error 44.4\n",
       "                    54) Predict: 38.5, 10 points, error 10.5\n",
       "                55) Split: x166 < 42.5\n",
       "                  56) Predict: 52.6, 10 points, error 150.4\n",
       "                  57) Predict: 42.71, 16 points, error 138.4\n",
       "          58) Split: x402 < 30.54\n",
       "            59) Split: x12 < 29.91\n",
       "              60) Split: x385 < 41.5\n",
       "                61) Split: x478 < 41.5\n",
       "                  62) Split: x220 < 34.83\n",
       "                    63) Split: x443 < 0.000375\n",
       "                      64) Predict: 42.88, 17 points, error 297.8\n",
       "                      65) Predict: 31.27, 15 points, error 114.9\n",
       "                    66) Split: x496 < 35.63\n",
       "                      67) Predict: 33.4, 25 points, error 158\n",
       "                      68) Predict: 38.86, 29 points, error 166.9\n",
       "                  69) Predict: 51.08, 10 points, error 102\n",
       "                70) Split: x429 < 30.02\n",
       "                  71) Predict: 30.1, 10 points, error 222.9\n",
       "                  72) Predict: 24.21, 14 points, error 110.4\n",
       "              73) Split: x61 < 36.5\n",
       "                74) Split: x243 < 29.99\n",
       "                  75) Split: x250 < 42\n",
       "                    76) Split: x97 < 31.5\n",
       "                      77) Predict: 30.44, 35 points, error 221.4\n",
       "                      78) Predict: 35.14, 11 points, error 108\n",
       "                    79) Predict: 22.23, 13 points, error 22.31\n",
       "                  80) Split: x45 < 30.12\n",
       "                    81) Split: x51 < 30.06\n",
       "                      82) Predict: 23.2, 25 points, error 138\n",
       "                      83) Predict: 35.88, 12 points, error 273.1\n",
       "                    84) Split: x24 < 30.24\n",
       "                      85) Predict: 30.71, 15 points, error 190.2\n",
       "                      86) Predict: 17.68, 28 points, error 226.1\n",
       "                87) Split: x313 < 27.5\n",
       "                  88) Split: x154 < 35.5\n",
       "                    89) Predict: 31.69, 13 points, error 16.77\n",
       "                    90) Predict: 25.38, 16 points, error 37.75\n",
       "                  91) Split: x430 < 31.5\n",
       "                    92) Predict: 27.27, 11 points, error 308.2\n",
       "                    93) Split: x330 < 30.19\n",
       "                      94) Predict: 34.46, 66 points, error 434.1\n",
       "                      95) Predict: 38.48, 38 points, error 383.6\n",
       "            96) Predict: 46.29, 17 points, error 55.53\n",
       "        97) Split: x286 < 31.5\n",
       "          98) Split: x360 < 30.01\n",
       "            99) Split: x157 < 27.5\n",
       "              100) Split: x288 < 30.17\n",
       "                101) Predict: 41.3, 10 points, error 9.201\n",
       "                102) Predict: 45.98, 16 points, error 55.04\n",
       "              103) Split: x51 < 30.14\n",
       "                104) Predict: 30.88, 11 points, error 129.6\n",
       "                105) Split: x435 < 30.17\n",
       "                  106) Split: x388 < 39.75\n",
       "                    107) Split: x462 < 30.13\n",
       "                      108) Predict: 37.35, 10 points, error 9.025\n",
       "                      109) Predict: 40.16, 11 points, error 18.28\n",
       "                    110) Predict: 34.1, 12 points, error 80.99\n",
       "                  111) Predict: 47.35, 10 points, error 81.03\n",
       "            112) Split: x397 < 37.5\n",
       "              113) Split: x121 < 43.25\n",
       "                114) Split: x1 < 29.5\n",
       "                  115) Split: x481 < 30.5\n",
       "                    116) Predict: 46.77, 11 points, error 68.54\n",
       "                    117) Predict: 37.87, 10 points, error 65.38\n",
       "                  118) Split: x436 < 35.5\n",
       "                    119) Split: x435 < 30.11\n",
       "                      120) Predict: 31.13, 15 points, error 23.73\n",
       "                      121) Predict: 34.9, 10 points, error 52.9\n",
       "                    122) Predict: 40.9, 10 points, error 298.9\n",
       "                123) Split: x207 < 29.6\n",
       "                  124) Predict: 24.5, 10 points, error 30.5\n",
       "                  125) Predict: 30, 17 points, error 210\n",
       "              126) Split: x105 < 29.96\n",
       "                127) Split: x82 < 39.5\n",
       "                  128) Predict: 21.12, 14 points, error 46.86\n",
       "                  129) Predict: 27.25, 12 points, error 56.25\n",
       "                130) Split: x413 < 0.003\n",
       "                  131) Predict: 35.62, 13 points, error 163.1\n",
       "                  132) Predict: 27.82, 17 points, error 38.47\n",
       "          133) Split: x10 < 29.5\n",
       "            134) Split: x499 < 25.5\n",
       "              135) Split: x373 < 40\n",
       "                136) Predict: 27.41, 11 points, error 121.4\n",
       "                137) Split: x9 < 30.34\n",
       "                  138) Predict: 21, 10 points, error 8\n",
       "                  139) Predict: 16.2, 10 points, error 23.6\n",
       "              140) Split: x46 < 22.5\n",
       "                141) Predict: 48.48, 10 points, error 391.4\n",
       "                142) Split: x114 < 29.97\n",
       "                  143) Split: x370 < 38.5\n",
       "                    144) Split: x336 < 29.97\n",
       "                      145) Predict: 29, 12 points, error 26\n",
       "                      146) Predict: 39.05, 10 points, error 182.2\n",
       "                    147) Predict: 30.43, 14 points, error 39.43\n",
       "                  148) Split: x33 < 30.49\n",
       "                    149) Split: x301 < 39.67\n",
       "                      150) Predict: 35.95, 13 points, error 17.08\n",
       "                      151) Predict: 38.8, 10 points, error 9.6\n",
       "                    152) Predict: 42.63, 10 points, error 93.88\n",
       "            153) Split: x291 < 29.69\n",
       "              154) Split: x272 < 0.03167\n",
       "                155) Split: x195 < 29.97\n",
       "                  156) Split: x207 < 29.55\n",
       "                    157) Split: x198 < 29.29\n",
       "                      158) Predict: 48.87, 10 points, error 17.43\n",
       "                      159) Predict: 46.18, 10 points, error 29.03\n",
       "                    160) Predict: 36.3, 10 points, error 406.1\n",
       "                  161) Split: x159 < 30.2\n",
       "                    162) Predict: 55.01, 12 points, error 90.36\n",
       "                    163) Predict: 48.36, 13 points, error 172.8\n",
       "                164) Predict: 41.42, 17 points, error 422.1\n",
       "              165) Split: x445 < 29.5\n",
       "                166) Split: x84 < 30.1\n",
       "                  167) Split: x282 < 30.11\n",
       "                    168) Split: x88 < 42.5\n",
       "                      169) Predict: 27.94, 17 points, error 56.94\n",
       "                      170) Predict: 32.42, 26 points, error 162.3\n",
       "                    171) Predict: 38.38, 14 points, error 19.75\n",
       "                  172) Split: x111 < 30.38\n",
       "                    173) Split: x21 < 30.05\n",
       "                      174) Predict: 45.65, 19 points, error 70.75\n",
       "                      175) Predict: 37.56, 16 points, error 215.9\n",
       "                    176) Predict: 42.98, 10 points, error 52.31\n",
       "                177) Split: x220 < 47.5\n",
       "                  178) Split: x468 < 30.12\n",
       "                    179) Split: x49 < 40.5\n",
       "                      180) Predict: 30.34, 29 points, error 509.1\n",
       "                      181) Predict: 38.19, 26 points, error 640\n",
       "                    182) Split: x64 < 53.75\n",
       "                      183) Predict: 41.13, 197 points, error 5985.9\n",
       "                      184) Predict: 48.94, 26 points, error 641.1\n",
       "                  185) Split: x336 < 30.02\n",
       "                    186) Predict: 52.15, 18 points, error 266.5\n",
       "                    187) Split: x198 < 29.71\n",
       "                      188) Predict: 29, 15 points, error 122\n",
       "                      189) Predict: 42.86, 38 points, error 732.6\n",
       "      190) Split: x339 < 30.06\n",
       "        191) Split: x400 < 54.5\n",
       "          192) Split: x213 < 29.89\n",
       "            193) Split: x420 < 30.3\n",
       "              194) Split: x477 < 29.79\n",
       "                195) Split: x100 < 45.5\n",
       "                  196) Predict: 40, 12 points, error 54\n",
       "                  197) Predict: 47.33, 12 points, error 110.7\n",
       "                198) Split: x232 < 46.5\n",
       "                  199) Split: x85 < 44.83\n",
       "                    200) Split: x280 < 44.5\n",
       "                      201) Predict: 43.9, 10 points, error 180.9\n",
       "                      202) Predict: 50.9, 10 points, error 14.9\n",
       "                    203) Split: x490 < 45.5\n",
       "                      204) Predict: 54.47, 16 points, error 43.73\n",
       "                      205) Predict: 51.31, 10 points, error 37.85\n",
       "                  206) Split: x471 < 29.93\n",
       "                    207) Predict: 62.61, 16 points, error 241.5\n",
       "                    208) Split: x247 < 47.5\n",
       "                      209) Predict: 54.7, 10 points, error 28.1\n",
       "                      210) Predict: 51.2, 10 points, error 31.6\n",
       "              211) Predict: 65.1, 10 points, error 314.9\n",
       "            212) Split: x375 < 29.95\n",
       "              213) Split: x63 < 30.59\n",
       "                214) Split: x235 < 47.38\n",
       "                  215) Split: x111 < 30.02\n",
       "                    216) Split: x211 < 41.5\n",
       "                      217) Predict: 38.42, 26 points, error 44.35\n",
       "                      218) Predict: 44.5, 12 points, error 49\n",
       "                    219) Predict: 44.47, 17 points, error 104.2\n",
       "                  220) Predict: 54.69, 12 points, error 249.7\n",
       "                221) Split: x157 < 38.5\n",
       "                  222) Predict: 37.81, 11 points, error 15.45\n",
       "                  223) Predict: 33.75, 10 points, error 110.5\n",
       "              224) Split: x37 < 38.5\n",
       "                225) Split: x120 < 30.37\n",
       "                  226) Predict: 58.98, 18 points, error 139.5\n",
       "                  227) Predict: 49, 11 points, error 392\n",
       "                228) Split: x219 < 30.2\n",
       "                  229) Split: x279 < 29.9\n",
       "                    230) Predict: 42.45, 11 points, error 66.14\n",
       "                    231) Split: x433 < 43.5\n",
       "                      232) Predict: 48.6, 10 points, error 54.4\n",
       "                      233) Predict: 53.77, 11 points, error 143.8\n",
       "                  234) Split: x394 < 42.5\n",
       "                    235) Predict: 44.36, 11 points, error 54.55\n",
       "                    236) Predict: 38.88, 12 points, error 125.1\n",
       "          237) Split: x6 < 29.88\n",
       "            238) Split: x292 < 45.58\n",
       "              239) Predict: 73.39, 18 points, error 182.3\n",
       "              240) Predict: 64.15, 10 points, error 478\n",
       "            241) Split: x436 < 57.5\n",
       "              242) Split: x306 < 29.96\n",
       "                243) Predict: 57.6, 10 points, error 264.4\n",
       "                244) Split: x234 < 30.18\n",
       "                  245) Predict: 47, 10 points, error 104\n",
       "                  246) Predict: 52.32, 11 points, error 86.14\n",
       "              247) Predict: 63.83, 17 points, error 122.2\n",
       "        248) Split: x10 < 13.5\n",
       "          249) Split: x165 < 30.2\n",
       "            250) Predict: 17.63, 12 points, error 90.56\n",
       "            251) Predict: 35.4, 10 points, error 870.4\n",
       "          252) Split: x187 < 46.17\n",
       "            253) Split: x289 < 31.5\n",
       "              254) Split: x289 < 20.5\n",
       "                255) Split: x53 < 0.005417\n",
       "                  256) Predict: 44.08, 10 points, error 11.73\n",
       "                  257) Predict: 46.81, 10 points, error 4.64\n",
       "                258) Split: x249 < 30.09\n",
       "                  259) Split: x128 < 0.006667\n",
       "                    260) Predict: 43.8, 20 points, error 44.33\n",
       "                    261) Predict: 36.47, 15 points, error 47.73\n",
       "                  262) Split: x240 < 30.36\n",
       "                    263) Split: x480 < 29.89\n",
       "                      264) Predict: 28.27, 15 points, error 62.93\n",
       "                      265) Predict: 33.19, 28 points, error 249.3\n",
       "                    266) Split: x30 < 30.06\n",
       "                      267) Predict: 41, 16 points, error 74\n",
       "                      268) Predict: 33.67, 10 points, error 97.4\n",
       "              269) Split: x459 < 29.94\n",
       "                270) Split: x48 < 30.13\n",
       "                  271) Split: x235 < 36.5\n",
       "                    272) Predict: 30.29, 17 points, error 239.5\n",
       "                    273) Split: x327 < 30.14\n",
       "                      274) Predict: 36, 17 points, error 64\n",
       "                      275) Predict: 45.18, 11 points, error 145.6\n",
       "                  276) Split: x205 < 40.5\n",
       "                    277) Split: x364 < 47.5\n",
       "                      278) Predict: 38.24, 14 points, error 44.76\n",
       "                      279) Predict: 42.27, 11 points, error 30.18\n",
       "                    280) Predict: 50.03, 12 points, error 230.1\n",
       "                281) Split: x27 < 29.72\n",
       "                  282) Split: x261 < 29.99\n",
       "                    283) Predict: 56.83, 16 points, error 438\n",
       "                    284) Split: x90 < 29.71\n",
       "                      285) Predict: 50.57, 14 points, error 101.2\n",
       "                      286) Predict: 43.6, 10 points, error 10.4\n",
       "                  287) Split: x444 < 30.13\n",
       "                    288) Split: x478 < 43.17\n",
       "                      289) Predict: 55.01, 21 points, error 366.1\n",
       "                      290) Predict: 46.03, 30 points, error 273\n",
       "                    291) Split: x87 < 30.08\n",
       "                      292) Predict: 36.85, 34 points, error 279.9\n",
       "                      293) Predict: 45.1, 38 points, error 926.3\n",
       "            294) Split: x439 < 46.5\n",
       "              295) Split: x462 < 30.18\n",
       "                296) Split: x255 < 29.88\n",
       "                  297) Predict: 32.6, 10 points, error 344.4\n",
       "                  298) Split: x123 < 30.07\n",
       "                    299) Predict: 45.3, 10 points, error 44.1\n",
       "                    300) Predict: 39.73, 14 points, error 36.56\n",
       "                301) Split: x267 < 30.01\n",
       "                  302) Predict: 42.5, 12 points, error 75\n",
       "                  303) Predict: 53.42, 10 points, error 319.5\n",
       "              304) Split: x450 < 30.05\n",
       "                305) Split: x468 < 29.67\n",
       "                  306) Split: x132 < 29.9\n",
       "                    307) Predict: 39, 13 points, error 56.5\n",
       "                    308) Predict: 47.39, 19 points, error 62.29\n",
       "                  309) Split: x30 < 30.07\n",
       "                    310) Split: x495 < 29.92\n",
       "                      311) Predict: 49.1, 26 points, error 104.8\n",
       "                      312) Predict: 43.5, 20 points, error 175\n",
       "                    313) Split: x330 < 30.12\n",
       "                      314) Predict: 56.27, 22 points, error 239.1\n",
       "                      315) Predict: 50.08, 24 points, error 197.8\n",
       "                316) Split: x327 < 30.21\n",
       "                  317) Predict: 61.4, 10 points, error 226.4\n",
       "                  318) Split: x295 < 48.5\n",
       "                    319) Predict: 52.96, 14 points, error 34.23\n",
       "                    320) Predict: 56.1, 10 points, error 24.9\n",
       "    321) Split: x13 < 59.75\n",
       "      322) Split: x496 < 46.25\n",
       "        323) Split: x379 < 42.88\n",
       "          324) Split: x499 < 39.25\n",
       "            325) Split: x18 < 29.95\n",
       "              326) Split: x163 < 34.5\n",
       "                327) Predict: 31.04, 12 points, error 45.23\n",
       "                328) Split: x10 < 32.5\n",
       "                  329) Predict: 28.3, 10 points, error 34.1\n",
       "                  330) Predict: 37.27, 11 points, error 70.18\n",
       "              331) Split: x429 < 30.56\n",
       "                332) Split: x499 < 37.25\n",
       "                  333) Predict: 46, 10 points, error 430\n",
       "                  334) Predict: 37.53, 11 points, error 18.6\n",
       "                335) Predict: 31.6, 10 points, error 4.4\n",
       "            336) Split: x474 < 30.18\n",
       "              337) Split: x490 < 40.25\n",
       "                338) Predict: 38.46, 13 points, error 25.23\n",
       "                339) Predict: 41.6, 10 points, error 106.4\n",
       "              340) Split: x433 < 33.5\n",
       "                341) Predict: 41.97, 10 points, error 136.1\n",
       "                342) Predict: 56.65, 10 points, error 797\n",
       "          343) Split: x277 < 49.5\n",
       "            344) Split: x73 < 37.5\n",
       "              345) Predict: 35.52, 11 points, error 261.6\n",
       "              346) Predict: 46.63, 14 points, error 360.1\n",
       "            347) Split: x48 < 29.96\n",
       "              348) Split: x222 < 30.16\n",
       "                349) Predict: 50.32, 14 points, error 28.09\n",
       "                350) Predict: 56.6, 10 points, error 18.4\n",
       "              351) Split: x370 < 54.5\n",
       "                352) Predict: 45.25, 21 points, error 68.42\n",
       "                353) Predict: 52.4, 10 points, error 98.4\n",
       "        354) Split: x103 < 48.83\n",
       "          355) Split: x361 < 40.25\n",
       "            356) Predict: 40.37, 15 points, error 15.23\n",
       "            357) Split: x210 < 29.81\n",
       "              358) Split: x142 < 47.71\n",
       "                359) Predict: 55.45, 10 points, error 74.22\n",
       "                360) Predict: 67.17, 13 points, error 47.67\n",
       "              361) Split: x273 < 29.88\n",
       "                362) Split: x495 < 29.95\n",
       "                  363) Predict: 44.22, 15 points, error 78.65\n",
       "                  364) Split: x217 < 53.25\n",
       "                    365) Predict: 58.82, 11 points, error 43.64\n",
       "                    366) Split: x150 < 30.12\n",
       "                      367) Predict: 50.95, 25 points, error 24.81\n",
       "                      368) Predict: 48.18, 11 points, error 5.636\n",
       "                369) Split: x489 < 29.86\n",
       "                  370) Split: x277 < 52.5\n",
       "                    371) Predict: 52.82, 11 points, error 55.64\n",
       "                    372) Predict: 46.92, 12 points, error 44.92\n",
       "                  373) Split: x174 < 30.14\n",
       "                    374) Split: x292 < 78\n",
       "                      375) Predict: 51.96, 21 points, error 67.79\n",
       "                      376) Predict: 57.6, 10 points, error 132.4\n",
       "                    377) Split: x225 < 30.23\n",
       "                      378) Predict: 64.85, 13 points, error 36.19\n",
       "                      379) Predict: 58.48, 11 points, error 104.1\n",
       "          380) Split: x499 < 59.75\n",
       "            381) Split: x321 < 29.96\n",
       "              382) Split: x93 < 30.41\n",
       "                383) Split: x442 < 54.5\n",
       "                  384) Split: x53 < 0.005\n",
       "                    385) Split: x178 < 49.25\n",
       "                      386) Predict: 51.39, 11 points, error 129.1\n",
       "                      387) Predict: 57.41, 36 points, error 255.3\n",
       "                    388) Predict: 69.8, 10 points, error 635.6\n",
       "                  389) Split: x480 < 29.93\n",
       "                    390) Split: x55 < 51.5\n",
       "                      391) Predict: 47.39, 12 points, error 43.3\n",
       "                      392) Predict: 45.05, 10 points, error 6.225\n",
       "                    393) Split: x454 < 56\n",
       "                      394) Predict: 57.1, 13 points, error 34.31\n",
       "                      395) Predict: 52.47, 31 points, error 145.7\n",
       "                396) Predict: 41.43, 14 points, error 231.4\n",
       "              397) Split: x234 < 30.28\n",
       "                398) Split: x69 < 30.18\n",
       "                  399) Split: x432 < 30.15\n",
       "                    400) Split: x210 < 30.09\n",
       "                      401) Predict: 53.34, 38 points, error 502.2\n",
       "                      402) Predict: 62.33, 15 points, error 305.3\n",
       "                    403) Split: x370 < 59.5\n",
       "                      404) Predict: 61.11, 19 points, error 92.11\n",
       "                      405) Predict: 71.81, 21 points, error 281.2\n",
       "                  406) Split: x198 < 30.09\n",
       "                    407) Split: x507 < 10.5\n",
       "                      408) Predict: 70.18, 11 points, error 123.1\n",
       "                      409) Predict: 77.09, 11 points, error 48.41\n",
       "                    410) Predict: 61.82, 11 points, error 17.64\n",
       "                411) Split: x114 < 30.21\n",
       "                  412) Predict: 49.64, 22 points, error 39.09\n",
       "                  413) Predict: 59.63, 10 points, error 136.1\n",
       "            414) Split: x132 < 29.93\n",
       "              415) Split: x369 < 29.88\n",
       "                416) Predict: 76.89, 14 points, error 1017.1\n",
       "                417) Split: x76 < 65.25\n",
       "                  418) Split: x279 < 30.01\n",
       "                    419) Split: x3 < 30.05\n",
       "                      420) Predict: 63.75, 16 points, error 49\n",
       "                      421) Predict: 70.86, 21 points, error 422.6\n",
       "                    422) Split: x498 < 30.07\n",
       "                      423) Predict: 60.18, 34 points, error 294.9\n",
       "                      424) Predict: 72.81, 16 points, error 302.4\n",
       "                  425) Predict: 78.21, 13 points, error 273.9\n",
       "              426) Split: x477 < 29.86\n",
       "                427) Split: x115 < 68.5\n",
       "                  428) Split: x232 < 57.17\n",
       "                    429) Predict: 50.6, 10 points, error 50.4\n",
       "                    430) Predict: 53.58, 13 points, error 18.92\n",
       "                  431) Split: x10 < 54.63\n",
       "                    432) Predict: 58.33, 10 points, error 53.33\n",
       "                    433) Predict: 62.07, 15 points, error 8.933\n",
       "                434) Split: x335 < 0.0125\n",
       "                  435) Split: x196 < 66\n",
       "                    436) Split: x67 < 58.5\n",
       "                      437) Predict: 74.84, 10 points, error 108.4\n",
       "                      438) Predict: 60.53, 41 points, error 228.6\n",
       "                    439) Split: x343 < 59.5\n",
       "                      440) Predict: 59.19, 18 points, error 132.6\n",
       "                      441) Predict: 70.13, 28 points, error 366.1\n",
       "                  442) Predict: 55.79, 13 points, error 196\n",
       "      443) Split: x490 < 72.71\n",
       "        444) Split: x502 < 62.58\n",
       "          445) Split: x202 < 52.75\n",
       "            446) Split: x258 < 29.79\n",
       "              447) Predict: 64.43, 12 points, error 2020.5\n",
       "              448) Split: x48 < 29.71\n",
       "                449) Predict: 43.27, 15 points, error 398.9\n",
       "                450) Split: x118 < 47.5\n",
       "                  451) Predict: 58.27, 10 points, error 269.8\n",
       "                  452) Split: x18 < 29.95\n",
       "                    453) Predict: 47.82, 18 points, error 81.98\n",
       "                    454) Predict: 52.78, 16 points, error 171.5\n",
       "            455) Split: x100 < 55.5\n",
       "              456) Split: x405 < 29.95\n",
       "                457) Predict: 83.09, 11 points, error 190.9\n",
       "                458) Split: x130 < 62.5\n",
       "                  459) Predict: 58.35, 15 points, error 247\n",
       "                  460) Predict: 72.92, 13 points, error 238.9\n",
       "              461) Split: x352 < 63.5\n",
       "                462) Split: x424 < 52.71\n",
       "                  463) Split: x31 < 64.5\n",
       "                    464) Split: x447 < 29.84\n",
       "                      465) Predict: 55.08, 13 points, error 54.92\n",
       "                      466) Predict: 64.1, 13 points, error 94.31\n",
       "                    467) Split: x3 < 29.95\n",
       "                      468) Predict: 55.39, 14 points, error 105.1\n",
       "                      469) Predict: 48.37, 19 points, error 72.64\n",
       "                  470) Split: x365 < 0.00075\n",
       "                    471) Split: x60 < 29.84\n",
       "                      472) Predict: 69.52, 14 points, error 127.9\n",
       "                      473) Predict: 60.21, 96 points, error 2990.9\n",
       "                    474) Split: x139 < 58.5\n",
       "                      475) Predict: 55.87, 16 points, error 211.8\n",
       "                      476) Predict: 67.71, 21 points, error 234.3\n",
       "                477) Split: x417 < 29.65\n",
       "                  478) Predict: 79.3, 10 points, error 284.1\n",
       "                  479) Split: x303 < 29.88\n",
       "                    480) Split: x289 < 72.5\n",
       "                      481) Predict: 69.33, 12 points, error 21.17\n",
       "                      482) Predict: 73.56, 10 points, error 190.2\n",
       "                    483) Split: x177 < 30.02\n",
       "                      484) Predict: 57.12, 25 points, error 111.3\n",
       "                      485) Predict: 63.44, 82 points, error 1754.9\n",
       "          486) Split: x289 < 65.5\n",
       "            487) Split: x444 < 29.88\n",
       "              488) Split: x265 < 62.5\n",
       "                489) Split: x159 < 30.09\n",
       "                  490) Predict: 52.45, 10 points, error 105.4\n",
       "                  491) Predict: 60.4, 10 points, error 40.4\n",
       "                492) Split: x84 < 30.11\n",
       "                  493) Predict: 65.08, 12 points, error 256.9\n",
       "                  494) Predict: 58.23, 10 points, error 122.1\n",
       "              495) Split: x141 < 30.09\n",
       "                496) Split: x48 < 30.12\n",
       "                  497) Split: x79 < 60.5\n",
       "                    498) Split: x471 < 30.06\n",
       "                      499) Predict: 62.5, 10 points, error 318.5\n",
       "                      500) Predict: 70.3, 15 points, error 154.9\n",
       "                    501) Split: x94 < 69.5\n",
       "                      502) Predict: 82.3, 10 points, error 184.1\n",
       "                      503) Predict: 72.34, 42 points, error 669.4\n",
       "                  504) Split: x123 < 29.98\n",
       "                    505) Predict: 57.65, 10 points, error 129\n",
       "                    506) Predict: 66.51, 13 points, error 437\n",
       "                507) Split: x471 < 30.12\n",
       "                  508) Split: x10 < 69.13\n",
       "                    509) Split: x357 < 30.16\n",
       "                      510) Predict: 53.28, 18 points, error 33.61\n",
       "                      511) Predict: 58, 11 points, error 30\n",
       "                    512) Predict: 63.4, 10 points, error 102.4\n",
       "                  513) Split: x55 < 62.5\n",
       "                    514) Predict: 61.8, 10 points, error 203.6\n",
       "                    515) Split: x12 < 29.84\n",
       "                      516) Predict: 74.52, 10 points, error 78.43\n",
       "                      517) Predict: 67.47, 36 points, error 106.6\n",
       "            518) Split: x445 < 76.25\n",
       "              519) Split: x4 < 73.67\n",
       "                520) Split: x339 < 30.2\n",
       "                  521) Split: x147 < 30.07\n",
       "                    522) Split: x360 < 30.07\n",
       "                      523) Predict: 66.57, 81 points, error 802\n",
       "                      524) Predict: 74.57, 39 points, error 489.4\n",
       "                    525) Split: x506 < 9.5\n",
       "                      526) Predict: 60.88, 25 points, error 136.6\n",
       "                      527) Predict: 66.62, 82 points, error 2041.7\n",
       "                  528) Split: x73 < 60.5\n",
       "                    529) Predict: 62.9, 10 points, error 86.9\n",
       "                    530) Split: x331 < 66.75\n",
       "                      531) Predict: 80.44, 15 points, error 98.15\n",
       "                      532) Predict: 69.66, 31 points, error 219.8\n",
       "                533) Split: x502 < 71.29\n",
       "                  534) Split: x228 < 30.02\n",
       "                    535) Split: x474 < 30.11\n",
       "                      536) Predict: 71.2, 55 points, error 351.8\n",
       "                      537) Predict: 76.3, 12 points, error 155.6\n",
       "                    538) Split: x507 < 6.5\n",
       "                      539) Predict: 65.96, 22 points, error 78.56\n",
       "                      540) Predict: 69.6, 55 points, error 366.6\n",
       "                  541) Split: x100 < 75.5\n",
       "                    542) Split: x322 < 67.5\n",
       "                      543) Predict: 68.65, 12 points, error 97.75\n",
       "                      544) Predict: 75.73, 32 points, error 460\n",
       "                    545) Split: x430 < 71.25\n",
       "                      546) Predict: 73.85, 13 points, error 133.4\n",
       "                      547) Predict: 83.69, 18 points, error 507.1\n",
       "              548) Split: x145 < 69.25\n",
       "                549) Split: x186 < 30.18\n",
       "                  550) Split: x4 < 69.25\n",
       "                    551) Predict: 67, 12 points, error 168\n",
       "                    552) Predict: 77.94, 17 points, error 170.9\n",
       "                  553) Predict: 64.83, 10 points, error 94.5\n",
       "                554) Split: x253 < 80.5\n",
       "                  555) Split: x9 < 30.13\n",
       "                    556) Split: x411 < 29.91\n",
       "                      557) Predict: 76.38, 20 points, error 472.4\n",
       "                      558) Predict: 85.99, 26 points, error 591.7\n",
       "                    559) Split: x197 < 0.0008333\n",
       "                      560) Predict: 72.95, 19 points, error 90.95\n",
       "                      561) Predict: 77.9, 10 points, error 82.9\n",
       "                  562) Split: x483 < 30.2\n",
       "                    563) Predict: 69.09, 17 points, error 153.1\n",
       "                    564) Predict: 75.57, 10 points, error 158.2\n",
       "        565) Split: x349 < 61.5\n",
       "          566) Split: x207 < 29.95\n",
       "            567) Predict: 81.1, 10 points, error 448.9\n",
       "            568) Split: x109 < 61\n",
       "              569) Predict: 57.58, 15 points, error 38.15\n",
       "              570) Predict: 63.33, 10 points, error 53.33\n",
       "          571) Split: x144 < 29.93\n",
       "            572) Split: x283 < 69.5\n",
       "              573) Split: x40 < 70.5\n",
       "                574) Split: x229 < 63.5\n",
       "                  575) Predict: 73.64, 11 points, error 362.5\n",
       "                  576) Split: x73 < 63.75\n",
       "                    577) Predict: 79.1, 10 points, error 76.9\n",
       "                    578) Predict: 83.79, 14 points, error 78.36\n",
       "                579) Split: x198 < 30.02\n",
       "                  580) Split: x373 < 67.5\n",
       "                    581) Predict: 72.67, 12 points, error 140.7\n",
       "                    582) Predict: 77.7, 11 points, error 117.9\n",
       "                  583) Predict: 69.5, 10 points, error 98.5\n",
       "              584) Split: x502 < 75.5\n",
       "                585) Split: x192 < 29.91\n",
       "                  586) Predict: 79.6, 10 points, error 208.4\n",
       "                  587) Predict: 70.65, 17 points, error 97.88\n",
       "                588) Split: x333 < 30.16\n",
       "                  589) Split: x87 < 29.81\n",
       "                    590) Split: x394 < 69.7\n",
       "                      591) Predict: 83.38, 13 points, error 199.1\n",
       "                      592) Predict: 89.87, 15 points, error 81.73\n",
       "                    593) Split: x159 < 29.82\n",
       "                      594) Predict: 84.2, 20 points, error 135.2\n",
       "                      595) Predict: 78.77, 20 points, error 85.24\n",
       "                  596) Split: x289 < 73.5\n",
       "                    597) Predict: 83.14, 14 points, error 111.7\n",
       "                    598) Split: x256 < 68.5\n",
       "                      599) Predict: 95.4, 10 points, error 10.4\n",
       "                      600) Predict: 91.8, 10 points, error 37.6\n",
       "            601) Split: x226 < 75.25\n",
       "              602) Split: x76 < 71.75\n",
       "                603) Split: x345 < 29.78\n",
       "                  604) Split: x274 < 69.83\n",
       "                    605) Predict: 65.27, 11 points, error 36.18\n",
       "                    606) Predict: 69.08, 12 points, error 20.92\n",
       "                  607) Split: x450 < 29.91\n",
       "                    608) Split: x498 < 29.76\n",
       "                      609) Predict: 59.41, 17 points, error 104.1\n",
       "                      610) Predict: 69.44, 28 points, error 443\n",
       "                    611) Split: x162 < 30.24\n",
       "                      612) Predict: 75.5, 109 points, error 2178.4\n",
       "                      613) Predict: 69.68, 43 points, error 381.2\n",
       "                614) Split: x4 < 92.5\n",
       "                  615) Split: x381 < 30.23\n",
       "                    616) Split: x1 < 68.75\n",
       "                      617) Predict: 87.63, 12 points, error 429.6\n",
       "                      618) Predict: 75.84, 142 points, error 2079.6\n",
       "                    619) Split: x243 < 30.09\n",
       "                      620) Predict: 71.3, 10 points, error 66.1\n",
       "                      621) Predict: 65.6, 10 points, error 52.4\n",
       "                  622) Predict: 87.92, 12 points, error 300.5\n",
       "              623) Split: x310 < 82.25\n",
       "                624) Split: x399 < 30.09\n",
       "                  625) Split: x258 < 30.06\n",
       "                    626) Split: x66 < 30.18\n",
       "                      627) Predict: 71.77, 31 points, error 192.8\n",
       "                      628) Predict: 78.08, 12 points, error 46.92\n",
       "                    629) Split: x450 < 29.91\n",
       "                      630) Predict: 84.24, 17 points, error 291.9\n",
       "                      631) Predict: 77.97, 60 points, error 869.1\n",
       "                  632) Split: x506 < 10.5\n",
       "                    633) Split: x57 < 30.12\n",
       "                      634) Predict: 82.52, 76 points, error 1470.9\n",
       "                      635) Predict: 92.31, 16 points, error 49.44\n",
       "                    636) Split: x506 < 20\n",
       "                      637) Predict: 72.04, 11 points, error 44.68\n",
       "                      638) Predict: 83.71, 12 points, error 170.2\n",
       "                639) Split: x129 < 30.15\n",
       "                  640) Split: x285 < 29.96\n",
       "                    641) Predict: 70.05, 16 points, error 28.43\n",
       "                    642) Split: x108 < 30.11\n",
       "                      643) Predict: 77.22, 18 points, error 241.1\n",
       "                      644) Predict: 83.33, 12 points, error 172.7\n",
       "                  645) Split: x142 < 74.5\n",
       "                    646) Predict: 68.69, 13 points, error 42.77\n",
       "                    647) Predict: 72.1, 10 points, error 8.9"
      ]
     },
     "execution_count": 49,
     "metadata": {},
     "output_type": "execute_result"
    }
   ],
   "source": [
    "@time begin\n",
    "grid = IAI.GridSearch(\n",
    "    IAI.OptimalTreeRegressor(\n",
    "        random_seed=123,\n",
    "        show_progress=false\n",
    "    ),\n",
    "    max_depth = 5:10,\n",
    "    minbucket = 10, #10:10:100\n",
    "    show_progress=false  \n",
    ")\n",
    "IAI.fit!(grid, train_X, train_y)\n",
    "end"
   ]
  },
  {
   "cell_type": "code",
   "execution_count": 54,
   "metadata": {
    "execution": {
     "iopub.execute_input": "2020-12-07T15:08:13.133000+01:00",
     "iopub.status.busy": "2020-12-07T15:08:13.132000+01:00",
     "iopub.status.idle": "2020-12-07T15:08:13.193000+01:00"
    }
   },
   "outputs": [
    {
     "data": {
      "text/plain": [
       "0.9441814168562882"
      ]
     },
     "execution_count": 54,
     "metadata": {},
     "output_type": "execute_result"
    }
   ],
   "source": [
    "lnr = IAI.get_learner(grid)\n",
    "IAI.score(lnr, test_X, test_y)  # Testing on the same year"
   ]
  },
  {
   "cell_type": "code",
   "execution_count": 55,
   "metadata": {
    "execution": {
     "iopub.execute_input": "2020-12-07T15:08:38.013000+01:00",
     "iopub.status.busy": "2020-12-07T15:08:38.011000+01:00",
     "iopub.status.idle": "2020-12-07T15:08:40.906000+01:00"
    }
   },
   "outputs": [
    {
     "data": {
      "text/plain": [
       "([40.0 0.0 … 9.0 0.0; 40.0 0.0 … 9.0 1.0; … ; 53.0 0.0 … 3.0 22.0; 53.0 0.0 … 3.0 23.0], [29.0, 28.0, 28.0, 27.0, 26.0, 25.0, 24.0, 23.0, 23.0, 25.0  …  41.0, 41.0, 40.0, 38.0, 37.0, 35.0, 34.0, 33.0, 33.0, 33.0])"
      ]
     },
     "execution_count": 55,
     "metadata": {},
     "output_type": "execute_result"
    }
   ],
   "source": [
    "start = 2019, 1, 1\n",
    "ndays = 365-dayslookback-1\n",
    "test_X1, test_y1 = build_multi_data(mdata, predicttype, start, dayslookback,\n",
    " ndays; offset=offset);\n",
    "\n",
    "start = 2020, 1, 1\n",
    "ndays = 300 # since we don't have days until the end\n",
    "test_X2, test_y2 = build_multi_data(mdata, predicttype, start, dayslookback, \n",
    "    ndays; offset=offset)"
   ]
  },
  {
   "cell_type": "code",
   "execution_count": 56,
   "metadata": {
    "execution": {
     "iopub.execute_input": "2020-12-07T15:08:47.224000+01:00",
     "iopub.status.busy": "2020-12-07T15:08:47.224000+01:00",
     "iopub.status.idle": "2020-12-07T15:08:47.431000+01:00"
    }
   },
   "outputs": [
    {
     "data": {
      "text/plain": [
       "0.5693326519703015"
      ]
     },
     "execution_count": 56,
     "metadata": {},
     "output_type": "execute_result"
    }
   ],
   "source": [
    "score1 = IAI.score(lnr, test_X1, test_y1)  \n",
    "score2 = IAI.score(lnr, test_X2, test_y2)"
   ]
  },
  {
   "cell_type": "code",
   "execution_count": 57,
   "metadata": {
    "execution": {
     "iopub.execute_input": "2020-12-07T15:08:51.696000+01:00",
     "iopub.status.busy": "2020-12-07T15:08:51.696000+01:00",
     "iopub.status.idle": "2020-12-07T15:08:51.701000+01:00"
    }
   },
   "outputs": [
    {
     "data": {
      "text/plain": [
       "0.6544199474139569"
      ]
     },
     "execution_count": 57,
     "metadata": {},
     "output_type": "execute_result"
    }
   ],
   "source": [
    "score1"
   ]
  },
  {
   "cell_type": "code",
   "execution_count": null,
   "metadata": {},
   "outputs": [],
   "source": []
  }
 ],
 "metadata": {
  "kernelspec": {
   "display_name": "Julia 1.0.5",
   "language": "julia",
   "name": "julia-1.0"
  },
  "language_info": {
   "file_extension": ".jl",
   "mimetype": "application/julia",
   "name": "julia",
   "version": "1.0.5"
  }
 },
 "nbformat": 4,
 "nbformat_minor": 4
}
