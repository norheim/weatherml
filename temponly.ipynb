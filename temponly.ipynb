{
 "cells": [
  {
   "cell_type": "code",
   "execution_count": 1,
   "metadata": {
    "execution": {
     "iopub.execute_input": "2020-12-07T13:04:25.581000+01:00",
     "iopub.status.busy": "2020-12-07T13:04:23.028000+01:00",
     "iopub.status.idle": "2020-12-07T13:04:59.199000+01:00"
    }
   },
   "outputs": [],
   "source": [
    "using DataFrames, CSV, Impute, Dates, Plots, Statistics, Interpolations"
   ]
  },
  {
   "cell_type": "code",
   "execution_count": 2,
   "metadata": {
    "execution": {
     "iopub.execute_input": "2020-12-07T13:05:07.080000+01:00",
     "iopub.status.busy": "2020-12-07T13:04:59.199000+01:00",
     "iopub.status.idle": "2020-12-07T13:05:16.402000+01:00"
    }
   },
   "outputs": [],
   "source": [
    "include(\"utils.jl\");"
   ]
  },
  {
   "cell_type": "markdown",
   "metadata": {},
   "source": [
    "## Choose data file"
   ]
  },
  {
   "cell_type": "code",
   "execution_count": 3,
   "metadata": {
    "execution": {
     "iopub.execute_input": "2020-12-07T13:05:16.404000+01:00",
     "iopub.status.busy": "2020-12-07T13:05:16.404000+01:00",
     "iopub.status.idle": "2020-12-07T13:05:16.926000+01:00"
    }
   },
   "outputs": [],
   "source": [
    "choice = \"boston_18_20\";"
   ]
  },
  {
   "cell_type": "code",
   "execution_count": 4,
   "metadata": {
    "execution": {
     "iopub.execute_input": "2020-12-07T13:05:16.931000+01:00",
     "iopub.status.busy": "2020-12-07T13:05:16.930000+01:00",
     "iopub.status.idle": "2020-12-07T13:05:37.325000+01:00"
    }
   },
   "outputs": [],
   "source": [
    "df = CSV.File(string(\"data/\", choice, \".csv\")) |> DataFrame;"
   ]
  },
  {
   "cell_type": "code",
   "execution_count": 5,
   "metadata": {
    "execution": {
     "iopub.execute_input": "2020-12-07T13:05:37.325000+01:00",
     "iopub.status.busy": "2020-12-07T13:05:37.325000+01:00",
     "iopub.status.idle": "2020-12-07T13:05:41.223000+01:00"
    }
   },
   "outputs": [
    {
     "data": {
      "text/plain": [
       "0"
      ]
     },
     "execution_count": 5,
     "metadata": {},
     "output_type": "execute_result"
    }
   ],
   "source": [
    "dfdaily = filter(row -> strip(row[:REPORT_TYPE]) == \"SOD\", df);\n",
    "dfh = filter(row -> !(strip(row[:REPORT_TYPE]) in [\"SOD\", \"SOM\"]), df)\n",
    "sum(ismissing.(dfh[:, :HourlyDryBulbTemperature]))"
   ]
  },
  {
   "cell_type": "code",
   "execution_count": 8,
   "metadata": {
    "execution": {
     "iopub.execute_input": "2020-12-07T13:06:02.074000+01:00",
     "iopub.status.busy": "2020-12-07T13:06:02.070000+01:00",
     "iopub.status.idle": "2020-12-07T13:06:02.088000+01:00"
    }
   },
   "outputs": [],
   "source": [
    "factors =  [(:HourlyDryBulbTemperature,:temp)];"
   ]
  },
  {
   "cell_type": "code",
   "execution_count": 9,
   "metadata": {
    "execution": {
     "iopub.execute_input": "2020-12-07T13:06:02.091000+01:00",
     "iopub.status.busy": "2020-12-07T13:06:02.091000+01:00",
     "iopub.status.idle": "2020-12-07T13:06:02.239000+01:00"
    }
   },
   "outputs": [
    {
     "data": {
      "text/html": [
       "<table class=\"data-frame\"><thead><tr><th></th><th>sampleT</th><th>temp</th></tr><tr><th></th><th>DateTime</th><th>Float64</th></tr></thead><tbody><p>4 rows × 2 columns</p><tr><th>1</th><td>2018-01-01T01:00:00</td><td>2.0</td></tr><tr><th>2</th><td>2018-01-01T02:00:00</td><td>1.0</td></tr><tr><th>3</th><td>2018-01-01T03:00:00</td><td>1.0</td></tr><tr><th>4</th><td>2018-01-01T04:00:00</td><td>1.0</td></tr></tbody></table>"
      ],
      "text/latex": [
       "\\begin{tabular}{r|cc}\n",
       "\t& sampleT & temp\\\\\n",
       "\t\\hline\n",
       "\t& DateTime & Float64\\\\\n",
       "\t\\hline\n",
       "\t1 & 2018-01-01T01:00:00 & 2.0 \\\\\n",
       "\t2 & 2018-01-01T02:00:00 & 1.0 \\\\\n",
       "\t3 & 2018-01-01T03:00:00 & 1.0 \\\\\n",
       "\t4 & 2018-01-01T04:00:00 & 1.0 \\\\\n",
       "\\end{tabular}\n"
      ],
      "text/plain": [
       "4×2 DataFrame\n",
       "│ Row │ sampleT             │ temp    │\n",
       "│     │ \u001b[90mDateTime\u001b[39m            │ \u001b[90mFloat64\u001b[39m │\n",
       "├─────┼─────────────────────┼─────────┤\n",
       "│ 1   │ 2018-01-01T01:00:00 │ 2.0     │\n",
       "│ 2   │ 2018-01-01T02:00:00 │ 1.0     │\n",
       "│ 3   │ 2018-01-01T03:00:00 │ 1.0     │\n",
       "│ 4   │ 2018-01-01T04:00:00 │ 1.0     │"
      ]
     },
     "execution_count": 9,
     "metadata": {},
     "output_type": "execute_result"
    }
   ],
   "source": [
    "mdata = selectdata(dfh, factors);\n",
    "first(mdata, 4)"
   ]
  },
  {
   "cell_type": "markdown",
   "metadata": {},
   "source": [
    "## Define characteristic of training set"
   ]
  },
  {
   "cell_type": "code",
   "execution_count": 12,
   "metadata": {
    "execution": {
     "iopub.execute_input": "2020-12-07T13:06:55.385000+01:00",
     "iopub.status.busy": "2020-12-07T13:06:55.384000+01:00",
     "iopub.status.idle": "2020-12-07T13:06:55.506000+01:00"
    }
   },
   "outputs": [],
   "source": [
    "start = 2018, 1, 2\n",
    "dayslookback = 7\n",
    "ndays = 360\n",
    "predicttype = :temp\n",
    "offset = 1;"
   ]
  },
  {
   "cell_type": "code",
   "execution_count": 13,
   "metadata": {
    "execution": {
     "iopub.execute_input": "2020-12-07T13:06:56.407000+01:00",
     "iopub.status.busy": "2020-12-07T13:06:56.407000+01:00",
     "iopub.status.idle": "2020-12-07T13:06:56.552000+01:00"
    }
   },
   "outputs": [],
   "source": [
    "X, y = build_multi_data(mdata, predicttype, start, dayslookback, ndays; offset=offset);"
   ]
  },
  {
   "cell_type": "code",
   "execution_count": 14,
   "metadata": {
    "execution": {
     "iopub.execute_input": "2020-12-07T13:06:57.961000+01:00",
     "iopub.status.busy": "2020-12-07T13:06:57.961000+01:00",
     "iopub.status.idle": "2020-12-07T13:06:58.796000+01:00"
    }
   },
   "outputs": [],
   "source": [
    "(train_X, train_y), (test_X, test_y) = IAI.split_data(:regression, X, y);"
   ]
  },
  {
   "cell_type": "code",
   "execution_count": 15,
   "metadata": {
    "execution": {
     "iopub.execute_input": "2020-12-07T13:07:04.002000+01:00",
     "iopub.status.busy": "2020-12-07T13:07:04.001000+01:00",
     "iopub.status.idle": "2020-12-07T14:17:56.494000+01:00"
    }
   },
   "outputs": [
    {
     "name": "stderr",
     "output_type": "stream",
     "text": [
      "┌ Warning: This copy of Interpretable AI software is for academic purposes only and not for commercial use.\n",
      "└ @ IAILicensing C:\\Users\\iai\\builds\\InterpretableAI\\SysImgBuilder\\.julia\\packages\\IAILicensing\\x1CT6\\src\\precompile.jl:19\n",
      "┌ Warning: Interpretable AI license expires soon: 2020-12-31. If you need to renew, please send us the following machine ID:\n",
      "│ 1d23b3eee464c21ff412aa6a5b247b9f0543ded03e05d39d863fbfc9241e7a1f\n",
      "└ @ IAILicensing C:\\Users\\iai\\builds\\InterpretableAI\\SysImgBuilder\\.julia\\packages\\IAILicensing\\x1CT6\\src\\precompile.jl:29\n"
     ]
    },
    {
     "name": "stdout",
     "output_type": "stream",
     "text": [
      "4250.509310 seconds (32.81 M allocations: 2.335 GiB, 0.09% gc time)\n"
     ]
    },
    {
     "data": {
      "text/plain": [
       "All Grid Results:\n",
       "\n",
       "│ Row │ show_progress │ minbucket │ max_depth │ cp         │ train_score │\n",
       "│     │ \u001b[90mBool\u001b[39m          │ \u001b[90mInt64\u001b[39m     │ \u001b[90mInt64\u001b[39m     │ \u001b[90mFloat64\u001b[39m    │ \u001b[90mFloat64\u001b[39m     │\n",
       "├─────┼───────────────┼───────────┼───────────┼────────────┼─────────────┤\n",
       "│ 1   │ false         │ 10        │ 5         │ 1.41321e-5 │ 0.989181    │\n",
       "│ 2   │ false         │ 10        │ 6         │ 9.14544e-6 │ 0.990902    │\n",
       "│ 3   │ false         │ 10        │ 7         │ 3.02208e-5 │ 0.991885    │\n",
       "│ 4   │ false         │ 10        │ 8         │ 1.83949e-5 │ 0.992795    │\n",
       "│ 5   │ false         │ 10        │ 9         │ 1.69718e-5 │ 0.992271    │\n",
       "│ 6   │ false         │ 10        │ 10        │ 1.66926e-5 │ 0.992398    │\n",
       "\n",
       "│ Row │ valid_score │ rank_valid_score │\n",
       "│     │ \u001b[90mFloat64\u001b[39m     │ \u001b[90mInt64\u001b[39m            │\n",
       "├─────┼─────────────┼──────────────────┤\n",
       "│ 1   │ 0.988076    │ 2                │\n",
       "│ 2   │ 0.988428    │ 1                │\n",
       "│ 3   │ 0.987299    │ 3                │\n",
       "│ 4   │ 0.986626    │ 4                │\n",
       "│ 5   │ 0.98356     │ 5                │\n",
       "│ 6   │ 0.982031    │ 6                │\n",
       "\n",
       "Best Params:\n",
       "  max_depth => 6\n",
       "  minbucket => 10\n",
       "  cp => 9.145439390478328e-6\n",
       "  show_progress => false\n",
       "\n",
       "Best Model - Fitted OptimalTreeRegressor:\n",
       "  1) Split: x168 < 57.58\n",
       "    2) Split: x168 < 39.42\n",
       "      3) Split: x168 < 30.25\n",
       "        4) Split: x168 < 24.83\n",
       "          5) Split: x168 < 18.5\n",
       "            6) Split: x85 < 31.5\n",
       "              7) Predict: 11.9, 10 points, error 16.9\n",
       "              8) Predict: 16.2, 47 points, error 99.91\n",
       "            9) Split: x168 < 21.43\n",
       "              10) Predict: 20.35, 59 points, error 112.5\n",
       "              11) Predict: 23.3, 60 points, error 111.3\n",
       "          12) Split: x133 < 29.5\n",
       "            13) Split: x168 < 29.5\n",
       "              14) Predict: 28.33, 45 points, error 62\n",
       "              15) Predict: 30.51, 25 points, error 48.03\n",
       "            16) Split: x168 < 27.25\n",
       "              17) Predict: 26.01, 105 points, error 256.3\n",
       "              18) Predict: 29.15, 124 points, error 325.4\n",
       "        19) Split: x168 < 35.13\n",
       "          20) Split: x168 < 33.58\n",
       "            21) Split: x168 < 32.13\n",
       "              22) Predict: 31.79, 214 points, error 393\n",
       "              23) Predict: 33.15, 134 points, error 178.1\n",
       "            24) Split: x166 < 32.13\n",
       "              25) Predict: 35.95, 27 points, error 34.38\n",
       "              26) Predict: 34.29, 202 points, error 255.8\n",
       "          27) Split: x168 < 37.25\n",
       "            28) Split: x165 < 34.25\n",
       "              29) Predict: 37.67, 48 points, error 143.5\n",
       "              30) Predict: 36.27, 233 points, error 381.3\n",
       "            31) Split: x165 < 35.5\n",
       "              32) Predict: 39.92, 45 points, error 323.9\n",
       "              33) Predict: 38.33, 278 points, error 410.5\n",
       "      34) Split: x168 < 49.13\n",
       "        35) Split: x168 < 44.77\n",
       "          36) Split: x168 < 41.75\n",
       "            37) Split: x164 < 38.63\n",
       "              38) Predict: 41.19, 80 points, error 181.6\n",
       "              39) Predict: 40.16, 188 points, error 207.6\n",
       "            40) Split: x168 < 42.58\n",
       "              41) Predict: 41.94, 95 points, error 209.7\n",
       "              42) Predict: 43.64, 209 points, error 724.5\n",
       "          43) Split: x171 < 15.5\n",
       "            44) Split: x168 < 46.17\n",
       "              45) Predict: 45.91, 126 points, error 285.4\n",
       "              46) Predict: 48.33, 215 points, error 602.8\n",
       "            47) Split: x168 < 47.42\n",
       "              48) Predict: 44.95, 110 points, error 193.1\n",
       "              49) Predict: 47.73, 82 points, error 168.3\n",
       "        50) Split: x168 < 53.21\n",
       "          51) Split: x171 < 15.5\n",
       "            52) Split: x168 < 51.58\n",
       "              53) Predict: 50.8, 143 points, error 264\n",
       "              54) Predict: 52.99, 98 points, error 368.1\n",
       "            55) Split: x168 < 51.13\n",
       "              56) Predict: 49.73, 83 points, error 149.8\n",
       "              57) Predict: 51.76, 70 points, error 119.2\n",
       "          58) Split: x167 < 55.88\n",
       "            59) Split: x168 < 54.88\n",
       "              60) Predict: 54.3, 98 points, error 345.3\n",
       "              61) Predict: 56.95, 82 points, error 367.3\n",
       "            62) Split: x168 < 56.13\n",
       "              63) Predict: 54.6, 90 points, error 395.8\n",
       "              64) Predict: 56.66, 70 points, error 143.6\n",
       "    65) Split: x168 < 69.37\n",
       "      66) Split: x168 < 61.13\n",
       "        67) Split: x168 < 59.75\n",
       "          68) Split: x165 < 55.29\n",
       "            69) Split: x167 < 57.83\n",
       "              70) Predict: 59.75, 30 points, error 82.17\n",
       "              71) Predict: 56.85, 12 points, error 30.31\n",
       "            72) Split: x124 < 70.5\n",
       "              73) Predict: 58.11, 112 points, error 169.2\n",
       "              74) Predict: 59.2, 33 points, error 67.44\n",
       "          75) Split: x152 < 52\n",
       "            76) Predict: 58.56, 15 points, error 94.81\n",
       "            77) Split: x168 < 60.29\n",
       "              78) Predict: 60.22, 66 points, error 136.5\n",
       "              79) Predict: 61.19, 76 points, error 171.5\n",
       "        80) Split: x168 < 66.1\n",
       "          81) Split: x168 < 63.13\n",
       "            82) Split: x165 < 56.5\n",
       "              83) Predict: 64.57, 14 points, error 39.93\n",
       "              84) Predict: 62.29, 180 points, error 446.8\n",
       "            85) Split: x168 < 64.25\n",
       "              86) Predict: 64.12, 88 points, error 347.9\n",
       "              87) Predict: 65.51, 152 points, error 648.7\n",
       "          88) Split: x145 < 51.5\n",
       "            89) Predict: 64.1, 10 points, error 330.9\n",
       "            90) Split: x168 < 68.83\n",
       "              91) Predict: 67.63, 250 points, error 608\n",
       "              92) Predict: 68.91, 103 points, error 474.4\n",
       "      93) Split: x168 < 79.13\n",
       "        94) Split: x168 < 76.75\n",
       "          95) Split: x168 < 73.42\n",
       "            96) Split: x168 < 71.29\n",
       "              97) Predict: 70.48, 249 points, error 757.6\n",
       "              98) Predict: 72.57, 198 points, error 833.1\n",
       "            99) Split: x168 < 75.42\n",
       "              100) Predict: 74.61, 193 points, error 828.1\n",
       "              101) Predict: 76.23, 103 points, error 496.5\n",
       "          102) Split: x171 < 5.5\n",
       "            103) Split: x168 < 77.83\n",
       "              104) Predict: 76.36, 13 points, error 12.1\n",
       "              105) Predict: 78.34, 24 points, error 52.92\n",
       "            106) Split: x171 < 11.5\n",
       "              107) Predict: 80.04, 45 points, error 144.8\n",
       "              108) Predict: 77.24, 138 points, error 624.8\n",
       "        109) Split: x168 < 83.5\n",
       "          110) Split: x168 < 80.25\n",
       "            111) Split: x103 < 66.5\n",
       "              112) Predict: 77, 11 points, error 88\n",
       "              113) Predict: 80.42, 56 points, error 343.1\n",
       "            114) Split: x166 < 81.5\n",
       "              115) Predict: 83.17, 66 points, error 282.5\n",
       "              116) Predict: 80.66, 75 points, error 387.3\n",
       "          117) Split: x168 < 88.75\n",
       "            118) Split: x168 < 85.75\n",
       "              119) Predict: 83.84, 74 points, error 442.1\n",
       "              120) Predict: 86.17, 80 points, error 677.5\n",
       "            121) Split: x168 < 91.5\n",
       "              122) Predict: 89.41, 41 points, error 274.1\n",
       "              123) Predict: 93.74, 46 points, error 176.4"
      ]
     },
     "execution_count": 15,
     "metadata": {},
     "output_type": "execute_result"
    }
   ],
   "source": [
    "@time begin\n",
    "grid = IAI.GridSearch(\n",
    "    IAI.OptimalTreeRegressor(\n",
    "        random_seed=123,\n",
    "        show_progress=false\n",
    "    ),\n",
    "    max_depth = 5:10,\n",
    "    minbucket = 10, #10:10:100\n",
    "    show_progress=false  \n",
    ")\n",
    "IAI.fit!(grid, train_X, train_y)\n",
    "end"
   ]
  },
  {
   "cell_type": "code",
   "execution_count": 17,
   "metadata": {
    "execution": {
     "iopub.execute_input": "2020-12-07T14:17:56.700000+01:00",
     "iopub.status.busy": "2020-12-07T14:17:56.700000+01:00",
     "iopub.status.idle": "2020-12-07T14:17:58.654000+01:00"
    }
   },
   "outputs": [
    {
     "data": {
      "text/plain": [
       "0.9897658118974852"
      ]
     },
     "execution_count": 17,
     "metadata": {},
     "output_type": "execute_result"
    }
   ],
   "source": [
    "lnr = IAI.get_learner(grid)\n",
    "IAI.score(lnr, test_X, test_y)  # Testing on the same year"
   ]
  },
  {
   "cell_type": "code",
   "execution_count": 16,
   "metadata": {
    "execution": {
     "iopub.execute_input": "2020-12-07T14:17:56.496000+01:00",
     "iopub.status.busy": "2020-12-07T14:17:56.496000+01:00",
     "iopub.status.idle": "2020-12-07T14:17:56.697000+01:00"
    }
   },
   "outputs": [],
   "source": [
    "start = 2019, 1, 1\n",
    "dayslookback = 7\n",
    "ndays = 365-dayslookback-1\n",
    "outsample_X, outsample_y = build_multi_data(mdata, predicttype, start, dayslookback, ndays; offset=offset);"
   ]
  },
  {
   "cell_type": "code",
   "execution_count": null,
   "metadata": {},
   "outputs": [],
   "source": []
  }
 ],
 "metadata": {
  "kernelspec": {
   "display_name": "Julia 1.0.5",
   "language": "julia",
   "name": "julia-1.0"
  },
  "language_info": {
   "file_extension": ".jl",
   "mimetype": "application/julia",
   "name": "julia",
   "version": "1.0.5"
  }
 },
 "nbformat": 4,
 "nbformat_minor": 4
}
